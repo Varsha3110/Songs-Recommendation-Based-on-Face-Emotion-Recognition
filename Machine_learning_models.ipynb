{
  "cells": [
    {
      "cell_type": "code",
      "execution_count": null,
      "metadata": {
        "id": "YaIMeEJdo-fx"
      },
      "outputs": [],
      "source": [
        "import pandas as pd\n",
        "import numpy as np\n",
        "import matplotlib.pyplot as plt\n",
        "import seaborn as sns"
      ]
    },
    {
      "cell_type": "code",
      "source": [
        "from google.colab import drive\n",
        "drive.mount('/content/drive')"
      ],
      "metadata": {
        "id": "Xs-_2DUAfDbv",
        "colab": {
          "base_uri": "https://localhost:8080/"
        },
        "outputId": "9f4be4b5-2228-43af-ffb6-3a2066d15a18"
      },
      "execution_count": null,
      "outputs": [
        {
          "output_type": "stream",
          "name": "stdout",
          "text": [
            "Drive already mounted at /content/drive; to attempt to forcibly remount, call drive.mount(\"/content/drive\", force_remount=True).\n"
          ]
        }
      ]
    },
    {
      "cell_type": "code",
      "execution_count": null,
      "metadata": {
        "id": "SYJSXJdWfcrS"
      },
      "outputs": [],
      "source": [
        "df = pd.read_csv(r'drive/MyDrive/project/emotion.csv')"
      ]
    },
    {
      "cell_type": "code",
      "execution_count": null,
      "metadata": {
        "colab": {
          "base_uri": "https://localhost:8080/",
          "height": 206
        },
        "id": "MZlfi76Wi68L",
        "outputId": "ec1180ab-4a58-47bf-ef2a-a648d82277c0"
      },
      "outputs": [
        {
          "output_type": "execute_result",
          "data": {
            "text/plain": [
              "   Unnamed: 0     0                                                  1      2\n",
              "0           0  test  64 62 64 65 62 63 65 65 63 69 63 65 66 114 146...  angry\n",
              "1           1  test  121 139 145 130 129 132 144 137 132 142 122 14...  angry\n",
              "2           2  test  67 65 59 60 42 16 4 6 13 39 82 126 150 161 173...  angry\n",
              "3           3  test  92 93 90 85 207 237 226 226 233 233 218 202 20...  angry\n",
              "4           4  test  173 170 160 142 118 86 25 10 20 26 31 34 59 98...  angry"
            ],
            "text/html": [
              "\n",
              "  <div id=\"df-9a7864b4-891e-4aa3-ab87-9febf4dbfbac\">\n",
              "    <div class=\"colab-df-container\">\n",
              "      <div>\n",
              "<style scoped>\n",
              "    .dataframe tbody tr th:only-of-type {\n",
              "        vertical-align: middle;\n",
              "    }\n",
              "\n",
              "    .dataframe tbody tr th {\n",
              "        vertical-align: top;\n",
              "    }\n",
              "\n",
              "    .dataframe thead th {\n",
              "        text-align: right;\n",
              "    }\n",
              "</style>\n",
              "<table border=\"1\" class=\"dataframe\">\n",
              "  <thead>\n",
              "    <tr style=\"text-align: right;\">\n",
              "      <th></th>\n",
              "      <th>Unnamed: 0</th>\n",
              "      <th>0</th>\n",
              "      <th>1</th>\n",
              "      <th>2</th>\n",
              "    </tr>\n",
              "  </thead>\n",
              "  <tbody>\n",
              "    <tr>\n",
              "      <th>0</th>\n",
              "      <td>0</td>\n",
              "      <td>test</td>\n",
              "      <td>64 62 64 65 62 63 65 65 63 69 63 65 66 114 146...</td>\n",
              "      <td>angry</td>\n",
              "    </tr>\n",
              "    <tr>\n",
              "      <th>1</th>\n",
              "      <td>1</td>\n",
              "      <td>test</td>\n",
              "      <td>121 139 145 130 129 132 144 137 132 142 122 14...</td>\n",
              "      <td>angry</td>\n",
              "    </tr>\n",
              "    <tr>\n",
              "      <th>2</th>\n",
              "      <td>2</td>\n",
              "      <td>test</td>\n",
              "      <td>67 65 59 60 42 16 4 6 13 39 82 126 150 161 173...</td>\n",
              "      <td>angry</td>\n",
              "    </tr>\n",
              "    <tr>\n",
              "      <th>3</th>\n",
              "      <td>3</td>\n",
              "      <td>test</td>\n",
              "      <td>92 93 90 85 207 237 226 226 233 233 218 202 20...</td>\n",
              "      <td>angry</td>\n",
              "    </tr>\n",
              "    <tr>\n",
              "      <th>4</th>\n",
              "      <td>4</td>\n",
              "      <td>test</td>\n",
              "      <td>173 170 160 142 118 86 25 10 20 26 31 34 59 98...</td>\n",
              "      <td>angry</td>\n",
              "    </tr>\n",
              "  </tbody>\n",
              "</table>\n",
              "</div>\n",
              "      <button class=\"colab-df-convert\" onclick=\"convertToInteractive('df-9a7864b4-891e-4aa3-ab87-9febf4dbfbac')\"\n",
              "              title=\"Convert this dataframe to an interactive table.\"\n",
              "              style=\"display:none;\">\n",
              "        \n",
              "  <svg xmlns=\"http://www.w3.org/2000/svg\" height=\"24px\"viewBox=\"0 0 24 24\"\n",
              "       width=\"24px\">\n",
              "    <path d=\"M0 0h24v24H0V0z\" fill=\"none\"/>\n",
              "    <path d=\"M18.56 5.44l.94 2.06.94-2.06 2.06-.94-2.06-.94-.94-2.06-.94 2.06-2.06.94zm-11 1L8.5 8.5l.94-2.06 2.06-.94-2.06-.94L8.5 2.5l-.94 2.06-2.06.94zm10 10l.94 2.06.94-2.06 2.06-.94-2.06-.94-.94-2.06-.94 2.06-2.06.94z\"/><path d=\"M17.41 7.96l-1.37-1.37c-.4-.4-.92-.59-1.43-.59-.52 0-1.04.2-1.43.59L10.3 9.45l-7.72 7.72c-.78.78-.78 2.05 0 2.83L4 21.41c.39.39.9.59 1.41.59.51 0 1.02-.2 1.41-.59l7.78-7.78 2.81-2.81c.8-.78.8-2.07 0-2.86zM5.41 20L4 18.59l7.72-7.72 1.47 1.35L5.41 20z\"/>\n",
              "  </svg>\n",
              "      </button>\n",
              "      \n",
              "  <style>\n",
              "    .colab-df-container {\n",
              "      display:flex;\n",
              "      flex-wrap:wrap;\n",
              "      gap: 12px;\n",
              "    }\n",
              "\n",
              "    .colab-df-convert {\n",
              "      background-color: #E8F0FE;\n",
              "      border: none;\n",
              "      border-radius: 50%;\n",
              "      cursor: pointer;\n",
              "      display: none;\n",
              "      fill: #1967D2;\n",
              "      height: 32px;\n",
              "      padding: 0 0 0 0;\n",
              "      width: 32px;\n",
              "    }\n",
              "\n",
              "    .colab-df-convert:hover {\n",
              "      background-color: #E2EBFA;\n",
              "      box-shadow: 0px 1px 2px rgba(60, 64, 67, 0.3), 0px 1px 3px 1px rgba(60, 64, 67, 0.15);\n",
              "      fill: #174EA6;\n",
              "    }\n",
              "\n",
              "    [theme=dark] .colab-df-convert {\n",
              "      background-color: #3B4455;\n",
              "      fill: #D2E3FC;\n",
              "    }\n",
              "\n",
              "    [theme=dark] .colab-df-convert:hover {\n",
              "      background-color: #434B5C;\n",
              "      box-shadow: 0px 1px 3px 1px rgba(0, 0, 0, 0.15);\n",
              "      filter: drop-shadow(0px 1px 2px rgba(0, 0, 0, 0.3));\n",
              "      fill: #FFFFFF;\n",
              "    }\n",
              "  </style>\n",
              "\n",
              "      <script>\n",
              "        const buttonEl =\n",
              "          document.querySelector('#df-9a7864b4-891e-4aa3-ab87-9febf4dbfbac button.colab-df-convert');\n",
              "        buttonEl.style.display =\n",
              "          google.colab.kernel.accessAllowed ? 'block' : 'none';\n",
              "\n",
              "        async function convertToInteractive(key) {\n",
              "          const element = document.querySelector('#df-9a7864b4-891e-4aa3-ab87-9febf4dbfbac');\n",
              "          const dataTable =\n",
              "            await google.colab.kernel.invokeFunction('convertToInteractive',\n",
              "                                                     [key], {});\n",
              "          if (!dataTable) return;\n",
              "\n",
              "          const docLinkHtml = 'Like what you see? Visit the ' +\n",
              "            '<a target=\"_blank\" href=https://colab.research.google.com/notebooks/data_table.ipynb>data table notebook</a>'\n",
              "            + ' to learn more about interactive tables.';\n",
              "          element.innerHTML = '';\n",
              "          dataTable['output_type'] = 'display_data';\n",
              "          await google.colab.output.renderOutput(dataTable, element);\n",
              "          const docLink = document.createElement('div');\n",
              "          docLink.innerHTML = docLinkHtml;\n",
              "          element.appendChild(docLink);\n",
              "        }\n",
              "      </script>\n",
              "    </div>\n",
              "  </div>\n",
              "  "
            ]
          },
          "metadata": {},
          "execution_count": 4
        }
      ],
      "source": [
        "df.head()"
      ]
    },
    {
      "cell_type": "code",
      "source": [
        "df.shape"
      ],
      "metadata": {
        "id": "5fMKoSB1RXsd",
        "outputId": "dfa762b3-e11f-4c27-f432-981c1cef4241",
        "colab": {
          "base_uri": "https://localhost:8080/"
        }
      },
      "execution_count": null,
      "outputs": [
        {
          "output_type": "execute_result",
          "data": {
            "text/plain": [
              "(35887, 4)"
            ]
          },
          "metadata": {},
          "execution_count": 5
        }
      ]
    },
    {
      "cell_type": "code",
      "execution_count": null,
      "metadata": {
        "colab": {
          "base_uri": "https://localhost:8080/"
        },
        "id": "TWsHS0iLjCER",
        "outputId": "4b8c0d8f-7f2f-435f-ada2-4872de121b75"
      },
      "outputs": [
        {
          "output_type": "execute_result",
          "data": {
            "text/plain": [
              "Index(['Unnamed: 0', '0', '1', '2'], dtype='object')"
            ]
          },
          "metadata": {},
          "execution_count": 5
        }
      ],
      "source": [
        "df.columns"
      ]
    },
    {
      "cell_type": "code",
      "execution_count": null,
      "metadata": {
        "id": "Dz8yJebLyi-8"
      },
      "outputs": [],
      "source": [
        "df.drop(columns={'Unnamed: 0'}, inplace=True)"
      ]
    },
    {
      "cell_type": "code",
      "execution_count": null,
      "metadata": {
        "id": "nLbHdfG2zkRd"
      },
      "outputs": [],
      "source": [
        "df.rename(columns={'0':'type','1':'pixel','2':'mood'},inplace=True)"
      ]
    },
    {
      "cell_type": "code",
      "execution_count": null,
      "metadata": {
        "colab": {
          "base_uri": "https://localhost:8080/",
          "height": 206
        },
        "id": "HENSBheSzgtd",
        "outputId": "f59f5e58-91e8-4d7d-d6d2-a6af3357f475"
      },
      "outputs": [
        {
          "output_type": "execute_result",
          "data": {
            "text/plain": [
              "   type                                              pixel   mood\n",
              "0  test  64 62 64 65 62 63 65 65 63 69 63 65 66 114 146...  angry\n",
              "1  test  121 139 145 130 129 132 144 137 132 142 122 14...  angry\n",
              "2  test  67 65 59 60 42 16 4 6 13 39 82 126 150 161 173...  angry\n",
              "3  test  92 93 90 85 207 237 226 226 233 233 218 202 20...  angry\n",
              "4  test  173 170 160 142 118 86 25 10 20 26 31 34 59 98...  angry"
            ],
            "text/html": [
              "\n",
              "  <div id=\"df-66402731-d5b0-4ab0-85fe-ca89407064f8\">\n",
              "    <div class=\"colab-df-container\">\n",
              "      <div>\n",
              "<style scoped>\n",
              "    .dataframe tbody tr th:only-of-type {\n",
              "        vertical-align: middle;\n",
              "    }\n",
              "\n",
              "    .dataframe tbody tr th {\n",
              "        vertical-align: top;\n",
              "    }\n",
              "\n",
              "    .dataframe thead th {\n",
              "        text-align: right;\n",
              "    }\n",
              "</style>\n",
              "<table border=\"1\" class=\"dataframe\">\n",
              "  <thead>\n",
              "    <tr style=\"text-align: right;\">\n",
              "      <th></th>\n",
              "      <th>type</th>\n",
              "      <th>pixel</th>\n",
              "      <th>mood</th>\n",
              "    </tr>\n",
              "  </thead>\n",
              "  <tbody>\n",
              "    <tr>\n",
              "      <th>0</th>\n",
              "      <td>test</td>\n",
              "      <td>64 62 64 65 62 63 65 65 63 69 63 65 66 114 146...</td>\n",
              "      <td>angry</td>\n",
              "    </tr>\n",
              "    <tr>\n",
              "      <th>1</th>\n",
              "      <td>test</td>\n",
              "      <td>121 139 145 130 129 132 144 137 132 142 122 14...</td>\n",
              "      <td>angry</td>\n",
              "    </tr>\n",
              "    <tr>\n",
              "      <th>2</th>\n",
              "      <td>test</td>\n",
              "      <td>67 65 59 60 42 16 4 6 13 39 82 126 150 161 173...</td>\n",
              "      <td>angry</td>\n",
              "    </tr>\n",
              "    <tr>\n",
              "      <th>3</th>\n",
              "      <td>test</td>\n",
              "      <td>92 93 90 85 207 237 226 226 233 233 218 202 20...</td>\n",
              "      <td>angry</td>\n",
              "    </tr>\n",
              "    <tr>\n",
              "      <th>4</th>\n",
              "      <td>test</td>\n",
              "      <td>173 170 160 142 118 86 25 10 20 26 31 34 59 98...</td>\n",
              "      <td>angry</td>\n",
              "    </tr>\n",
              "  </tbody>\n",
              "</table>\n",
              "</div>\n",
              "      <button class=\"colab-df-convert\" onclick=\"convertToInteractive('df-66402731-d5b0-4ab0-85fe-ca89407064f8')\"\n",
              "              title=\"Convert this dataframe to an interactive table.\"\n",
              "              style=\"display:none;\">\n",
              "        \n",
              "  <svg xmlns=\"http://www.w3.org/2000/svg\" height=\"24px\"viewBox=\"0 0 24 24\"\n",
              "       width=\"24px\">\n",
              "    <path d=\"M0 0h24v24H0V0z\" fill=\"none\"/>\n",
              "    <path d=\"M18.56 5.44l.94 2.06.94-2.06 2.06-.94-2.06-.94-.94-2.06-.94 2.06-2.06.94zm-11 1L8.5 8.5l.94-2.06 2.06-.94-2.06-.94L8.5 2.5l-.94 2.06-2.06.94zm10 10l.94 2.06.94-2.06 2.06-.94-2.06-.94-.94-2.06-.94 2.06-2.06.94z\"/><path d=\"M17.41 7.96l-1.37-1.37c-.4-.4-.92-.59-1.43-.59-.52 0-1.04.2-1.43.59L10.3 9.45l-7.72 7.72c-.78.78-.78 2.05 0 2.83L4 21.41c.39.39.9.59 1.41.59.51 0 1.02-.2 1.41-.59l7.78-7.78 2.81-2.81c.8-.78.8-2.07 0-2.86zM5.41 20L4 18.59l7.72-7.72 1.47 1.35L5.41 20z\"/>\n",
              "  </svg>\n",
              "      </button>\n",
              "      \n",
              "  <style>\n",
              "    .colab-df-container {\n",
              "      display:flex;\n",
              "      flex-wrap:wrap;\n",
              "      gap: 12px;\n",
              "    }\n",
              "\n",
              "    .colab-df-convert {\n",
              "      background-color: #E8F0FE;\n",
              "      border: none;\n",
              "      border-radius: 50%;\n",
              "      cursor: pointer;\n",
              "      display: none;\n",
              "      fill: #1967D2;\n",
              "      height: 32px;\n",
              "      padding: 0 0 0 0;\n",
              "      width: 32px;\n",
              "    }\n",
              "\n",
              "    .colab-df-convert:hover {\n",
              "      background-color: #E2EBFA;\n",
              "      box-shadow: 0px 1px 2px rgba(60, 64, 67, 0.3), 0px 1px 3px 1px rgba(60, 64, 67, 0.15);\n",
              "      fill: #174EA6;\n",
              "    }\n",
              "\n",
              "    [theme=dark] .colab-df-convert {\n",
              "      background-color: #3B4455;\n",
              "      fill: #D2E3FC;\n",
              "    }\n",
              "\n",
              "    [theme=dark] .colab-df-convert:hover {\n",
              "      background-color: #434B5C;\n",
              "      box-shadow: 0px 1px 3px 1px rgba(0, 0, 0, 0.15);\n",
              "      filter: drop-shadow(0px 1px 2px rgba(0, 0, 0, 0.3));\n",
              "      fill: #FFFFFF;\n",
              "    }\n",
              "  </style>\n",
              "\n",
              "      <script>\n",
              "        const buttonEl =\n",
              "          document.querySelector('#df-66402731-d5b0-4ab0-85fe-ca89407064f8 button.colab-df-convert');\n",
              "        buttonEl.style.display =\n",
              "          google.colab.kernel.accessAllowed ? 'block' : 'none';\n",
              "\n",
              "        async function convertToInteractive(key) {\n",
              "          const element = document.querySelector('#df-66402731-d5b0-4ab0-85fe-ca89407064f8');\n",
              "          const dataTable =\n",
              "            await google.colab.kernel.invokeFunction('convertToInteractive',\n",
              "                                                     [key], {});\n",
              "          if (!dataTable) return;\n",
              "\n",
              "          const docLinkHtml = 'Like what you see? Visit the ' +\n",
              "            '<a target=\"_blank\" href=https://colab.research.google.com/notebooks/data_table.ipynb>data table notebook</a>'\n",
              "            + ' to learn more about interactive tables.';\n",
              "          element.innerHTML = '';\n",
              "          dataTable['output_type'] = 'display_data';\n",
              "          await google.colab.output.renderOutput(dataTable, element);\n",
              "          const docLink = document.createElement('div');\n",
              "          docLink.innerHTML = docLinkHtml;\n",
              "          element.appendChild(docLink);\n",
              "        }\n",
              "      </script>\n",
              "    </div>\n",
              "  </div>\n",
              "  "
            ]
          },
          "metadata": {},
          "execution_count": 8
        }
      ],
      "source": [
        "df.head()"
      ]
    },
    {
      "cell_type": "code",
      "execution_count": null,
      "metadata": {
        "colab": {
          "base_uri": "https://localhost:8080/"
        },
        "id": "kD6cEPNH2irH",
        "outputId": "35eff0c9-ac8b-4d02-98bb-361de1b045bc"
      },
      "outputs": [
        {
          "output_type": "stream",
          "name": "stderr",
          "text": [
            "/usr/local/lib/python3.7/dist-packages/pandas/core/frame.py:3641: PerformanceWarning: DataFrame is highly fragmented.  This is usually the result of calling `frame.insert` many times, which has poor performance.  Consider joining all columns at once using pd.concat(axis=1) instead.  To get a de-fragmented frame, use `newframe = frame.copy()`\n",
            "  self[k1] = value[k2]\n"
          ]
        }
      ],
      "source": [
        "df[[i for i in range(len(df['pixel'][0].split()))]]=df['pixel'].str.split(expand = True).astype('int')"
      ]
    },
    {
      "cell_type": "code",
      "execution_count": null,
      "metadata": {
        "colab": {
          "base_uri": "https://localhost:8080/",
          "height": 1000
        },
        "id": "u33F9lKG20jI",
        "outputId": "171dd7e0-9c9c-4104-a28b-90993db4522c"
      },
      "outputs": [
        {
          "output_type": "execute_result",
          "data": {
            "text/plain": [
              "   type                                              pixel   mood    0    1  \\\n",
              "0  test  64 62 64 65 62 63 65 65 63 69 63 65 66 114 146...  angry   64   62   \n",
              "1  test  121 139 145 130 129 132 144 137 132 142 122 14...  angry  121  139   \n",
              "2  test  67 65 59 60 42 16 4 6 13 39 82 126 150 161 173...  angry   67   65   \n",
              "3  test  92 93 90 85 207 237 226 226 233 233 218 202 20...  angry   92   93   \n",
              "4  test  173 170 160 142 118 86 25 10 20 26 31 34 59 98...  angry  173  170   \n",
              "\n",
              "     2    3    4    5    6  ...  2294  2295  2296  2297  2298  2299  2300  \\\n",
              "0   64   65   62   63   65  ...    91    94    86    86    70    82    78   \n",
              "1  145  130  129  132  144  ...   178   176   177   176   174   172   171   \n",
              "2   59   60   42   16    4  ...   141   154   159   132   113   137   141   \n",
              "3   90   85  207  237  226  ...    11    36    56    27     1     4     5   \n",
              "4  160  142  118   86   25  ...   208   204   193   199   199   188   167   \n",
              "\n",
              "   2301  2302  2303  \n",
              "0    75    72    82  \n",
              "1   171   171   171  \n",
              "2   138   136   136  \n",
              "3     4     4     1  \n",
              "4    89    94   102  \n",
              "\n",
              "[5 rows x 2307 columns]"
            ],
            "text/html": [
              "\n",
              "  <div id=\"df-22a47f42-db30-49bd-b82c-20f11c6f204a\">\n",
              "    <div class=\"colab-df-container\">\n",
              "      <div>\n",
              "<style scoped>\n",
              "    .dataframe tbody tr th:only-of-type {\n",
              "        vertical-align: middle;\n",
              "    }\n",
              "\n",
              "    .dataframe tbody tr th {\n",
              "        vertical-align: top;\n",
              "    }\n",
              "\n",
              "    .dataframe thead th {\n",
              "        text-align: right;\n",
              "    }\n",
              "</style>\n",
              "<table border=\"1\" class=\"dataframe\">\n",
              "  <thead>\n",
              "    <tr style=\"text-align: right;\">\n",
              "      <th></th>\n",
              "      <th>type</th>\n",
              "      <th>pixel</th>\n",
              "      <th>mood</th>\n",
              "      <th>0</th>\n",
              "      <th>1</th>\n",
              "      <th>2</th>\n",
              "      <th>3</th>\n",
              "      <th>4</th>\n",
              "      <th>5</th>\n",
              "      <th>6</th>\n",
              "      <th>...</th>\n",
              "      <th>2294</th>\n",
              "      <th>2295</th>\n",
              "      <th>2296</th>\n",
              "      <th>2297</th>\n",
              "      <th>2298</th>\n",
              "      <th>2299</th>\n",
              "      <th>2300</th>\n",
              "      <th>2301</th>\n",
              "      <th>2302</th>\n",
              "      <th>2303</th>\n",
              "    </tr>\n",
              "  </thead>\n",
              "  <tbody>\n",
              "    <tr>\n",
              "      <th>0</th>\n",
              "      <td>test</td>\n",
              "      <td>64 62 64 65 62 63 65 65 63 69 63 65 66 114 146...</td>\n",
              "      <td>angry</td>\n",
              "      <td>64</td>\n",
              "      <td>62</td>\n",
              "      <td>64</td>\n",
              "      <td>65</td>\n",
              "      <td>62</td>\n",
              "      <td>63</td>\n",
              "      <td>65</td>\n",
              "      <td>...</td>\n",
              "      <td>91</td>\n",
              "      <td>94</td>\n",
              "      <td>86</td>\n",
              "      <td>86</td>\n",
              "      <td>70</td>\n",
              "      <td>82</td>\n",
              "      <td>78</td>\n",
              "      <td>75</td>\n",
              "      <td>72</td>\n",
              "      <td>82</td>\n",
              "    </tr>\n",
              "    <tr>\n",
              "      <th>1</th>\n",
              "      <td>test</td>\n",
              "      <td>121 139 145 130 129 132 144 137 132 142 122 14...</td>\n",
              "      <td>angry</td>\n",
              "      <td>121</td>\n",
              "      <td>139</td>\n",
              "      <td>145</td>\n",
              "      <td>130</td>\n",
              "      <td>129</td>\n",
              "      <td>132</td>\n",
              "      <td>144</td>\n",
              "      <td>...</td>\n",
              "      <td>178</td>\n",
              "      <td>176</td>\n",
              "      <td>177</td>\n",
              "      <td>176</td>\n",
              "      <td>174</td>\n",
              "      <td>172</td>\n",
              "      <td>171</td>\n",
              "      <td>171</td>\n",
              "      <td>171</td>\n",
              "      <td>171</td>\n",
              "    </tr>\n",
              "    <tr>\n",
              "      <th>2</th>\n",
              "      <td>test</td>\n",
              "      <td>67 65 59 60 42 16 4 6 13 39 82 126 150 161 173...</td>\n",
              "      <td>angry</td>\n",
              "      <td>67</td>\n",
              "      <td>65</td>\n",
              "      <td>59</td>\n",
              "      <td>60</td>\n",
              "      <td>42</td>\n",
              "      <td>16</td>\n",
              "      <td>4</td>\n",
              "      <td>...</td>\n",
              "      <td>141</td>\n",
              "      <td>154</td>\n",
              "      <td>159</td>\n",
              "      <td>132</td>\n",
              "      <td>113</td>\n",
              "      <td>137</td>\n",
              "      <td>141</td>\n",
              "      <td>138</td>\n",
              "      <td>136</td>\n",
              "      <td>136</td>\n",
              "    </tr>\n",
              "    <tr>\n",
              "      <th>3</th>\n",
              "      <td>test</td>\n",
              "      <td>92 93 90 85 207 237 226 226 233 233 218 202 20...</td>\n",
              "      <td>angry</td>\n",
              "      <td>92</td>\n",
              "      <td>93</td>\n",
              "      <td>90</td>\n",
              "      <td>85</td>\n",
              "      <td>207</td>\n",
              "      <td>237</td>\n",
              "      <td>226</td>\n",
              "      <td>...</td>\n",
              "      <td>11</td>\n",
              "      <td>36</td>\n",
              "      <td>56</td>\n",
              "      <td>27</td>\n",
              "      <td>1</td>\n",
              "      <td>4</td>\n",
              "      <td>5</td>\n",
              "      <td>4</td>\n",
              "      <td>4</td>\n",
              "      <td>1</td>\n",
              "    </tr>\n",
              "    <tr>\n",
              "      <th>4</th>\n",
              "      <td>test</td>\n",
              "      <td>173 170 160 142 118 86 25 10 20 26 31 34 59 98...</td>\n",
              "      <td>angry</td>\n",
              "      <td>173</td>\n",
              "      <td>170</td>\n",
              "      <td>160</td>\n",
              "      <td>142</td>\n",
              "      <td>118</td>\n",
              "      <td>86</td>\n",
              "      <td>25</td>\n",
              "      <td>...</td>\n",
              "      <td>208</td>\n",
              "      <td>204</td>\n",
              "      <td>193</td>\n",
              "      <td>199</td>\n",
              "      <td>199</td>\n",
              "      <td>188</td>\n",
              "      <td>167</td>\n",
              "      <td>89</td>\n",
              "      <td>94</td>\n",
              "      <td>102</td>\n",
              "    </tr>\n",
              "  </tbody>\n",
              "</table>\n",
              "<p>5 rows × 2307 columns</p>\n",
              "</div>\n",
              "      <button class=\"colab-df-convert\" onclick=\"convertToInteractive('df-22a47f42-db30-49bd-b82c-20f11c6f204a')\"\n",
              "              title=\"Convert this dataframe to an interactive table.\"\n",
              "              style=\"display:none;\">\n",
              "        \n",
              "  <svg xmlns=\"http://www.w3.org/2000/svg\" height=\"24px\"viewBox=\"0 0 24 24\"\n",
              "       width=\"24px\">\n",
              "    <path d=\"M0 0h24v24H0V0z\" fill=\"none\"/>\n",
              "    <path d=\"M18.56 5.44l.94 2.06.94-2.06 2.06-.94-2.06-.94-.94-2.06-.94 2.06-2.06.94zm-11 1L8.5 8.5l.94-2.06 2.06-.94-2.06-.94L8.5 2.5l-.94 2.06-2.06.94zm10 10l.94 2.06.94-2.06 2.06-.94-2.06-.94-.94-2.06-.94 2.06-2.06.94z\"/><path d=\"M17.41 7.96l-1.37-1.37c-.4-.4-.92-.59-1.43-.59-.52 0-1.04.2-1.43.59L10.3 9.45l-7.72 7.72c-.78.78-.78 2.05 0 2.83L4 21.41c.39.39.9.59 1.41.59.51 0 1.02-.2 1.41-.59l7.78-7.78 2.81-2.81c.8-.78.8-2.07 0-2.86zM5.41 20L4 18.59l7.72-7.72 1.47 1.35L5.41 20z\"/>\n",
              "  </svg>\n",
              "      </button>\n",
              "      \n",
              "  <style>\n",
              "    .colab-df-container {\n",
              "      display:flex;\n",
              "      flex-wrap:wrap;\n",
              "      gap: 12px;\n",
              "    }\n",
              "\n",
              "    .colab-df-convert {\n",
              "      background-color: #E8F0FE;\n",
              "      border: none;\n",
              "      border-radius: 50%;\n",
              "      cursor: pointer;\n",
              "      display: none;\n",
              "      fill: #1967D2;\n",
              "      height: 32px;\n",
              "      padding: 0 0 0 0;\n",
              "      width: 32px;\n",
              "    }\n",
              "\n",
              "    .colab-df-convert:hover {\n",
              "      background-color: #E2EBFA;\n",
              "      box-shadow: 0px 1px 2px rgba(60, 64, 67, 0.3), 0px 1px 3px 1px rgba(60, 64, 67, 0.15);\n",
              "      fill: #174EA6;\n",
              "    }\n",
              "\n",
              "    [theme=dark] .colab-df-convert {\n",
              "      background-color: #3B4455;\n",
              "      fill: #D2E3FC;\n",
              "    }\n",
              "\n",
              "    [theme=dark] .colab-df-convert:hover {\n",
              "      background-color: #434B5C;\n",
              "      box-shadow: 0px 1px 3px 1px rgba(0, 0, 0, 0.15);\n",
              "      filter: drop-shadow(0px 1px 2px rgba(0, 0, 0, 0.3));\n",
              "      fill: #FFFFFF;\n",
              "    }\n",
              "  </style>\n",
              "\n",
              "      <script>\n",
              "        const buttonEl =\n",
              "          document.querySelector('#df-22a47f42-db30-49bd-b82c-20f11c6f204a button.colab-df-convert');\n",
              "        buttonEl.style.display =\n",
              "          google.colab.kernel.accessAllowed ? 'block' : 'none';\n",
              "\n",
              "        async function convertToInteractive(key) {\n",
              "          const element = document.querySelector('#df-22a47f42-db30-49bd-b82c-20f11c6f204a');\n",
              "          const dataTable =\n",
              "            await google.colab.kernel.invokeFunction('convertToInteractive',\n",
              "                                                     [key], {});\n",
              "          if (!dataTable) return;\n",
              "\n",
              "          const docLinkHtml = 'Like what you see? Visit the ' +\n",
              "            '<a target=\"_blank\" href=https://colab.research.google.com/notebooks/data_table.ipynb>data table notebook</a>'\n",
              "            + ' to learn more about interactive tables.';\n",
              "          element.innerHTML = '';\n",
              "          dataTable['output_type'] = 'display_data';\n",
              "          await google.colab.output.renderOutput(dataTable, element);\n",
              "          const docLink = document.createElement('div');\n",
              "          docLink.innerHTML = docLinkHtml;\n",
              "          element.appendChild(docLink);\n",
              "        }\n",
              "      </script>\n",
              "    </div>\n",
              "  </div>\n",
              "  "
            ]
          },
          "metadata": {},
          "execution_count": 10
        }
      ],
      "source": [
        "df.head()"
      ]
    },
    {
      "cell_type": "code",
      "execution_count": null,
      "metadata": {
        "id": "wzi3eG1Z27Z7"
      },
      "outputs": [],
      "source": [
        "from sklearn.preprocessing import LabelEncoder"
      ]
    },
    {
      "cell_type": "code",
      "execution_count": null,
      "metadata": {
        "id": "QEjabPM12-11"
      },
      "outputs": [],
      "source": [
        "le=LabelEncoder()"
      ]
    },
    {
      "cell_type": "code",
      "source": [
        "df['mood']=le.fit_transform(df['mood'])"
      ],
      "metadata": {
        "id": "iTWk2X0C8HyJ"
      },
      "execution_count": null,
      "outputs": []
    },
    {
      "cell_type": "code",
      "source": [
        "le.classes_"
      ],
      "metadata": {
        "colab": {
          "base_uri": "https://localhost:8080/"
        },
        "id": "68WCX0dH9BSM",
        "outputId": "32ba4f3d-acd4-4890-e60b-71e27710e61a"
      },
      "execution_count": null,
      "outputs": [
        {
          "output_type": "execute_result",
          "data": {
            "text/plain": [
              "array(['angry', 'disgust', 'fear', 'happy', 'neutral', 'sad', 'surprise'],\n",
              "      dtype=object)"
            ]
          },
          "metadata": {},
          "execution_count": 14
        }
      ]
    },
    {
      "cell_type": "code",
      "source": [
        "df.to_csv('data.csv')"
      ],
      "metadata": {
        "id": "P0eGZDRX8_wK"
      },
      "execution_count": null,
      "outputs": []
    },
    {
      "cell_type": "code",
      "source": [
        "test = df[df['type']=='test']"
      ],
      "metadata": {
        "id": "i_vlv6VOBXQ8"
      },
      "execution_count": null,
      "outputs": []
    },
    {
      "cell_type": "code",
      "source": [
        "train = df[df['type']=='train']\n"
      ],
      "metadata": {
        "id": "CrSaLm8EFFBG"
      },
      "execution_count": null,
      "outputs": []
    },
    {
      "cell_type": "code",
      "source": [
        "test.head()"
      ],
      "metadata": {
        "colab": {
          "base_uri": "https://localhost:8080/",
          "height": 1000
        },
        "id": "f6mGYsT-G-pg",
        "outputId": "28f46acd-4faa-46e2-a52f-70a76e41cc7e"
      },
      "execution_count": null,
      "outputs": [
        {
          "output_type": "execute_result",
          "data": {
            "text/plain": [
              "   type                                              pixel  mood    0    1  \\\n",
              "0  test  64 62 64 65 62 63 65 65 63 69 63 65 66 114 146...     0   64   62   \n",
              "1  test  121 139 145 130 129 132 144 137 132 142 122 14...     0  121  139   \n",
              "2  test  67 65 59 60 42 16 4 6 13 39 82 126 150 161 173...     0   67   65   \n",
              "3  test  92 93 90 85 207 237 226 226 233 233 218 202 20...     0   92   93   \n",
              "4  test  173 170 160 142 118 86 25 10 20 26 31 34 59 98...     0  173  170   \n",
              "\n",
              "     2    3    4    5    6  ...  2294  2295  2296  2297  2298  2299  2300  \\\n",
              "0   64   65   62   63   65  ...    91    94    86    86    70    82    78   \n",
              "1  145  130  129  132  144  ...   178   176   177   176   174   172   171   \n",
              "2   59   60   42   16    4  ...   141   154   159   132   113   137   141   \n",
              "3   90   85  207  237  226  ...    11    36    56    27     1     4     5   \n",
              "4  160  142  118   86   25  ...   208   204   193   199   199   188   167   \n",
              "\n",
              "   2301  2302  2303  \n",
              "0    75    72    82  \n",
              "1   171   171   171  \n",
              "2   138   136   136  \n",
              "3     4     4     1  \n",
              "4    89    94   102  \n",
              "\n",
              "[5 rows x 2307 columns]"
            ],
            "text/html": [
              "\n",
              "  <div id=\"df-1195d9a2-65bb-4266-b657-394b0ccb07ec\">\n",
              "    <div class=\"colab-df-container\">\n",
              "      <div>\n",
              "<style scoped>\n",
              "    .dataframe tbody tr th:only-of-type {\n",
              "        vertical-align: middle;\n",
              "    }\n",
              "\n",
              "    .dataframe tbody tr th {\n",
              "        vertical-align: top;\n",
              "    }\n",
              "\n",
              "    .dataframe thead th {\n",
              "        text-align: right;\n",
              "    }\n",
              "</style>\n",
              "<table border=\"1\" class=\"dataframe\">\n",
              "  <thead>\n",
              "    <tr style=\"text-align: right;\">\n",
              "      <th></th>\n",
              "      <th>type</th>\n",
              "      <th>pixel</th>\n",
              "      <th>mood</th>\n",
              "      <th>0</th>\n",
              "      <th>1</th>\n",
              "      <th>2</th>\n",
              "      <th>3</th>\n",
              "      <th>4</th>\n",
              "      <th>5</th>\n",
              "      <th>6</th>\n",
              "      <th>...</th>\n",
              "      <th>2294</th>\n",
              "      <th>2295</th>\n",
              "      <th>2296</th>\n",
              "      <th>2297</th>\n",
              "      <th>2298</th>\n",
              "      <th>2299</th>\n",
              "      <th>2300</th>\n",
              "      <th>2301</th>\n",
              "      <th>2302</th>\n",
              "      <th>2303</th>\n",
              "    </tr>\n",
              "  </thead>\n",
              "  <tbody>\n",
              "    <tr>\n",
              "      <th>0</th>\n",
              "      <td>test</td>\n",
              "      <td>64 62 64 65 62 63 65 65 63 69 63 65 66 114 146...</td>\n",
              "      <td>0</td>\n",
              "      <td>64</td>\n",
              "      <td>62</td>\n",
              "      <td>64</td>\n",
              "      <td>65</td>\n",
              "      <td>62</td>\n",
              "      <td>63</td>\n",
              "      <td>65</td>\n",
              "      <td>...</td>\n",
              "      <td>91</td>\n",
              "      <td>94</td>\n",
              "      <td>86</td>\n",
              "      <td>86</td>\n",
              "      <td>70</td>\n",
              "      <td>82</td>\n",
              "      <td>78</td>\n",
              "      <td>75</td>\n",
              "      <td>72</td>\n",
              "      <td>82</td>\n",
              "    </tr>\n",
              "    <tr>\n",
              "      <th>1</th>\n",
              "      <td>test</td>\n",
              "      <td>121 139 145 130 129 132 144 137 132 142 122 14...</td>\n",
              "      <td>0</td>\n",
              "      <td>121</td>\n",
              "      <td>139</td>\n",
              "      <td>145</td>\n",
              "      <td>130</td>\n",
              "      <td>129</td>\n",
              "      <td>132</td>\n",
              "      <td>144</td>\n",
              "      <td>...</td>\n",
              "      <td>178</td>\n",
              "      <td>176</td>\n",
              "      <td>177</td>\n",
              "      <td>176</td>\n",
              "      <td>174</td>\n",
              "      <td>172</td>\n",
              "      <td>171</td>\n",
              "      <td>171</td>\n",
              "      <td>171</td>\n",
              "      <td>171</td>\n",
              "    </tr>\n",
              "    <tr>\n",
              "      <th>2</th>\n",
              "      <td>test</td>\n",
              "      <td>67 65 59 60 42 16 4 6 13 39 82 126 150 161 173...</td>\n",
              "      <td>0</td>\n",
              "      <td>67</td>\n",
              "      <td>65</td>\n",
              "      <td>59</td>\n",
              "      <td>60</td>\n",
              "      <td>42</td>\n",
              "      <td>16</td>\n",
              "      <td>4</td>\n",
              "      <td>...</td>\n",
              "      <td>141</td>\n",
              "      <td>154</td>\n",
              "      <td>159</td>\n",
              "      <td>132</td>\n",
              "      <td>113</td>\n",
              "      <td>137</td>\n",
              "      <td>141</td>\n",
              "      <td>138</td>\n",
              "      <td>136</td>\n",
              "      <td>136</td>\n",
              "    </tr>\n",
              "    <tr>\n",
              "      <th>3</th>\n",
              "      <td>test</td>\n",
              "      <td>92 93 90 85 207 237 226 226 233 233 218 202 20...</td>\n",
              "      <td>0</td>\n",
              "      <td>92</td>\n",
              "      <td>93</td>\n",
              "      <td>90</td>\n",
              "      <td>85</td>\n",
              "      <td>207</td>\n",
              "      <td>237</td>\n",
              "      <td>226</td>\n",
              "      <td>...</td>\n",
              "      <td>11</td>\n",
              "      <td>36</td>\n",
              "      <td>56</td>\n",
              "      <td>27</td>\n",
              "      <td>1</td>\n",
              "      <td>4</td>\n",
              "      <td>5</td>\n",
              "      <td>4</td>\n",
              "      <td>4</td>\n",
              "      <td>1</td>\n",
              "    </tr>\n",
              "    <tr>\n",
              "      <th>4</th>\n",
              "      <td>test</td>\n",
              "      <td>173 170 160 142 118 86 25 10 20 26 31 34 59 98...</td>\n",
              "      <td>0</td>\n",
              "      <td>173</td>\n",
              "      <td>170</td>\n",
              "      <td>160</td>\n",
              "      <td>142</td>\n",
              "      <td>118</td>\n",
              "      <td>86</td>\n",
              "      <td>25</td>\n",
              "      <td>...</td>\n",
              "      <td>208</td>\n",
              "      <td>204</td>\n",
              "      <td>193</td>\n",
              "      <td>199</td>\n",
              "      <td>199</td>\n",
              "      <td>188</td>\n",
              "      <td>167</td>\n",
              "      <td>89</td>\n",
              "      <td>94</td>\n",
              "      <td>102</td>\n",
              "    </tr>\n",
              "  </tbody>\n",
              "</table>\n",
              "<p>5 rows × 2307 columns</p>\n",
              "</div>\n",
              "      <button class=\"colab-df-convert\" onclick=\"convertToInteractive('df-1195d9a2-65bb-4266-b657-394b0ccb07ec')\"\n",
              "              title=\"Convert this dataframe to an interactive table.\"\n",
              "              style=\"display:none;\">\n",
              "        \n",
              "  <svg xmlns=\"http://www.w3.org/2000/svg\" height=\"24px\"viewBox=\"0 0 24 24\"\n",
              "       width=\"24px\">\n",
              "    <path d=\"M0 0h24v24H0V0z\" fill=\"none\"/>\n",
              "    <path d=\"M18.56 5.44l.94 2.06.94-2.06 2.06-.94-2.06-.94-.94-2.06-.94 2.06-2.06.94zm-11 1L8.5 8.5l.94-2.06 2.06-.94-2.06-.94L8.5 2.5l-.94 2.06-2.06.94zm10 10l.94 2.06.94-2.06 2.06-.94-2.06-.94-.94-2.06-.94 2.06-2.06.94z\"/><path d=\"M17.41 7.96l-1.37-1.37c-.4-.4-.92-.59-1.43-.59-.52 0-1.04.2-1.43.59L10.3 9.45l-7.72 7.72c-.78.78-.78 2.05 0 2.83L4 21.41c.39.39.9.59 1.41.59.51 0 1.02-.2 1.41-.59l7.78-7.78 2.81-2.81c.8-.78.8-2.07 0-2.86zM5.41 20L4 18.59l7.72-7.72 1.47 1.35L5.41 20z\"/>\n",
              "  </svg>\n",
              "      </button>\n",
              "      \n",
              "  <style>\n",
              "    .colab-df-container {\n",
              "      display:flex;\n",
              "      flex-wrap:wrap;\n",
              "      gap: 12px;\n",
              "    }\n",
              "\n",
              "    .colab-df-convert {\n",
              "      background-color: #E8F0FE;\n",
              "      border: none;\n",
              "      border-radius: 50%;\n",
              "      cursor: pointer;\n",
              "      display: none;\n",
              "      fill: #1967D2;\n",
              "      height: 32px;\n",
              "      padding: 0 0 0 0;\n",
              "      width: 32px;\n",
              "    }\n",
              "\n",
              "    .colab-df-convert:hover {\n",
              "      background-color: #E2EBFA;\n",
              "      box-shadow: 0px 1px 2px rgba(60, 64, 67, 0.3), 0px 1px 3px 1px rgba(60, 64, 67, 0.15);\n",
              "      fill: #174EA6;\n",
              "    }\n",
              "\n",
              "    [theme=dark] .colab-df-convert {\n",
              "      background-color: #3B4455;\n",
              "      fill: #D2E3FC;\n",
              "    }\n",
              "\n",
              "    [theme=dark] .colab-df-convert:hover {\n",
              "      background-color: #434B5C;\n",
              "      box-shadow: 0px 1px 3px 1px rgba(0, 0, 0, 0.15);\n",
              "      filter: drop-shadow(0px 1px 2px rgba(0, 0, 0, 0.3));\n",
              "      fill: #FFFFFF;\n",
              "    }\n",
              "  </style>\n",
              "\n",
              "      <script>\n",
              "        const buttonEl =\n",
              "          document.querySelector('#df-1195d9a2-65bb-4266-b657-394b0ccb07ec button.colab-df-convert');\n",
              "        buttonEl.style.display =\n",
              "          google.colab.kernel.accessAllowed ? 'block' : 'none';\n",
              "\n",
              "        async function convertToInteractive(key) {\n",
              "          const element = document.querySelector('#df-1195d9a2-65bb-4266-b657-394b0ccb07ec');\n",
              "          const dataTable =\n",
              "            await google.colab.kernel.invokeFunction('convertToInteractive',\n",
              "                                                     [key], {});\n",
              "          if (!dataTable) return;\n",
              "\n",
              "          const docLinkHtml = 'Like what you see? Visit the ' +\n",
              "            '<a target=\"_blank\" href=https://colab.research.google.com/notebooks/data_table.ipynb>data table notebook</a>'\n",
              "            + ' to learn more about interactive tables.';\n",
              "          element.innerHTML = '';\n",
              "          dataTable['output_type'] = 'display_data';\n",
              "          await google.colab.output.renderOutput(dataTable, element);\n",
              "          const docLink = document.createElement('div');\n",
              "          docLink.innerHTML = docLinkHtml;\n",
              "          element.appendChild(docLink);\n",
              "        }\n",
              "      </script>\n",
              "    </div>\n",
              "  </div>\n",
              "  "
            ]
          },
          "metadata": {},
          "execution_count": 18
        }
      ]
    },
    {
      "cell_type": "code",
      "source": [
        "x_test = test.drop(columns={'type','pixel','mood'})\n",
        "y_test = test['mood']"
      ],
      "metadata": {
        "id": "jIcolI4LHBzi"
      },
      "execution_count": null,
      "outputs": []
    },
    {
      "cell_type": "code",
      "source": [
        "x_train = train.drop(columns={'type','pixel','mood'})\n",
        "y_train = train['mood']"
      ],
      "metadata": {
        "id": "3xKtWgamH1Zp"
      },
      "execution_count": null,
      "outputs": []
    },
    {
      "cell_type": "code",
      "source": [
        ""
      ],
      "metadata": {
        "id": "Lq8m48VBIFAC"
      },
      "execution_count": null,
      "outputs": []
    },
    {
      "cell_type": "code",
      "source": [
        "from sklearn.preprocessing import StandardScaler\n",
        "sc = StandardScaler()"
      ],
      "metadata": {
        "id": "_KxdNtXwIIWt"
      },
      "execution_count": null,
      "outputs": []
    },
    {
      "cell_type": "code",
      "source": [
        "xtrain = sc.fit_transform(x_train)\n",
        "xtest = sc.transform(x_test)"
      ],
      "metadata": {
        "id": "RGzk0g6zI_e6"
      },
      "execution_count": null,
      "outputs": []
    },
    {
      "cell_type": "code",
      "source": [
        "from sklearn.decomposition import PCA\n",
        "pca = PCA(n_components = 2)"
      ],
      "metadata": {
        "id": "GQ-C1htRJgk8"
      },
      "execution_count": null,
      "outputs": []
    },
    {
      "cell_type": "code",
      "source": [
        "pca2 = PCA(n_components =5)"
      ],
      "metadata": {
        "id": "j24y0Alu4kna"
      },
      "execution_count": null,
      "outputs": []
    },
    {
      "cell_type": "code",
      "source": [
        "X_train = pca.fit_transform(xtrain)\n",
        "X_test = pca.transform(xtest)"
      ],
      "metadata": {
        "id": "d7JdeEzzJu9H"
      },
      "execution_count": null,
      "outputs": []
    },
    {
      "cell_type": "code",
      "source": [
        "x2_train = pca2.fit_transform(xtrain)\n",
        "x2_test = pca2.transform(xtest)"
      ],
      "metadata": {
        "id": "R6in72Q44q9z"
      },
      "execution_count": null,
      "outputs": []
    },
    {
      "cell_type": "code",
      "source": [
        "pca.explained_variance_ratio_"
      ],
      "metadata": {
        "colab": {
          "base_uri": "https://localhost:8080/"
        },
        "id": "T_a1-jX7KGt5",
        "outputId": "df9f4b7c-aafd-40d5-9849-e1e6e578786d"
      },
      "execution_count": null,
      "outputs": [
        {
          "output_type": "execute_result",
          "data": {
            "text/plain": [
              "array([0.29127836, 0.09276468])"
            ]
          },
          "metadata": {},
          "execution_count": 24
        }
      ]
    },
    {
      "cell_type": "code",
      "source": [
        "from sklearn.linear_model import LogisticRegression\n",
        "model = LogisticRegression(solver='lbfgs', max_iter=1000)"
      ],
      "metadata": {
        "id": "-dir0j7bKNMe"
      },
      "execution_count": null,
      "outputs": []
    },
    {
      "cell_type": "code",
      "source": [
        "model.fit(X_train,y_train)"
      ],
      "metadata": {
        "colab": {
          "base_uri": "https://localhost:8080/"
        },
        "id": "nZcRXr68K57M",
        "outputId": "bfb7d259-1fee-4bfc-a287-c27897c96e97"
      },
      "execution_count": null,
      "outputs": [
        {
          "output_type": "execute_result",
          "data": {
            "text/plain": [
              "LogisticRegression(max_iter=1000)"
            ]
          },
          "metadata": {},
          "execution_count": 26
        }
      ]
    },
    {
      "cell_type": "code",
      "source": [
        "y_pred = model.predict(X_test)"
      ],
      "metadata": {
        "id": "seR0HGL5LCOP"
      },
      "execution_count": null,
      "outputs": []
    },
    {
      "cell_type": "code",
      "source": [
        "from sklearn.metrics import confusion_matrix\n",
        " \n",
        "cm = confusion_matrix(y_test, y_pred)"
      ],
      "metadata": {
        "id": "na3GltawL8LK"
      },
      "execution_count": null,
      "outputs": []
    },
    {
      "cell_type": "code",
      "source": [
        "cm"
      ],
      "metadata": {
        "colab": {
          "base_uri": "https://localhost:8080/"
        },
        "id": "51bQpwMyM8L9",
        "outputId": "76aafc6c-916f-4019-e1e7-1a5a13d56538"
      },
      "execution_count": null,
      "outputs": [
        {
          "output_type": "execute_result",
          "data": {
            "text/plain": [
              "array([[   0,    0,   12,  776,    0,  133,   37],\n",
              "       [   0,    0,    0,   95,    0,    9,    7],\n",
              "       [   0,    0,   10,  867,    1,   99,   47],\n",
              "       [   0,    0,    9, 1519,    0,  190,   56],\n",
              "       [   0,    0,   12,  988,    0,  198,   35],\n",
              "       [   0,    0,   11,  981,    0,  230,   25],\n",
              "       [   0,    0,   18,  685,    0,   44,   84]])"
            ]
          },
          "metadata": {},
          "execution_count": 29
        }
      ]
    },
    {
      "cell_type": "code",
      "source": [
        "from sklearn.metrics import accuracy_score\n",
        "ac = accuracy_score(y_test,y_pred)"
      ],
      "metadata": {
        "id": "XTlhNrglM9WH"
      },
      "execution_count": null,
      "outputs": []
    },
    {
      "cell_type": "code",
      "source": [
        "ac"
      ],
      "metadata": {
        "colab": {
          "base_uri": "https://localhost:8080/"
        },
        "id": "ehZwfwzANT9Z",
        "outputId": "e421c3b9-5773-4edc-d05a-83b2f82a4882"
      },
      "execution_count": null,
      "outputs": [
        {
          "output_type": "execute_result",
          "data": {
            "text/plain": [
              "0.25675675675675674"
            ]
          },
          "metadata": {},
          "execution_count": 31
        }
      ]
    },
    {
      "cell_type": "code",
      "source": [
        "from sklearn.neighbors import KNeighborsClassifier\n",
        "from sklearn.naive_bayes import GaussianNB\n",
        "from sklearn.ensemble import RandomForestClassifier\n",
        "from sklearn.svm import SVC,LinearSVC"
      ],
      "metadata": {
        "id": "sA6995kvc2OS"
      },
      "execution_count": null,
      "outputs": []
    },
    {
      "cell_type": "code",
      "source": [
        "models =[KNeighborsClassifier(),GaussianNB(),RandomForestClassifier(),SVC(),LinearSVC()]"
      ],
      "metadata": {
        "id": "jfCmE-1Yh_sQ"
      },
      "execution_count": null,
      "outputs": []
    },
    {
      "cell_type": "code",
      "source": [
        "from sklearn.metrics import accuracy_score"
      ],
      "metadata": {
        "id": "1qxYMSOriFG_"
      },
      "execution_count": null,
      "outputs": []
    },
    {
      "cell_type": "markdown",
      "source": [
        "#PCA with 2 components"
      ],
      "metadata": {
        "id": "3LmoosIuFui4"
      }
    },
    {
      "cell_type": "code",
      "source": [
        "for modl in models:\n",
        "    model=modl.fit(X_train,y_train)\n",
        "    y_pred=model.predict(X_test)\n",
        "    score=accuracy_score(y_test,y_pred)\n",
        "    print(\"For \"+type(model).__name__+\" is------\\n\")\n",
        "    print(\"Accuracy is\",score)\n",
        "    print('\\n\\n--------------------------------------------------------------------------------------------\\n\\n')"
      ],
      "metadata": {
        "colab": {
          "base_uri": "https://localhost:8080/"
        },
        "id": "yPcx2ieniJku",
        "outputId": "45a4d29e-376d-4be1-c982-f31d80ccf27b"
      },
      "execution_count": null,
      "outputs": [
        {
          "output_type": "stream",
          "name": "stdout",
          "text": [
            "For KNeighborsClassifier is------\n",
            "\n",
            "Accuracy is 0.21983839509612704\n",
            "\n",
            "\n",
            "--------------------------------------------------------------------------------------------\n",
            "\n",
            "\n",
            "For GaussianNB is------\n",
            "\n",
            "Accuracy is 0.25703538590136527\n",
            "\n",
            "\n",
            "--------------------------------------------------------------------------------------------\n",
            "\n",
            "\n",
            "For RandomForestClassifier is------\n",
            "\n",
            "Accuracy is 0.26623014767344666\n",
            "\n",
            "\n",
            "--------------------------------------------------------------------------------------------\n",
            "\n",
            "\n",
            "For SVC is------\n",
            "\n",
            "Accuracy is 0.25466703817219283\n",
            "\n",
            "\n",
            "--------------------------------------------------------------------------------------------\n",
            "\n",
            "\n",
            "For LinearSVC is------\n",
            "\n",
            "Accuracy is 0.2302869880189468\n",
            "\n",
            "\n",
            "--------------------------------------------------------------------------------------------\n",
            "\n",
            "\n"
          ]
        },
        {
          "output_type": "stream",
          "name": "stderr",
          "text": [
            "/usr/local/lib/python3.7/dist-packages/sklearn/svm/_base.py:1208: ConvergenceWarning: Liblinear failed to converge, increase the number of iterations.\n",
            "  ConvergenceWarning,\n"
          ]
        }
      ]
    },
    {
      "cell_type": "code",
      "source": [
        "models =[KNeighborsClassifier(),GaussianNB(),RandomForestClassifier()]"
      ],
      "metadata": {
        "id": "lMdYJOPWqa6B"
      },
      "execution_count": null,
      "outputs": []
    },
    {
      "cell_type": "markdown",
      "source": [
        "#Normal data"
      ],
      "metadata": {
        "id": "EXhtq4t4F6qz"
      }
    },
    {
      "cell_type": "code",
      "source": [
        "for modl in models:\n",
        "    model=modl.fit(x_train,y_train)\n",
        "    y_pred=model.predict(x_test)\n",
        "    score=accuracy_score(y_test,y_pred)\n",
        "    print(\"For \"+type(model).__name__+\" is------\\n\")\n",
        "    print(\"Accuracy is\",score)\n",
        "    print('\\n\\n--------------------------------------------------------------------------------------------\\n\\n')"
      ],
      "metadata": {
        "colab": {
          "base_uri": "https://localhost:8080/"
        },
        "id": "dE1xZKzGiaYI",
        "outputId": "0d79b693-e5c8-4969-cf14-129c5d73f5d1"
      },
      "execution_count": null,
      "outputs": [
        {
          "output_type": "stream",
          "name": "stdout",
          "text": [
            "For KNeighborsClassifier is------\n",
            "\n",
            "Accuracy is 0.3344942881025355\n",
            "\n",
            "\n",
            "--------------------------------------------------------------------------------------------\n",
            "\n",
            "\n",
            "For GaussianNB is------\n",
            "\n",
            "Accuracy is 0.22638617999442742\n",
            "\n",
            "\n",
            "--------------------------------------------------------------------------------------------\n",
            "\n",
            "\n",
            "For RandomForestClassifier is------\n",
            "\n",
            "Accuracy is 0.46475341320702146\n",
            "\n",
            "\n",
            "--------------------------------------------------------------------------------------------\n",
            "\n",
            "\n"
          ]
        }
      ]
    },
    {
      "cell_type": "markdown",
      "source": [
        "#Data Scaled by Standard Scalar"
      ],
      "metadata": {
        "id": "Pb797mpdGKF7"
      }
    },
    {
      "cell_type": "code",
      "source": [
        "for modl in models:\n",
        "    model=modl.fit(xtrain,y_train)\n",
        "    y_pred=model.predict(xtest)\n",
        "    score=accuracy_score(y_test,y_pred)\n",
        "    print(\"For \"+type(model).__name__+\" is------\\n\")\n",
        "    print(\"Accuracy is\",score)\n",
        "    print('\\n\\n--------------------------------------------------------------------------------------------\\n\\n')"
      ],
      "metadata": {
        "colab": {
          "base_uri": "https://localhost:8080/"
        },
        "id": "X-nSFRk5jbk1",
        "outputId": "56effb36-c640-489e-98c8-bfd5ba485fc6"
      },
      "execution_count": null,
      "outputs": [
        {
          "output_type": "stream",
          "name": "stdout",
          "text": [
            "For KNeighborsClassifier is------\n",
            "\n",
            "Accuracy is 0.34076344385622737\n",
            "\n",
            "\n",
            "--------------------------------------------------------------------------------------------\n",
            "\n",
            "\n",
            "For GaussianNB is------\n",
            "\n",
            "Accuracy is 0.22638617999442742\n",
            "\n",
            "\n",
            "--------------------------------------------------------------------------------------------\n",
            "\n",
            "\n",
            "For RandomForestClassifier is------\n",
            "\n",
            "Accuracy is 0.46336026748397885\n",
            "\n",
            "\n",
            "--------------------------------------------------------------------------------------------\n",
            "\n",
            "\n"
          ]
        }
      ]
    },
    {
      "cell_type": "markdown",
      "source": [
        "#PCA with 5 compnents"
      ],
      "metadata": {
        "id": "Iptom8QSGSaa"
      }
    },
    {
      "cell_type": "code",
      "source": [
        "for modl in models:\n",
        "    model=modl.fit(x2_train,y_train)\n",
        "    y_pred=model.predict(x2_test)\n",
        "    score=accuracy_score(y_test,y_pred)\n",
        "    print(\"For \"+type(model).__name__+\" is------\\n\")\n",
        "    print(\"Accuracy is\",score)\n",
        "    print('\\n\\n--------------------------------------------------------------------------------------------\\n\\n')"
      ],
      "metadata": {
        "colab": {
          "base_uri": "https://localhost:8080/"
        },
        "id": "QX42aCHC0lAT",
        "outputId": "9a3e62d4-c4bf-4a9e-d220-8ff95354ef6f"
      },
      "execution_count": null,
      "outputs": [
        {
          "output_type": "stream",
          "name": "stdout",
          "text": [
            "For KNeighborsClassifier is------\n",
            "\n",
            "Accuracy is 0.27291724714405124\n",
            "\n",
            "\n",
            "--------------------------------------------------------------------------------------------\n",
            "\n",
            "\n",
            "For GaussianNB is------\n",
            "\n",
            "Accuracy is 0.26804123711340205\n",
            "\n",
            "\n",
            "--------------------------------------------------------------------------------------------\n",
            "\n",
            "\n",
            "For RandomForestClassifier is------\n",
            "\n",
            "Accuracy is 0.3556701030927835\n",
            "\n",
            "\n",
            "--------------------------------------------------------------------------------------------\n",
            "\n",
            "\n"
          ]
        }
      ]
    },
    {
      "cell_type": "markdown",
      "source": [
        "#By Scaliing"
      ],
      "metadata": {
        "id": "zCj8HjH9FPhe"
      }
    },
    {
      "cell_type": "code",
      "source": [
        ""
      ],
      "metadata": {
        "id": "wefbpV3tFPI_"
      },
      "execution_count": null,
      "outputs": []
    },
    {
      "cell_type": "code",
      "source": [
        "xx_test = x_test/255\n",
        "xx_train = x_train/255"
      ],
      "metadata": {
        "id": "X5jm7GZa5c5E"
      },
      "execution_count": null,
      "outputs": []
    },
    {
      "cell_type": "code",
      "source": [
        "from sklearn.preprocessing import StandardScaler\n",
        "sc = StandardScaler()"
      ],
      "metadata": {
        "id": "X_45wtkME3j9"
      },
      "execution_count": null,
      "outputs": []
    },
    {
      "cell_type": "code",
      "source": [
        "scaled_train = sc.fit_transform(xx_train)\n",
        "scaled_test= sc.transform(xx_test)"
      ],
      "metadata": {
        "id": "-7X-uXifItPR"
      },
      "execution_count": null,
      "outputs": []
    },
    {
      "cell_type": "code",
      "source": [
        "models =[KNeighborsClassifier(),GaussianNB(),RandomForestClassifier()]"
      ],
      "metadata": {
        "id": "3xiXYQjHFMqU"
      },
      "execution_count": null,
      "outputs": []
    },
    {
      "cell_type": "code",
      "source": [
        "for modl in models:\n",
        "    model=modl.fit(xx_train,y_train)\n",
        "    y_pred=model.predict(xx_test)\n",
        "    score=accuracy_score(y_test,y_pred)\n",
        "    print(\"For \"+type(model).__name__+\" is------\\n\")\n",
        "    print(\"Accuracy is\",score)\n",
        "    print('\\n\\n--------------------------------------------------------------------------------------------\\n\\n')"
      ],
      "metadata": {
        "colab": {
          "base_uri": "https://localhost:8080/"
        },
        "id": "TROAojf8G0AE",
        "outputId": "68f2e3b9-a273-4239-acf4-64f2fb574c4a"
      },
      "execution_count": null,
      "outputs": [
        {
          "output_type": "stream",
          "name": "stdout",
          "text": [
            "For KNeighborsClassifier is------\n",
            "\n",
            "Accuracy is 0.3344942881025355\n",
            "\n",
            "\n",
            "--------------------------------------------------------------------------------------------\n",
            "\n",
            "\n",
            "For GaussianNB is------\n",
            "\n",
            "Accuracy is 0.22638617999442742\n",
            "\n",
            "\n",
            "--------------------------------------------------------------------------------------------\n",
            "\n",
            "\n",
            "For RandomForestClassifier is------\n",
            "\n",
            "Accuracy is 0.46586792978545555\n",
            "\n",
            "\n",
            "--------------------------------------------------------------------------------------------\n",
            "\n",
            "\n"
          ]
        }
      ]
    },
    {
      "cell_type": "code",
      "source": [
        "for modl in models:\n",
        "    model=modl.fit(scaled_train,y_train)\n",
        "    y_pred=model.predict(scaled_test)\n",
        "    score=accuracy_score(y_test,y_pred)\n",
        "    print(\"For \"+type(model).__name__+\" is------\\n\")\n",
        "    print(\"Accuracy is\",score)\n",
        "    print('\\n\\n--------------------------------------------------------------------------------------------\\n\\n')"
      ],
      "metadata": {
        "colab": {
          "base_uri": "https://localhost:8080/"
        },
        "id": "0NsLFNOdHBQH",
        "outputId": "26f769a9-50fa-44a8-fd0e-5f9951bd26fe"
      },
      "execution_count": null,
      "outputs": [
        {
          "output_type": "stream",
          "name": "stdout",
          "text": [
            "For KNeighborsClassifier is------\n",
            "\n",
            "Accuracy is 0.34076344385622737\n",
            "\n",
            "\n",
            "--------------------------------------------------------------------------------------------\n",
            "\n",
            "\n",
            "For GaussianNB is------\n",
            "\n",
            "Accuracy is 0.22638617999442742\n",
            "\n",
            "\n",
            "--------------------------------------------------------------------------------------------\n",
            "\n",
            "\n",
            "For RandomForestClassifier is------\n",
            "\n",
            "Accuracy is 0.4699080523822792\n",
            "\n",
            "\n",
            "--------------------------------------------------------------------------------------------\n",
            "\n",
            "\n"
          ]
        }
      ]
    },
    {
      "cell_type": "code",
      "source": [
        ""
      ],
      "metadata": {
        "id": "q7Y5lFhhJTiY"
      },
      "execution_count": null,
      "outputs": []
    }
  ],
  "metadata": {
    "colab": {
      "name": "Untitled1.ipynb",
      "provenance": [],
      "collapsed_sections": []
    },
    "kernelspec": {
      "display_name": "Python 3",
      "name": "python3"
    },
    "language_info": {
      "name": "python"
    }
  },
  "nbformat": 4,
  "nbformat_minor": 0
}