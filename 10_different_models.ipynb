{
  "nbformat": 4,
  "nbformat_minor": 0,
  "metadata": {
    "colab": {
      "name": "Untitled3.ipynb",
      "provenance": [],
      "collapsed_sections": [
        "ofZtMF3qXO28"
      ]
    },
    "kernelspec": {
      "name": "python3",
      "display_name": "Python 3"
    },
    "language_info": {
      "name": "python"
    },
    "gpuClass": "standard"
  },
  "cells": [
    {
      "cell_type": "markdown",
      "source": [
        "#Data Preparation"
      ],
      "metadata": {
        "id": "ofZtMF3qXO28"
      }
    },
    {
      "cell_type": "code",
      "execution_count": null,
      "metadata": {
        "id": "7tlUrswiFAGs"
      },
      "outputs": [],
      "source": [
        "import pandas as pd\n",
        "import numpy as np"
      ]
    },
    {
      "cell_type": "code",
      "source": [
        "from google.colab import drive\n",
        "drive.mount('/content/drive')"
      ],
      "metadata": {
        "colab": {
          "base_uri": "https://localhost:8080/"
        },
        "id": "lHz61fUQFEDn",
        "outputId": "de0a0c4d-965f-45a5-81bf-bf51c5c6f238"
      },
      "execution_count": null,
      "outputs": [
        {
          "output_type": "stream",
          "name": "stdout",
          "text": [
            "Mounted at /content/drive\n"
          ]
        }
      ]
    },
    {
      "cell_type": "code",
      "source": [
        "import os\n",
        "import cv2"
      ],
      "metadata": {
        "id": "BTYIq5T7FiWr"
      },
      "execution_count": null,
      "outputs": []
    },
    {
      "cell_type": "code",
      "source": [
        "dict = {'pixels':[],'labels':[],'type':[]}\n",
        "folder= r'drive/MyDrive/project/data'"
      ],
      "metadata": {
        "id": "VoRh2ZkQKONA"
      },
      "execution_count": null,
      "outputs": []
    },
    {
      "cell_type": "code",
      "source": [
        "for dtype in os.listdir(folder):\n",
        "  path1 = os.path.join(folder,dtype)\n",
        "  for expression in os.listdir(path1):\n",
        "    path2 = os.path.join(path1,expression)\n",
        "    for x in os.listdir(path2):\n",
        "      imagepath = os.path.join(path2,x)\n",
        "      image = cv2.imread(imagepath,0)\n",
        "      image = image.reshape(48,48,1)\n",
        "\n",
        "      dict['pixels'].append(image)\n",
        "      dict['labels'].append(expression)\n",
        "      dict['type'].append(dtype)\n",
        "  \n",
        "df = pd.DataFrame(dict)\n",
        "df.head()"
      ],
      "metadata": {
        "colab": {
          "base_uri": "https://localhost:8080/",
          "height": 206
        },
        "id": "ETUaWjg5N3y6",
        "outputId": "6be6df2a-d6f5-4916-9f67-edf69b3562b6"
      },
      "execution_count": null,
      "outputs": [
        {
          "output_type": "execute_result",
          "data": {
            "text/plain": [
              "                                              pixels labels  type\n",
              "0  [[[64], [62], [64], [65], [62], [63], [65], [6...  angry  test\n",
              "1  [[[121], [139], [145], [130], [129], [132], [1...  angry  test\n",
              "2  [[[67], [65], [59], [60], [42], [16], [4], [6]...  angry  test\n",
              "3  [[[92], [93], [90], [85], [207], [237], [226],...  angry  test\n",
              "4  [[[173], [170], [160], [142], [118], [86], [25...  angry  test"
            ],
            "text/html": [
              "\n",
              "  <div id=\"df-2cf3c876-e065-48cb-8e11-3bcd0dcc4331\">\n",
              "    <div class=\"colab-df-container\">\n",
              "      <div>\n",
              "<style scoped>\n",
              "    .dataframe tbody tr th:only-of-type {\n",
              "        vertical-align: middle;\n",
              "    }\n",
              "\n",
              "    .dataframe tbody tr th {\n",
              "        vertical-align: top;\n",
              "    }\n",
              "\n",
              "    .dataframe thead th {\n",
              "        text-align: right;\n",
              "    }\n",
              "</style>\n",
              "<table border=\"1\" class=\"dataframe\">\n",
              "  <thead>\n",
              "    <tr style=\"text-align: right;\">\n",
              "      <th></th>\n",
              "      <th>pixels</th>\n",
              "      <th>labels</th>\n",
              "      <th>type</th>\n",
              "    </tr>\n",
              "  </thead>\n",
              "  <tbody>\n",
              "    <tr>\n",
              "      <th>0</th>\n",
              "      <td>[[[64], [62], [64], [65], [62], [63], [65], [6...</td>\n",
              "      <td>angry</td>\n",
              "      <td>test</td>\n",
              "    </tr>\n",
              "    <tr>\n",
              "      <th>1</th>\n",
              "      <td>[[[121], [139], [145], [130], [129], [132], [1...</td>\n",
              "      <td>angry</td>\n",
              "      <td>test</td>\n",
              "    </tr>\n",
              "    <tr>\n",
              "      <th>2</th>\n",
              "      <td>[[[67], [65], [59], [60], [42], [16], [4], [6]...</td>\n",
              "      <td>angry</td>\n",
              "      <td>test</td>\n",
              "    </tr>\n",
              "    <tr>\n",
              "      <th>3</th>\n",
              "      <td>[[[92], [93], [90], [85], [207], [237], [226],...</td>\n",
              "      <td>angry</td>\n",
              "      <td>test</td>\n",
              "    </tr>\n",
              "    <tr>\n",
              "      <th>4</th>\n",
              "      <td>[[[173], [170], [160], [142], [118], [86], [25...</td>\n",
              "      <td>angry</td>\n",
              "      <td>test</td>\n",
              "    </tr>\n",
              "  </tbody>\n",
              "</table>\n",
              "</div>\n",
              "      <button class=\"colab-df-convert\" onclick=\"convertToInteractive('df-2cf3c876-e065-48cb-8e11-3bcd0dcc4331')\"\n",
              "              title=\"Convert this dataframe to an interactive table.\"\n",
              "              style=\"display:none;\">\n",
              "        \n",
              "  <svg xmlns=\"http://www.w3.org/2000/svg\" height=\"24px\"viewBox=\"0 0 24 24\"\n",
              "       width=\"24px\">\n",
              "    <path d=\"M0 0h24v24H0V0z\" fill=\"none\"/>\n",
              "    <path d=\"M18.56 5.44l.94 2.06.94-2.06 2.06-.94-2.06-.94-.94-2.06-.94 2.06-2.06.94zm-11 1L8.5 8.5l.94-2.06 2.06-.94-2.06-.94L8.5 2.5l-.94 2.06-2.06.94zm10 10l.94 2.06.94-2.06 2.06-.94-2.06-.94-.94-2.06-.94 2.06-2.06.94z\"/><path d=\"M17.41 7.96l-1.37-1.37c-.4-.4-.92-.59-1.43-.59-.52 0-1.04.2-1.43.59L10.3 9.45l-7.72 7.72c-.78.78-.78 2.05 0 2.83L4 21.41c.39.39.9.59 1.41.59.51 0 1.02-.2 1.41-.59l7.78-7.78 2.81-2.81c.8-.78.8-2.07 0-2.86zM5.41 20L4 18.59l7.72-7.72 1.47 1.35L5.41 20z\"/>\n",
              "  </svg>\n",
              "      </button>\n",
              "      \n",
              "  <style>\n",
              "    .colab-df-container {\n",
              "      display:flex;\n",
              "      flex-wrap:wrap;\n",
              "      gap: 12px;\n",
              "    }\n",
              "\n",
              "    .colab-df-convert {\n",
              "      background-color: #E8F0FE;\n",
              "      border: none;\n",
              "      border-radius: 50%;\n",
              "      cursor: pointer;\n",
              "      display: none;\n",
              "      fill: #1967D2;\n",
              "      height: 32px;\n",
              "      padding: 0 0 0 0;\n",
              "      width: 32px;\n",
              "    }\n",
              "\n",
              "    .colab-df-convert:hover {\n",
              "      background-color: #E2EBFA;\n",
              "      box-shadow: 0px 1px 2px rgba(60, 64, 67, 0.3), 0px 1px 3px 1px rgba(60, 64, 67, 0.15);\n",
              "      fill: #174EA6;\n",
              "    }\n",
              "\n",
              "    [theme=dark] .colab-df-convert {\n",
              "      background-color: #3B4455;\n",
              "      fill: #D2E3FC;\n",
              "    }\n",
              "\n",
              "    [theme=dark] .colab-df-convert:hover {\n",
              "      background-color: #434B5C;\n",
              "      box-shadow: 0px 1px 3px 1px rgba(0, 0, 0, 0.15);\n",
              "      filter: drop-shadow(0px 1px 2px rgba(0, 0, 0, 0.3));\n",
              "      fill: #FFFFFF;\n",
              "    }\n",
              "  </style>\n",
              "\n",
              "      <script>\n",
              "        const buttonEl =\n",
              "          document.querySelector('#df-2cf3c876-e065-48cb-8e11-3bcd0dcc4331 button.colab-df-convert');\n",
              "        buttonEl.style.display =\n",
              "          google.colab.kernel.accessAllowed ? 'block' : 'none';\n",
              "\n",
              "        async function convertToInteractive(key) {\n",
              "          const element = document.querySelector('#df-2cf3c876-e065-48cb-8e11-3bcd0dcc4331');\n",
              "          const dataTable =\n",
              "            await google.colab.kernel.invokeFunction('convertToInteractive',\n",
              "                                                     [key], {});\n",
              "          if (!dataTable) return;\n",
              "\n",
              "          const docLinkHtml = 'Like what you see? Visit the ' +\n",
              "            '<a target=\"_blank\" href=https://colab.research.google.com/notebooks/data_table.ipynb>data table notebook</a>'\n",
              "            + ' to learn more about interactive tables.';\n",
              "          element.innerHTML = '';\n",
              "          dataTable['output_type'] = 'display_data';\n",
              "          await google.colab.output.renderOutput(dataTable, element);\n",
              "          const docLink = document.createElement('div');\n",
              "          docLink.innerHTML = docLinkHtml;\n",
              "          element.appendChild(docLink);\n",
              "        }\n",
              "      </script>\n",
              "    </div>\n",
              "  </div>\n",
              "  "
            ]
          },
          "metadata": {},
          "execution_count": 5
        }
      ]
    },
    {
      "cell_type": "code",
      "source": [
        "df.info()"
      ],
      "metadata": {
        "colab": {
          "base_uri": "https://localhost:8080/"
        },
        "id": "SU8FOM1cO-_1",
        "outputId": "684e474c-ad7d-4cbd-ef7c-452607887eaf"
      },
      "execution_count": null,
      "outputs": [
        {
          "output_type": "stream",
          "name": "stdout",
          "text": [
            "<class 'pandas.core.frame.DataFrame'>\n",
            "RangeIndex: 35887 entries, 0 to 35886\n",
            "Data columns (total 3 columns):\n",
            " #   Column  Non-Null Count  Dtype \n",
            "---  ------  --------------  ----- \n",
            " 0   pixels  35887 non-null  object\n",
            " 1   labels  35887 non-null  object\n",
            " 2   type    35887 non-null  object\n",
            "dtypes: object(3)\n",
            "memory usage: 841.2+ KB\n"
          ]
        }
      ]
    },
    {
      "cell_type": "code",
      "source": [
        ""
      ],
      "metadata": {
        "id": "vfMVSYRsO-Rv"
      },
      "execution_count": null,
      "outputs": []
    },
    {
      "cell_type": "code",
      "source": [
        ""
      ],
      "metadata": {
        "id": "cE-j8HpNO-Dl"
      },
      "execution_count": null,
      "outputs": []
    },
    {
      "cell_type": "code",
      "source": [
        ""
      ],
      "metadata": {
        "id": "5xNwdwXFO9zi"
      },
      "execution_count": null,
      "outputs": []
    },
    {
      "cell_type": "code",
      "source": [
        ""
      ],
      "metadata": {
        "id": "NzyqdhkEVUnS"
      },
      "execution_count": null,
      "outputs": []
    },
    {
      "cell_type": "code",
      "source": [
        ""
      ],
      "metadata": {
        "id": "CSkMGOuJggmz"
      },
      "execution_count": null,
      "outputs": []
    },
    {
      "cell_type": "code",
      "source": [
        "df.shape"
      ],
      "metadata": {
        "colab": {
          "base_uri": "https://localhost:8080/"
        },
        "id": "PMbLTkvukAr-",
        "outputId": "ad15d842-8c5d-4372-f130-d34ce4338884"
      },
      "execution_count": null,
      "outputs": [
        {
          "output_type": "execute_result",
          "data": {
            "text/plain": [
              "(35887, 3)"
            ]
          },
          "metadata": {},
          "execution_count": 7
        }
      ]
    },
    {
      "cell_type": "code",
      "source": [
        "df.type.value_counts()"
      ],
      "metadata": {
        "colab": {
          "base_uri": "https://localhost:8080/"
        },
        "id": "Ej4mY9EqkGaO",
        "outputId": "4f2490ff-e9ba-4007-9a83-59eb04e09e67"
      },
      "execution_count": null,
      "outputs": [
        {
          "output_type": "execute_result",
          "data": {
            "text/plain": [
              "train    28709\n",
              "test      7178\n",
              "Name: type, dtype: int64"
            ]
          },
          "metadata": {},
          "execution_count": 8
        }
      ]
    },
    {
      "cell_type": "code",
      "source": [
        "train_data = df[df['type']=='train']\n",
        "test_data = df[df['type']=='test']"
      ],
      "metadata": {
        "id": "1rxsz7rFPrDd"
      },
      "execution_count": null,
      "outputs": []
    },
    {
      "cell_type": "code",
      "source": [
        "print(train_data.shape)\n",
        "print(test_data.shape)"
      ],
      "metadata": {
        "colab": {
          "base_uri": "https://localhost:8080/"
        },
        "id": "IBeOf5C1lFgX",
        "outputId": "85c25113-70b7-46b6-adee-54e7728b36ce"
      },
      "execution_count": null,
      "outputs": [
        {
          "output_type": "stream",
          "name": "stdout",
          "text": [
            "(28709, 3)\n",
            "(7178, 3)\n"
          ]
        }
      ]
    },
    {
      "cell_type": "code",
      "source": [
        "import matplotlib.pyplot as plt\n",
        "import seaborn as sns\n",
        "\n",
        "import warnings\n",
        "warnings.filterwarnings('ignore')"
      ],
      "metadata": {
        "id": "otkl3gsUgx2b"
      },
      "execution_count": null,
      "outputs": []
    },
    {
      "cell_type": "code",
      "source": [
        "sns.countplot(train_data['labels'])"
      ],
      "metadata": {
        "colab": {
          "base_uri": "https://localhost:8080/",
          "height": 296
        },
        "id": "OEN7uPm1hAez",
        "outputId": "993b5bc2-903a-4a23-d9cf-6e853f6a038d"
      },
      "execution_count": null,
      "outputs": [
        {
          "output_type": "execute_result",
          "data": {
            "text/plain": [
              "<matplotlib.axes._subplots.AxesSubplot at 0x7f3ce9b47990>"
            ]
          },
          "metadata": {},
          "execution_count": 12
        },
        {
          "output_type": "display_data",
          "data": {
            "text/plain": [
              "<Figure size 432x288 with 1 Axes>"
            ],
            "image/png": "[encoded data removed]"
          },
          "metadata": {
            "needs_background": "light"
          }
        }
      ]
    },
    {
      "cell_type": "code",
      "source": [
        "sns.countplot(test_data['labels'])"
      ],
      "metadata": {
        "colab": {
          "base_uri": "https://localhost:8080/",
          "height": 296
        },
        "id": "ENTj4P6YhRGr",
        "outputId": "67ca93fc-ffb7-4242-e682-945aafd15b7e"
      },
      "execution_count": null,
      "outputs": [
        {
          "output_type": "execute_result",
          "data": {
            "text/plain": [
              "<matplotlib.axes._subplots.AxesSubplot at 0x7f3ce93bb450>"
            ]
          },
          "metadata": {},
          "execution_count": 13
        },
        {
          "output_type": "display_data",
          "data": {
            "text/plain": [
              "<Figure size 432x288 with 1 Axes>"
            ],
            "image/png": "[encoded data removed]"
          },
          "metadata": {
            "needs_background": "light"
          }
        }
      ]
    },
    {
      "cell_type": "code",
      "source": [
        ""
      ],
      "metadata": {
        "id": "qX_pHo6RK7bK"
      },
      "execution_count": null,
      "outputs": []
    },
    {
      "cell_type": "code",
      "source": [
        ""
      ],
      "metadata": {
        "id": "I7FQ-JLBK8Cz"
      },
      "execution_count": null,
      "outputs": []
    },
    {
      "cell_type": "code",
      "source": [
        ""
      ],
      "metadata": {
        "id": "ARNGqO3CK8GG"
      },
      "execution_count": null,
      "outputs": []
    },
    {
      "cell_type": "code",
      "source": [
        ""
      ],
      "metadata": {
        "id": "Hs0xY1ReK8JT"
      },
      "execution_count": null,
      "outputs": []
    },
    {
      "cell_type": "code",
      "source": [
        "from sklearn.preprocessing import LabelEncoder\n",
        "le=LabelEncoder()\n",
        "\n",
        "train_data['labels'] = le.fit_transform(train_data['labels'])\n",
        "test_data['labels'] = le.transform(test_data['labels'])"
      ],
      "metadata": {
        "id": "c3oryJMXhbfK"
      },
      "execution_count": null,
      "outputs": []
    },
    {
      "cell_type": "code",
      "source": [
        "le.classes_"
      ],
      "metadata": {
        "colab": {
          "base_uri": "https://localhost:8080/"
        },
        "id": "4VKSQo1Ij4Wy",
        "outputId": "0b0ed55c-11c2-4eeb-e442-ab070685e41a"
      },
      "execution_count": null,
      "outputs": [
        {
          "output_type": "execute_result",
          "data": {
            "text/plain": [
              "array(['angry', 'disgust', 'fear', 'happy', 'neutral', 'sad', 'surprise'],\n",
              "      dtype=object)"
            ]
          },
          "metadata": {},
          "execution_count": 15
        }
      ]
    },
    {
      "cell_type": "code",
      "source": [
        "train_data.head()\n"
      ],
      "metadata": {
        "colab": {
          "base_uri": "https://localhost:8080/",
          "height": 206
        },
        "id": "7Bou1Blqj8IF",
        "outputId": "cee0140a-e5ca-417e-d560-97bfc9bf050a"
      },
      "execution_count": null,
      "outputs": [
        {
          "output_type": "execute_result",
          "data": {
            "text/plain": [
              "                                                 pixels  labels   type\n",
              "7178  [[[251], [235], [216], [198], [207], [218], [2...       0  train\n",
              "7179  [[[4], [5], [2], [2], [31], [62], [77], [86], ...       0  train\n",
              "7180  [[[113], [68], [64], [65], [79], [19], [37], [...       0  train\n",
              "7181  [[[163], [112], [100], [83], [95], [109], [136...       0  train\n",
              "7182  [[[202], [204], [198], [197], [188], [170], [9...       0  train"
            ],
            "text/html": [
              "\n",
              "  <div id=\"df-1225fa14-5b7d-4ac7-9466-654ca5ee5457\">\n",
              "    <div class=\"colab-df-container\">\n",
              "      <div>\n",
              "<style scoped>\n",
              "    .dataframe tbody tr th:only-of-type {\n",
              "        vertical-align: middle;\n",
              "    }\n",
              "\n",
              "    .dataframe tbody tr th {\n",
              "        vertical-align: top;\n",
              "    }\n",
              "\n",
              "    .dataframe thead th {\n",
              "        text-align: right;\n",
              "    }\n",
              "</style>\n",
              "<table border=\"1\" class=\"dataframe\">\n",
              "  <thead>\n",
              "    <tr style=\"text-align: right;\">\n",
              "      <th></th>\n",
              "      <th>pixels</th>\n",
              "      <th>labels</th>\n",
              "      <th>type</th>\n",
              "    </tr>\n",
              "  </thead>\n",
              "  <tbody>\n",
              "    <tr>\n",
              "      <th>7178</th>\n",
              "      <td>[[[251], [235], [216], [198], [207], [218], [2...</td>\n",
              "      <td>0</td>\n",
              "      <td>train</td>\n",
              "    </tr>\n",
              "    <tr>\n",
              "      <th>7179</th>\n",
              "      <td>[[[4], [5], [2], [2], [31], [62], [77], [86], ...</td>\n",
              "      <td>0</td>\n",
              "      <td>train</td>\n",
              "    </tr>\n",
              "    <tr>\n",
              "      <th>7180</th>\n",
              "      <td>[[[113], [68], [64], [65], [79], [19], [37], [...</td>\n",
              "      <td>0</td>\n",
              "      <td>train</td>\n",
              "    </tr>\n",
              "    <tr>\n",
              "      <th>7181</th>\n",
              "      <td>[[[163], [112], [100], [83], [95], [109], [136...</td>\n",
              "      <td>0</td>\n",
              "      <td>train</td>\n",
              "    </tr>\n",
              "    <tr>\n",
              "      <th>7182</th>\n",
              "      <td>[[[202], [204], [198], [197], [188], [170], [9...</td>\n",
              "      <td>0</td>\n",
              "      <td>train</td>\n",
              "    </tr>\n",
              "  </tbody>\n",
              "</table>\n",
              "</div>\n",
              "      <button class=\"colab-df-convert\" onclick=\"convertToInteractive('df-1225fa14-5b7d-4ac7-9466-654ca5ee5457')\"\n",
              "              title=\"Convert this dataframe to an interactive table.\"\n",
              "              style=\"display:none;\">\n",
              "        \n",
              "  <svg xmlns=\"http://www.w3.org/2000/svg\" height=\"24px\"viewBox=\"0 0 24 24\"\n",
              "       width=\"24px\">\n",
              "    <path d=\"M0 0h24v24H0V0z\" fill=\"none\"/>\n",
              "    <path d=\"M18.56 5.44l.94 2.06.94-2.06 2.06-.94-2.06-.94-.94-2.06-.94 2.06-2.06.94zm-11 1L8.5 8.5l.94-2.06 2.06-.94-2.06-.94L8.5 2.5l-.94 2.06-2.06.94zm10 10l.94 2.06.94-2.06 2.06-.94-2.06-.94-.94-2.06-.94 2.06-2.06.94z\"/><path d=\"M17.41 7.96l-1.37-1.37c-.4-.4-.92-.59-1.43-.59-.52 0-1.04.2-1.43.59L10.3 9.45l-7.72 7.72c-.78.78-.78 2.05 0 2.83L4 21.41c.39.39.9.59 1.41.59.51 0 1.02-.2 1.41-.59l7.78-7.78 2.81-2.81c.8-.78.8-2.07 0-2.86zM5.41 20L4 18.59l7.72-7.72 1.47 1.35L5.41 20z\"/>\n",
              "  </svg>\n",
              "      </button>\n",
              "      \n",
              "  <style>\n",
              "    .colab-df-container {\n",
              "      display:flex;\n",
              "      flex-wrap:wrap;\n",
              "      gap: 12px;\n",
              "    }\n",
              "\n",
              "    .colab-df-convert {\n",
              "      background-color: #E8F0FE;\n",
              "      border: none;\n",
              "      border-radius: 50%;\n",
              "      cursor: pointer;\n",
              "      display: none;\n",
              "      fill: #1967D2;\n",
              "      height: 32px;\n",
              "      padding: 0 0 0 0;\n",
              "      width: 32px;\n",
              "    }\n",
              "\n",
              "    .colab-df-convert:hover {\n",
              "      background-color: #E2EBFA;\n",
              "      box-shadow: 0px 1px 2px rgba(60, 64, 67, 0.3), 0px 1px 3px 1px rgba(60, 64, 67, 0.15);\n",
              "      fill: #174EA6;\n",
              "    }\n",
              "\n",
              "    [theme=dark] .colab-df-convert {\n",
              "      background-color: #3B4455;\n",
              "      fill: #D2E3FC;\n",
              "    }\n",
              "\n",
              "    [theme=dark] .colab-df-convert:hover {\n",
              "      background-color: #434B5C;\n",
              "      box-shadow: 0px 1px 3px 1px rgba(0, 0, 0, 0.15);\n",
              "      filter: drop-shadow(0px 1px 2px rgba(0, 0, 0, 0.3));\n",
              "      fill: #FFFFFF;\n",
              "    }\n",
              "  </style>\n",
              "\n",
              "      <script>\n",
              "        const buttonEl =\n",
              "          document.querySelector('#df-1225fa14-5b7d-4ac7-9466-654ca5ee5457 button.colab-df-convert');\n",
              "        buttonEl.style.display =\n",
              "          google.colab.kernel.accessAllowed ? 'block' : 'none';\n",
              "\n",
              "        async function convertToInteractive(key) {\n",
              "          const element = document.querySelector('#df-1225fa14-5b7d-4ac7-9466-654ca5ee5457');\n",
              "          const dataTable =\n",
              "            await google.colab.kernel.invokeFunction('convertToInteractive',\n",
              "                                                     [key], {});\n",
              "          if (!dataTable) return;\n",
              "\n",
              "          const docLinkHtml = 'Like what you see? Visit the ' +\n",
              "            '<a target=\"_blank\" href=https://colab.research.google.com/notebooks/data_table.ipynb>data table notebook</a>'\n",
              "            + ' to learn more about interactive tables.';\n",
              "          element.innerHTML = '';\n",
              "          dataTable['output_type'] = 'display_data';\n",
              "          await google.colab.output.renderOutput(dataTable, element);\n",
              "          const docLink = document.createElement('div');\n",
              "          docLink.innerHTML = docLinkHtml;\n",
              "          element.appendChild(docLink);\n",
              "        }\n",
              "      </script>\n",
              "    </div>\n",
              "  </div>\n",
              "  "
            ]
          },
          "metadata": {},
          "execution_count": 16
        }
      ]
    },
    {
      "cell_type": "code",
      "source": [
        ""
      ],
      "metadata": {
        "id": "phzRGCl6mMN3"
      },
      "execution_count": null,
      "outputs": []
    },
    {
      "cell_type": "code",
      "source": [
        "test_data.head()"
      ],
      "metadata": {
        "colab": {
          "base_uri": "https://localhost:8080/",
          "height": 206
        },
        "id": "Cgk0KwKol9Kg",
        "outputId": "2826775d-c089-43ee-e7f4-163c665f814a"
      },
      "execution_count": null,
      "outputs": [
        {
          "output_type": "execute_result",
          "data": {
            "text/plain": [
              "                                              pixels  labels  type\n",
              "0  [[[64], [62], [64], [65], [62], [63], [65], [6...       0  test\n",
              "1  [[[121], [139], [145], [130], [129], [132], [1...       0  test\n",
              "2  [[[67], [65], [59], [60], [42], [16], [4], [6]...       0  test\n",
              "3  [[[92], [93], [90], [85], [207], [237], [226],...       0  test\n",
              "4  [[[173], [170], [160], [142], [118], [86], [25...       0  test"
            ],
            "text/html": [
              "\n",
              "  <div id=\"df-98ef7305-f847-4345-8088-d1b814451d8f\">\n",
              "    <div class=\"colab-df-container\">\n",
              "      <div>\n",
              "<style scoped>\n",
              "    .dataframe tbody tr th:only-of-type {\n",
              "        vertical-align: middle;\n",
              "    }\n",
              "\n",
              "    .dataframe tbody tr th {\n",
              "        vertical-align: top;\n",
              "    }\n",
              "\n",
              "    .dataframe thead th {\n",
              "        text-align: right;\n",
              "    }\n",
              "</style>\n",
              "<table border=\"1\" class=\"dataframe\">\n",
              "  <thead>\n",
              "    <tr style=\"text-align: right;\">\n",
              "      <th></th>\n",
              "      <th>pixels</th>\n",
              "      <th>labels</th>\n",
              "      <th>type</th>\n",
              "    </tr>\n",
              "  </thead>\n",
              "  <tbody>\n",
              "    <tr>\n",
              "      <th>0</th>\n",
              "      <td>[[[64], [62], [64], [65], [62], [63], [65], [6...</td>\n",
              "      <td>0</td>\n",
              "      <td>test</td>\n",
              "    </tr>\n",
              "    <tr>\n",
              "      <th>1</th>\n",
              "      <td>[[[121], [139], [145], [130], [129], [132], [1...</td>\n",
              "      <td>0</td>\n",
              "      <td>test</td>\n",
              "    </tr>\n",
              "    <tr>\n",
              "      <th>2</th>\n",
              "      <td>[[[67], [65], [59], [60], [42], [16], [4], [6]...</td>\n",
              "      <td>0</td>\n",
              "      <td>test</td>\n",
              "    </tr>\n",
              "    <tr>\n",
              "      <th>3</th>\n",
              "      <td>[[[92], [93], [90], [85], [207], [237], [226],...</td>\n",
              "      <td>0</td>\n",
              "      <td>test</td>\n",
              "    </tr>\n",
              "    <tr>\n",
              "      <th>4</th>\n",
              "      <td>[[[173], [170], [160], [142], [118], [86], [25...</td>\n",
              "      <td>0</td>\n",
              "      <td>test</td>\n",
              "    </tr>\n",
              "  </tbody>\n",
              "</table>\n",
              "</div>\n",
              "      <button class=\"colab-df-convert\" onclick=\"convertToInteractive('df-98ef7305-f847-4345-8088-d1b814451d8f')\"\n",
              "              title=\"Convert this dataframe to an interactive table.\"\n",
              "              style=\"display:none;\">\n",
              "        \n",
              "  <svg xmlns=\"http://www.w3.org/2000/svg\" height=\"24px\"viewBox=\"0 0 24 24\"\n",
              "       width=\"24px\">\n",
              "    <path d=\"M0 0h24v24H0V0z\" fill=\"none\"/>\n",
              "    <path d=\"M18.56 5.44l.94 2.06.94-2.06 2.06-.94-2.06-.94-.94-2.06-.94 2.06-2.06.94zm-11 1L8.5 8.5l.94-2.06 2.06-.94-2.06-.94L8.5 2.5l-.94 2.06-2.06.94zm10 10l.94 2.06.94-2.06 2.06-.94-2.06-.94-.94-2.06-.94 2.06-2.06.94z\"/><path d=\"M17.41 7.96l-1.37-1.37c-.4-.4-.92-.59-1.43-.59-.52 0-1.04.2-1.43.59L10.3 9.45l-7.72 7.72c-.78.78-.78 2.05 0 2.83L4 21.41c.39.39.9.59 1.41.59.51 0 1.02-.2 1.41-.59l7.78-7.78 2.81-2.81c.8-.78.8-2.07 0-2.86zM5.41 20L4 18.59l7.72-7.72 1.47 1.35L5.41 20z\"/>\n",
              "  </svg>\n",
              "      </button>\n",
              "      \n",
              "  <style>\n",
              "    .colab-df-container {\n",
              "      display:flex;\n",
              "      flex-wrap:wrap;\n",
              "      gap: 12px;\n",
              "    }\n",
              "\n",
              "    .colab-df-convert {\n",
              "      background-color: #E8F0FE;\n",
              "      border: none;\n",
              "      border-radius: 50%;\n",
              "      cursor: pointer;\n",
              "      display: none;\n",
              "      fill: #1967D2;\n",
              "      height: 32px;\n",
              "      padding: 0 0 0 0;\n",
              "      width: 32px;\n",
              "    }\n",
              "\n",
              "    .colab-df-convert:hover {\n",
              "      background-color: #E2EBFA;\n",
              "      box-shadow: 0px 1px 2px rgba(60, 64, 67, 0.3), 0px 1px 3px 1px rgba(60, 64, 67, 0.15);\n",
              "      fill: #174EA6;\n",
              "    }\n",
              "\n",
              "    [theme=dark] .colab-df-convert {\n",
              "      background-color: #3B4455;\n",
              "      fill: #D2E3FC;\n",
              "    }\n",
              "\n",
              "    [theme=dark] .colab-df-convert:hover {\n",
              "      background-color: #434B5C;\n",
              "      box-shadow: 0px 1px 3px 1px rgba(0, 0, 0, 0.15);\n",
              "      filter: drop-shadow(0px 1px 2px rgba(0, 0, 0, 0.3));\n",
              "      fill: #FFFFFF;\n",
              "    }\n",
              "  </style>\n",
              "\n",
              "      <script>\n",
              "        const buttonEl =\n",
              "          document.querySelector('#df-98ef7305-f847-4345-8088-d1b814451d8f button.colab-df-convert');\n",
              "        buttonEl.style.display =\n",
              "          google.colab.kernel.accessAllowed ? 'block' : 'none';\n",
              "\n",
              "        async function convertToInteractive(key) {\n",
              "          const element = document.querySelector('#df-98ef7305-f847-4345-8088-d1b814451d8f');\n",
              "          const dataTable =\n",
              "            await google.colab.kernel.invokeFunction('convertToInteractive',\n",
              "                                                     [key], {});\n",
              "          if (!dataTable) return;\n",
              "\n",
              "          const docLinkHtml = 'Like what you see? Visit the ' +\n",
              "            '<a target=\"_blank\" href=https://colab.research.google.com/notebooks/data_table.ipynb>data table notebook</a>'\n",
              "            + ' to learn more about interactive tables.';\n",
              "          element.innerHTML = '';\n",
              "          dataTable['output_type'] = 'display_data';\n",
              "          await google.colab.output.renderOutput(dataTable, element);\n",
              "          const docLink = document.createElement('div');\n",
              "          docLink.innerHTML = docLinkHtml;\n",
              "          element.appendChild(docLink);\n",
              "        }\n",
              "      </script>\n",
              "    </div>\n",
              "  </div>\n",
              "  "
            ]
          },
          "metadata": {},
          "execution_count": 17
        }
      ]
    },
    {
      "cell_type": "code",
      "source": [
        "train_data.labels.value_counts()"
      ],
      "metadata": {
        "colab": {
          "base_uri": "https://localhost:8080/"
        },
        "id": "lIkMDsO91fh8",
        "outputId": "98a14815-c469-40ed-ee13-47567f8bf8bb"
      },
      "execution_count": null,
      "outputs": [
        {
          "output_type": "execute_result",
          "data": {
            "text/plain": [
              "3    7215\n",
              "4    4965\n",
              "5    4830\n",
              "2    4097\n",
              "0    3995\n",
              "6    3171\n",
              "1     436\n",
              "Name: labels, dtype: int64"
            ]
          },
          "metadata": {},
          "execution_count": 18
        }
      ]
    },
    {
      "cell_type": "code",
      "source": [
        ""
      ],
      "metadata": {
        "id": "3vBXCF-I1sZU"
      },
      "execution_count": null,
      "outputs": []
    },
    {
      "cell_type": "code",
      "source": [
        ""
      ],
      "metadata": {
        "id": "9mfGQQB41sLF"
      },
      "execution_count": null,
      "outputs": []
    },
    {
      "cell_type": "code",
      "source": [
        "x_train = train_data['pixels']\n",
        "y_train = train_data['labels']\n",
        "x_test = test_data['pixels']\n",
        "y_test = test_data['labels']"
      ],
      "metadata": {
        "id": "4JhYZfYlmJ-5"
      },
      "execution_count": null,
      "outputs": []
    },
    {
      "cell_type": "code",
      "source": [
        "x = np.array(list(x_train))\n",
        "y = np.array(list(y_train))"
      ],
      "metadata": {
        "id": "v40icfUHsJgx"
      },
      "execution_count": null,
      "outputs": []
    },
    {
      "cell_type": "code",
      "source": [
        "xte = np.array(list(x_test))\n",
        "yte = np.array(list(y_test))"
      ],
      "metadata": {
        "id": "vn-TzJXeFUvE"
      },
      "execution_count": null,
      "outputs": []
    },
    {
      "cell_type": "code",
      "source": [
        "x = x/255.0\n",
        "xte = xte/255.0"
      ],
      "metadata": {
        "id": "5Z56blcFtbG2"
      },
      "execution_count": null,
      "outputs": []
    },
    {
      "cell_type": "markdown",
      "source": [
        ""
      ],
      "metadata": {
        "id": "5-lzyLsliBFQ"
      }
    },
    {
      "cell_type": "markdown",
      "source": [
        "#model"
      ],
      "metadata": {
        "id": "s3rdRSMI2Jct"
      }
    },
    {
      "cell_type": "code",
      "source": [
        ""
      ],
      "metadata": {
        "id": "6TcDK_i4ozdG"
      },
      "execution_count": null,
      "outputs": []
    },
    {
      "cell_type": "code",
      "source": [
        "from keras.models import Sequential\n",
        "from keras.layers import Conv2D, MaxPool2D\n",
        "from keras.layers import Activation, Dropout, Flatten, Dense, BatchNormalization"
      ],
      "metadata": {
        "id": "eOOH5u9e-Czg"
      },
      "execution_count": null,
      "outputs": []
    },
    {
      "cell_type": "code",
      "source": [
        ""
      ],
      "metadata": {
        "id": "uHTYpAcjlcJP"
      },
      "execution_count": null,
      "outputs": []
    },
    {
      "cell_type": "code",
      "source": [
        "model = Sequential()\n",
        "\n",
        "model.add(Conv2D(16,(3,3),activation='relu', input_shape=(48, 48,1)))\n",
        "model.add(BatchNormalization())\n",
        "model.add(MaxPool2D(pool_size=(2, 2)))\n",
        "model.add(Dropout(0.25))\n",
        "\n",
        "model.add(Conv2D(32,(3,3),activation='relu'))\n",
        "model.add(BatchNormalization())\n",
        "model.add(MaxPool2D(pool_size=(2, 2)))\n",
        "model.add(Dropout(0.25))\n",
        "\n",
        "model.add(Conv2D(32,(3,3),activation='relu'))\n",
        "model.add(BatchNormalization())\n",
        "model.add(MaxPool2D(pool_size=(2, 2)))\n",
        "model.add(Dropout(0.25))\n",
        "\n",
        "model.add(Conv2D(64,(3,3),activation='relu'))\n",
        "model.add(BatchNormalization())\n",
        "model.add(MaxPool2D(pool_size=(2, 2)))\n",
        "model.add(Dropout(0.25))\n",
        "\n",
        "model.add(Flatten())\n",
        "\n",
        "model.add(Dense(1024,activation = 'relu'))\n",
        "\n",
        "model.add(Dense(7, activation='softmax'))\n"
      ],
      "metadata": {
        "id": "CK3GLyUSl_Wa",
        "colab": {
          "base_uri": "https://localhost:8080/",
          "height": 237
        },
        "outputId": "585db12b-c67a-4b82-8f33-185d44b369d7"
      },
      "execution_count": null,
      "outputs": [
        {
          "output_type": "error",
          "ename": "NameError",
          "evalue": "ignored",
          "traceback": [
            "\u001b[0;31m---------------------------------------------------------------------------\u001b[0m",
            "\u001b[0;31mNameError\u001b[0m                                 Traceback (most recent call last)",
            "\u001b[0;32m<ipython-input-2-d8494d0d6a61>\u001b[0m in \u001b[0;36m<module>\u001b[0;34m()\u001b[0m\n\u001b[0;32m----> 1\u001b[0;31m \u001b[0mmodel\u001b[0m \u001b[0;34m=\u001b[0m \u001b[0mSequential\u001b[0m\u001b[0;34m(\u001b[0m\u001b[0;34m)\u001b[0m\u001b[0;34m\u001b[0m\u001b[0;34m\u001b[0m\u001b[0m\n\u001b[0m\u001b[1;32m      2\u001b[0m \u001b[0;34m\u001b[0m\u001b[0m\n\u001b[1;32m      3\u001b[0m \u001b[0mmodel\u001b[0m\u001b[0;34m.\u001b[0m\u001b[0madd\u001b[0m\u001b[0;34m(\u001b[0m\u001b[0mConv2D\u001b[0m\u001b[0;34m(\u001b[0m\u001b[0;36m16\u001b[0m\u001b[0;34m,\u001b[0m\u001b[0;34m(\u001b[0m\u001b[0;36m3\u001b[0m\u001b[0;34m,\u001b[0m\u001b[0;36m3\u001b[0m\u001b[0;34m)\u001b[0m\u001b[0;34m,\u001b[0m\u001b[0mactivation\u001b[0m\u001b[0;34m=\u001b[0m\u001b[0;34m'relu'\u001b[0m\u001b[0;34m,\u001b[0m \u001b[0minput_shape\u001b[0m\u001b[0;34m=\u001b[0m\u001b[0;34m(\u001b[0m\u001b[0;36m48\u001b[0m\u001b[0;34m,\u001b[0m \u001b[0;36m48\u001b[0m\u001b[0;34m,\u001b[0m\u001b[0;36m1\u001b[0m\u001b[0;34m)\u001b[0m\u001b[0;34m)\u001b[0m\u001b[0;34m)\u001b[0m\u001b[0;34m\u001b[0m\u001b[0;34m\u001b[0m\u001b[0m\n\u001b[1;32m      4\u001b[0m \u001b[0mmodel\u001b[0m\u001b[0;34m.\u001b[0m\u001b[0madd\u001b[0m\u001b[0;34m(\u001b[0m\u001b[0mBatchNormalization\u001b[0m\u001b[0;34m(\u001b[0m\u001b[0;34m)\u001b[0m\u001b[0;34m)\u001b[0m\u001b[0;34m\u001b[0m\u001b[0;34m\u001b[0m\u001b[0m\n\u001b[1;32m      5\u001b[0m \u001b[0mmodel\u001b[0m\u001b[0;34m.\u001b[0m\u001b[0madd\u001b[0m\u001b[0;34m(\u001b[0m\u001b[0mMaxPool2D\u001b[0m\u001b[0;34m(\u001b[0m\u001b[0mpool_size\u001b[0m\u001b[0;34m=\u001b[0m\u001b[0;34m(\u001b[0m\u001b[0;36m2\u001b[0m\u001b[0;34m,\u001b[0m \u001b[0;36m2\u001b[0m\u001b[0;34m)\u001b[0m\u001b[0;34m)\u001b[0m\u001b[0;34m)\u001b[0m\u001b[0;34m\u001b[0m\u001b[0;34m\u001b[0m\u001b[0m\n",
            "\u001b[0;31mNameError\u001b[0m: name 'Sequential' is not defined"
          ]
        }
      ]
    },
    {
      "cell_type": "code",
      "source": [
        "import tensorflow as tf"
      ],
      "metadata": {
        "id": "vWi7rVN27gFA"
      },
      "execution_count": null,
      "outputs": []
    },
    {
      "cell_type": "code",
      "source": [
        "#from tensorflow.keras.optimizers import Adam\n",
        "model.compile(optimizer = tf.keras.optimizers.Adam(lr=0.0001, decay=1e-6), loss='sparse_categorical_crossentropy', metrics=['accuracy'])"
      ],
      "metadata": {
        "id": "48Ztlju8kBuZ"
      },
      "execution_count": null,
      "outputs": []
    },
    {
      "cell_type": "code",
      "source": [
        "model.summary()"
      ],
      "metadata": {
        "colab": {
          "base_uri": "https://localhost:8080/"
        },
        "id": "Vl-GIg5ClPAc",
        "outputId": "51ce947d-aa6f-4d4c-f50f-26e55d556bd0"
      },
      "execution_count": null,
      "outputs": [
        {
          "output_type": "stream",
          "name": "stdout",
          "text": [
            "Model: \"sequential\"\n",
            "_________________________________________________________________\n",
            " Layer (type)                Output Shape              Param #   \n",
            "=================================================================\n",
            " conv2d (Conv2D)             (None, 46, 46, 16)        160       \n",
            "                                                                 \n",
            " batch_normalization (BatchN  (None, 46, 46, 16)       64        \n",
            " ormalization)                                                   \n",
            "                                                                 \n",
            " max_pooling2d (MaxPooling2D  (None, 23, 23, 16)       0         \n",
            " )                                                               \n",
            "                                                                 \n",
            " dropout (Dropout)           (None, 23, 23, 16)        0         \n",
            "                                                                 \n",
            " conv2d_1 (Conv2D)           (None, 21, 21, 32)        4640      \n",
            "                                                                 \n",
            " batch_normalization_1 (Batc  (None, 21, 21, 32)       128       \n",
            " hNormalization)                                                 \n",
            "                                                                 \n",
            " max_pooling2d_1 (MaxPooling  (None, 10, 10, 32)       0         \n",
            " 2D)                                                             \n",
            "                                                                 \n",
            " dropout_1 (Dropout)         (None, 10, 10, 32)        0         \n",
            "                                                                 \n",
            " conv2d_2 (Conv2D)           (None, 8, 8, 32)          9248      \n",
            "                                                                 \n",
            " batch_normalization_2 (Batc  (None, 8, 8, 32)         128       \n",
            " hNormalization)                                                 \n",
            "                                                                 \n",
            " max_pooling2d_2 (MaxPooling  (None, 4, 4, 32)         0         \n",
            " 2D)                                                             \n",
            "                                                                 \n",
            " dropout_2 (Dropout)         (None, 4, 4, 32)          0         \n",
            "                                                                 \n",
            " conv2d_3 (Conv2D)           (None, 2, 2, 64)          18496     \n",
            "                                                                 \n",
            " batch_normalization_3 (Batc  (None, 2, 2, 64)         256       \n",
            " hNormalization)                                                 \n",
            "                                                                 \n",
            " max_pooling2d_3 (MaxPooling  (None, 1, 1, 64)         0         \n",
            " 2D)                                                             \n",
            "                                                                 \n",
            " dropout_3 (Dropout)         (None, 1, 1, 64)          0         \n",
            "                                                                 \n",
            " flatten (Flatten)           (None, 64)                0         \n",
            "                                                                 \n",
            " dense (Dense)               (None, 1024)              66560     \n",
            "                                                                 \n",
            " dense_1 (Dense)             (None, 7)                 7175      \n",
            "                                                                 \n",
            "=================================================================\n",
            "Total params: 106,855\n",
            "Trainable params: 106,567\n",
            "Non-trainable params: 288\n",
            "_________________________________________________________________\n"
          ]
        }
      ]
    },
    {
      "cell_type": "code",
      "source": [
        "from tensorflow.keras.callbacks import EarlyStopping\n",
        "early_stopping = EarlyStopping(monitor='val_accuracy', patience=8, min_delta=0.001, mode='max')"
      ],
      "metadata": {
        "id": "Bjf6SBbvSqeE"
      },
      "execution_count": null,
      "outputs": []
    },
    {
      "cell_type": "code",
      "source": [
        "history = model.fit(x,y, epochs=1000, callbacks=[early_stopping], validation_data=(xte,yte))"
      ],
      "metadata": {
        "colab": {
          "base_uri": "https://localhost:8080/"
        },
        "id": "avKO_UU7lXlh",
        "outputId": "1854f3e5-268a-452a-b87b-dd0290842531"
      },
      "execution_count": null,
      "outputs": [
        {
          "output_type": "stream",
          "name": "stdout",
          "text": [
            "Epoch 1/100\n",
            "898/898 [==============================] - 18s 6ms/step - loss: 1.8006 - accuracy: 0.2536 - val_loss: 1.7674 - val_accuracy: 0.2682\n",
            "Epoch 2/100\n",
            "898/898 [==============================] - 5s 6ms/step - loss: 1.7451 - accuracy: 0.2924 - val_loss: 1.7263 - val_accuracy: 0.3002\n",
            "Epoch 3/100\n",
            "898/898 [==============================] - 5s 6ms/step - loss: 1.6988 - accuracy: 0.3204 - val_loss: 1.6249 - val_accuracy: 0.3639\n",
            "Epoch 4/100\n",
            "898/898 [==============================] - 5s 6ms/step - loss: 1.6527 - accuracy: 0.3480 - val_loss: 1.5632 - val_accuracy: 0.3902\n",
            "Epoch 5/100\n",
            "898/898 [==============================] - 5s 6ms/step - loss: 1.6149 - accuracy: 0.3658 - val_loss: 1.5213 - val_accuracy: 0.4115\n",
            "Epoch 6/100\n",
            "898/898 [==============================] - 5s 6ms/step - loss: 1.5936 - accuracy: 0.3752 - val_loss: 1.4969 - val_accuracy: 0.4182\n",
            "Epoch 7/100\n",
            "898/898 [==============================] - 5s 6ms/step - loss: 1.5655 - accuracy: 0.3867 - val_loss: 1.4763 - val_accuracy: 0.4239\n",
            "Epoch 8/100\n",
            "898/898 [==============================] - 5s 6ms/step - loss: 1.5438 - accuracy: 0.3951 - val_loss: 1.4385 - val_accuracy: 0.4391\n",
            "Epoch 9/100\n",
            "898/898 [==============================] - 5s 5ms/step - loss: 1.5215 - accuracy: 0.4064 - val_loss: 1.4163 - val_accuracy: 0.4514\n",
            "Epoch 10/100\n",
            "898/898 [==============================] - 5s 6ms/step - loss: 1.5060 - accuracy: 0.4129 - val_loss: 1.3993 - val_accuracy: 0.4528\n",
            "Epoch 11/100\n",
            "898/898 [==============================] - 5s 6ms/step - loss: 1.4869 - accuracy: 0.4220 - val_loss: 1.3815 - val_accuracy: 0.4602\n",
            "Epoch 12/100\n",
            "898/898 [==============================] - 5s 6ms/step - loss: 1.4754 - accuracy: 0.4257 - val_loss: 1.4157 - val_accuracy: 0.4475\n",
            "Epoch 13/100\n",
            "898/898 [==============================] - 5s 6ms/step - loss: 1.4550 - accuracy: 0.4382 - val_loss: 1.3685 - val_accuracy: 0.4687\n",
            "Epoch 14/100\n",
            "898/898 [==============================] - 5s 6ms/step - loss: 1.4448 - accuracy: 0.4424 - val_loss: 1.3451 - val_accuracy: 0.4753\n",
            "Epoch 15/100\n",
            "898/898 [==============================] - 5s 6ms/step - loss: 1.4288 - accuracy: 0.4477 - val_loss: 1.3297 - val_accuracy: 0.4811\n",
            "Epoch 16/100\n",
            "898/898 [==============================] - 5s 6ms/step - loss: 1.4179 - accuracy: 0.4538 - val_loss: 1.3204 - val_accuracy: 0.4833\n",
            "Epoch 17/100\n",
            "898/898 [==============================] - 5s 6ms/step - loss: 1.4025 - accuracy: 0.4619 - val_loss: 1.3174 - val_accuracy: 0.4877\n",
            "Epoch 18/100\n",
            "898/898 [==============================] - 5s 6ms/step - loss: 1.3918 - accuracy: 0.4656 - val_loss: 1.2917 - val_accuracy: 0.5001\n",
            "Epoch 19/100\n",
            "898/898 [==============================] - 5s 5ms/step - loss: 1.3821 - accuracy: 0.4664 - val_loss: 1.3079 - val_accuracy: 0.4911\n",
            "Epoch 20/100\n",
            "898/898 [==============================] - 5s 6ms/step - loss: 1.3728 - accuracy: 0.4715 - val_loss: 1.2795 - val_accuracy: 0.5071\n",
            "Epoch 21/100\n",
            "898/898 [==============================] - 5s 6ms/step - loss: 1.3697 - accuracy: 0.4716 - val_loss: 1.2747 - val_accuracy: 0.5040\n",
            "Epoch 22/100\n",
            "898/898 [==============================] - 5s 6ms/step - loss: 1.3548 - accuracy: 0.4798 - val_loss: 1.2764 - val_accuracy: 0.5093\n",
            "Epoch 23/100\n",
            "898/898 [==============================] - 5s 6ms/step - loss: 1.3514 - accuracy: 0.4817 - val_loss: 1.2651 - val_accuracy: 0.5095\n",
            "Epoch 24/100\n",
            "898/898 [==============================] - 5s 6ms/step - loss: 1.3472 - accuracy: 0.4843 - val_loss: 1.2535 - val_accuracy: 0.5118\n",
            "Epoch 25/100\n",
            "898/898 [==============================] - 5s 6ms/step - loss: 1.3364 - accuracy: 0.4879 - val_loss: 1.2434 - val_accuracy: 0.5201\n",
            "Epoch 26/100\n",
            "898/898 [==============================] - 5s 6ms/step - loss: 1.3257 - accuracy: 0.4927 - val_loss: 1.2343 - val_accuracy: 0.5265\n",
            "Epoch 27/100\n",
            "898/898 [==============================] - 6s 7ms/step - loss: 1.3183 - accuracy: 0.4945 - val_loss: 1.2346 - val_accuracy: 0.5252\n",
            "Epoch 28/100\n",
            "898/898 [==============================] - 5s 6ms/step - loss: 1.3116 - accuracy: 0.4978 - val_loss: 1.2287 - val_accuracy: 0.5267\n",
            "Epoch 29/100\n",
            "898/898 [==============================] - 5s 6ms/step - loss: 1.3047 - accuracy: 0.5016 - val_loss: 1.2229 - val_accuracy: 0.5286\n",
            "Epoch 30/100\n",
            "898/898 [==============================] - 5s 6ms/step - loss: 1.3034 - accuracy: 0.5001 - val_loss: 1.2138 - val_accuracy: 0.5347\n",
            "Epoch 31/100\n",
            "898/898 [==============================] - 5s 6ms/step - loss: 1.2897 - accuracy: 0.5088 - val_loss: 1.2212 - val_accuracy: 0.5302\n",
            "Epoch 32/100\n",
            "898/898 [==============================] - 5s 6ms/step - loss: 1.2929 - accuracy: 0.5048 - val_loss: 1.2052 - val_accuracy: 0.5373\n",
            "Epoch 33/100\n",
            "898/898 [==============================] - 5s 6ms/step - loss: 1.2924 - accuracy: 0.5047 - val_loss: 1.2059 - val_accuracy: 0.5398\n",
            "Epoch 34/100\n",
            "898/898 [==============================] - 5s 6ms/step - loss: 1.2761 - accuracy: 0.5123 - val_loss: 1.1962 - val_accuracy: 0.5456\n",
            "Epoch 35/100\n",
            "898/898 [==============================] - 5s 6ms/step - loss: 1.2753 - accuracy: 0.5125 - val_loss: 1.1964 - val_accuracy: 0.5422\n",
            "Epoch 36/100\n",
            "898/898 [==============================] - 5s 6ms/step - loss: 1.2720 - accuracy: 0.5154 - val_loss: 1.1946 - val_accuracy: 0.5450\n",
            "Epoch 37/100\n",
            "898/898 [==============================] - 5s 6ms/step - loss: 1.2645 - accuracy: 0.5182 - val_loss: 1.1884 - val_accuracy: 0.5483\n",
            "Epoch 38/100\n",
            "898/898 [==============================] - 5s 6ms/step - loss: 1.2659 - accuracy: 0.5179 - val_loss: 1.1801 - val_accuracy: 0.5567\n",
            "Epoch 39/100\n",
            "898/898 [==============================] - 5s 5ms/step - loss: 1.2586 - accuracy: 0.5204 - val_loss: 1.2089 - val_accuracy: 0.5358\n",
            "Epoch 40/100\n",
            "898/898 [==============================] - 5s 6ms/step - loss: 1.2521 - accuracy: 0.5209 - val_loss: 1.1734 - val_accuracy: 0.5539\n",
            "Epoch 41/100\n",
            "898/898 [==============================] - 5s 5ms/step - loss: 1.2500 - accuracy: 0.5229 - val_loss: 1.1715 - val_accuracy: 0.5553\n",
            "Epoch 42/100\n",
            "898/898 [==============================] - 5s 6ms/step - loss: 1.2422 - accuracy: 0.5256 - val_loss: 1.1665 - val_accuracy: 0.5596\n",
            "Epoch 43/100\n",
            "898/898 [==============================] - 5s 6ms/step - loss: 1.2426 - accuracy: 0.5243 - val_loss: 1.1674 - val_accuracy: 0.5578\n",
            "Epoch 44/100\n",
            "898/898 [==============================] - 5s 6ms/step - loss: 1.2394 - accuracy: 0.5255 - val_loss: 1.1782 - val_accuracy: 0.5521\n",
            "Epoch 45/100\n",
            "898/898 [==============================] - 5s 5ms/step - loss: 1.2328 - accuracy: 0.5298 - val_loss: 1.1714 - val_accuracy: 0.5606\n",
            "Epoch 46/100\n",
            "898/898 [==============================] - 5s 6ms/step - loss: 1.2313 - accuracy: 0.5300 - val_loss: 1.1649 - val_accuracy: 0.5574\n",
            "Epoch 47/100\n",
            "898/898 [==============================] - 5s 6ms/step - loss: 1.2235 - accuracy: 0.5343 - val_loss: 1.1539 - val_accuracy: 0.5607\n",
            "Epoch 48/100\n",
            "898/898 [==============================] - 5s 6ms/step - loss: 1.2265 - accuracy: 0.5299 - val_loss: 1.1633 - val_accuracy: 0.5548\n",
            "Epoch 49/100\n",
            "898/898 [==============================] - 5s 6ms/step - loss: 1.2152 - accuracy: 0.5362 - val_loss: 1.1481 - val_accuracy: 0.5619\n",
            "Epoch 50/100\n",
            "898/898 [==============================] - 5s 6ms/step - loss: 1.2194 - accuracy: 0.5341 - val_loss: 1.1601 - val_accuracy: 0.5581\n",
            "Epoch 51/100\n",
            "898/898 [==============================] - 5s 6ms/step - loss: 1.2122 - accuracy: 0.5345 - val_loss: 1.1418 - val_accuracy: 0.5620\n",
            "Epoch 52/100\n",
            "898/898 [==============================] - 5s 6ms/step - loss: 1.2083 - accuracy: 0.5397 - val_loss: 1.1400 - val_accuracy: 0.5660\n",
            "Epoch 53/100\n",
            "898/898 [==============================] - 5s 5ms/step - loss: 1.2042 - accuracy: 0.5393 - val_loss: 1.1582 - val_accuracy: 0.5620\n",
            "Epoch 54/100\n",
            "898/898 [==============================] - 5s 5ms/step - loss: 1.2014 - accuracy: 0.5402 - val_loss: 1.1622 - val_accuracy: 0.5568\n",
            "Epoch 55/100\n",
            "898/898 [==============================] - 5s 5ms/step - loss: 1.1963 - accuracy: 0.5439 - val_loss: 1.1357 - val_accuracy: 0.5690\n",
            "Epoch 56/100\n",
            "898/898 [==============================] - 5s 6ms/step - loss: 1.1984 - accuracy: 0.5431 - val_loss: 1.1323 - val_accuracy: 0.5730\n",
            "Epoch 57/100\n",
            "898/898 [==============================] - 5s 5ms/step - loss: 1.1951 - accuracy: 0.5421 - val_loss: 1.1332 - val_accuracy: 0.5680\n",
            "Epoch 58/100\n",
            "898/898 [==============================] - 5s 5ms/step - loss: 1.1897 - accuracy: 0.5454 - val_loss: 1.1352 - val_accuracy: 0.5701\n",
            "Epoch 59/100\n",
            "898/898 [==============================] - 5s 6ms/step - loss: 1.1857 - accuracy: 0.5486 - val_loss: 1.1315 - val_accuracy: 0.5708\n",
            "Epoch 60/100\n",
            "898/898 [==============================] - 5s 5ms/step - loss: 1.1875 - accuracy: 0.5510 - val_loss: 1.1288 - val_accuracy: 0.5692\n",
            "Epoch 61/100\n",
            "898/898 [==============================] - 5s 5ms/step - loss: 1.1789 - accuracy: 0.5519 - val_loss: 1.1257 - val_accuracy: 0.5717\n",
            "Epoch 62/100\n",
            "898/898 [==============================] - 5s 5ms/step - loss: 1.1809 - accuracy: 0.5508 - val_loss: 1.1199 - val_accuracy: 0.5719\n",
            "Epoch 63/100\n",
            "898/898 [==============================] - 5s 5ms/step - loss: 1.1783 - accuracy: 0.5516 - val_loss: 1.1209 - val_accuracy: 0.5755\n",
            "Epoch 64/100\n",
            "898/898 [==============================] - 5s 5ms/step - loss: 1.1739 - accuracy: 0.5520 - val_loss: 1.1321 - val_accuracy: 0.5680\n",
            "Epoch 65/100\n",
            "898/898 [==============================] - 5s 6ms/step - loss: 1.1705 - accuracy: 0.5537 - val_loss: 1.1177 - val_accuracy: 0.5734\n",
            "Epoch 66/100\n",
            "898/898 [==============================] - 5s 5ms/step - loss: 1.1714 - accuracy: 0.5522 - val_loss: 1.1186 - val_accuracy: 0.5733\n",
            "Epoch 67/100\n",
            "898/898 [==============================] - 5s 6ms/step - loss: 1.1716 - accuracy: 0.5527 - val_loss: 1.1246 - val_accuracy: 0.5717\n",
            "Epoch 68/100\n",
            "898/898 [==============================] - 5s 5ms/step - loss: 1.1630 - accuracy: 0.5532 - val_loss: 1.1112 - val_accuracy: 0.5784\n",
            "Epoch 69/100\n",
            "898/898 [==============================] - 5s 5ms/step - loss: 1.1730 - accuracy: 0.5522 - val_loss: 1.1169 - val_accuracy: 0.5805\n",
            "Epoch 70/100\n",
            "898/898 [==============================] - 5s 6ms/step - loss: 1.1647 - accuracy: 0.5574 - val_loss: 1.1201 - val_accuracy: 0.5744\n",
            "Epoch 71/100\n",
            "898/898 [==============================] - 5s 6ms/step - loss: 1.1568 - accuracy: 0.5590 - val_loss: 1.1140 - val_accuracy: 0.5780\n",
            "Epoch 72/100\n",
            "898/898 [==============================] - 5s 5ms/step - loss: 1.1581 - accuracy: 0.5578 - val_loss: 1.1143 - val_accuracy: 0.5744\n",
            "Epoch 73/100\n",
            "898/898 [==============================] - 5s 6ms/step - loss: 1.1556 - accuracy: 0.5595 - val_loss: 1.1117 - val_accuracy: 0.5775\n",
            "Epoch 74/100\n",
            "898/898 [==============================] - 5s 5ms/step - loss: 1.1573 - accuracy: 0.5594 - val_loss: 1.1025 - val_accuracy: 0.5789\n",
            "Epoch 75/100\n",
            "898/898 [==============================] - 5s 5ms/step - loss: 1.1496 - accuracy: 0.5609 - val_loss: 1.1374 - val_accuracy: 0.5685\n",
            "Epoch 76/100\n",
            "898/898 [==============================] - 5s 6ms/step - loss: 1.1534 - accuracy: 0.5580 - val_loss: 1.1045 - val_accuracy: 0.5783\n",
            "Epoch 77/100\n",
            "898/898 [==============================] - 5s 5ms/step - loss: 1.1469 - accuracy: 0.5631 - val_loss: 1.1041 - val_accuracy: 0.5804\n"
          ]
        }
      ]
    },
    {
      "cell_type": "code",
      "source": [
        "#model.save('model.h5')"
      ],
      "metadata": {
        "id": "VWCbz8DwPGb2"
      },
      "execution_count": null,
      "outputs": []
    },
    {
      "cell_type": "code",
      "source": [
        "#model.save('drive/MyDrive/project/model.h5')"
      ],
      "metadata": {
        "id": "zcahtJgmPcsP"
      },
      "execution_count": null,
      "outputs": []
    },
    {
      "cell_type": "code",
      "source": [
        "fig , ax = plt.subplots(1,2)\n",
        "train_acc = history.history['accuracy']\n",
        "train_loss = history.history['loss']\n",
        "fig.set_size_inches(12,4)\n",
        "\n",
        "ax[0].plot(history.history['accuracy'])\n",
        "ax[0].plot(history.history['val_accuracy'])\n",
        "ax[0].set_title('Training Accuracy vs Validation Accuracy')\n",
        "ax[0].set_ylabel('Accuracy')\n",
        "ax[0].set_xlabel('Epoch')\n",
        "ax[0].legend(['Train', 'Validation'], loc='upper left')\n",
        "\n",
        "ax[1].plot(history.history['loss'])\n",
        "ax[1].plot(history.history['val_loss'])\n",
        "ax[1].set_title('Training Loss vs Validation Loss')\n",
        "ax[1].set_ylabel('Loss')\n",
        "ax[1].set_xlabel('Epoch')\n",
        "ax[1].legend(['Train', 'Validation'], loc='upper left')\n",
        "\n",
        "plt.show()"
      ],
      "metadata": {
        "colab": {
          "base_uri": "https://localhost:8080/",
          "height": 295
        },
        "id": "amFibPTFnoqw",
        "outputId": "f07d3b32-c3b3-4c1f-db4c-801b12eed28c"
      },
      "execution_count": null,
      "outputs": [
        {
          "output_type": "display_data",
          "data": {
            "text/plain": [
              "<Figure size 864x288 with 2 Axes>"
            ],
            "image/png": "[encoded data removed]"
          },
          "metadata": {
            "needs_background": "light"
          }
        }
      ]
    },
    {
      "cell_type": "code",
      "source": [
        "train_loss, train_acc = model.evaluate(x,y)\n",
        "test_loss, test_acc   = model.evaluate(xte,yte)\n",
        "print(\"final train accuracy = {:.2f} , validation accuracy = {:.2f}\".format(train_acc*100, test_acc*100))"
      ],
      "metadata": {
        "colab": {
          "base_uri": "https://localhost:8080/"
        },
        "id": "gf-2bPZQOg6o",
        "outputId": "3ffbb81f-3678-4550-e7ea-0f9c2513d906"
      },
      "execution_count": null,
      "outputs": [
        {
          "output_type": "stream",
          "name": "stdout",
          "text": [
            "898/898 [==============================] - 3s 3ms/step - loss: 0.9343 - accuracy: 0.6581\n",
            "225/225 [==============================] - 1s 3ms/step - loss: 1.1041 - accuracy: 0.5804\n",
            "final train accuracy = 65.81 , validation accuracy = 58.04\n"
          ]
        }
      ]
    },
    {
      "cell_type": "code",
      "source": [
        ""
      ],
      "metadata": {
        "id": "ZPBxkgsnQCis"
      },
      "execution_count": null,
      "outputs": []
    },
    {
      "cell_type": "code",
      "source": [
        ""
      ],
      "metadata": {
        "id": "a5H0P4TRpsbH"
      },
      "execution_count": null,
      "outputs": []
    },
    {
      "cell_type": "code",
      "source": [
        ""
      ],
      "metadata": {
        "id": "hrWRPq_0ptFx"
      },
      "execution_count": null,
      "outputs": []
    },
    {
      "cell_type": "code",
      "source": [
        ""
      ],
      "metadata": {
        "id": "h13G9VW8ptod"
      },
      "execution_count": null,
      "outputs": []
    },
    {
      "cell_type": "code",
      "source": [
        ""
      ],
      "metadata": {
        "id": "9c6Mzz3vt8QD"
      },
      "execution_count": null,
      "outputs": []
    },
    {
      "cell_type": "markdown",
      "source": [
        "#Model1"
      ],
      "metadata": {
        "id": "8DX74bFCt9qv"
      }
    },
    {
      "cell_type": "code",
      "source": [
        "import numpy as np\n",
        "import pandas as pd\n",
        "import os\n",
        "import tensorflow as tf\n",
        "from keras.preprocessing.image import ImageDataGenerator, load_img\n",
        "from keras.layers import Conv2D, Dense, BatchNormalization, Activation, Dropout, MaxPooling2D, Flatten\n",
        "from tensorflow.keras.optimizers import Adam, RMSprop, SGD\n",
        "from keras import regularizers\n",
        "from keras.callbacks import ModelCheckpoint, CSVLogger, TensorBoard, EarlyStopping, ReduceLROnPlateau\n",
        "import datetime\n",
        "import matplotlib.pyplot as plt"
      ],
      "metadata": {
        "id": "07A0oQLMwU7B"
      },
      "execution_count": null,
      "outputs": []
    },
    {
      "cell_type": "code",
      "source": [
        "def create_model(input_size, classes = 7):\n",
        "    \n",
        "    model = tf.keras.models.Sequential()   \n",
        "\n",
        "    model.add(Conv2D(32, kernel_size=(3, 3), padding='same', activation='relu', input_shape =input_size))\n",
        "    model.add(Conv2D(64, kernel_size=(3, 3), activation='relu', padding='same'))\n",
        "    #model.add(BatchNormalization())\n",
        "    model.add(MaxPooling2D(2, 2))\n",
        "    model.add(Dropout(0.3))\n",
        "\n",
        "    model.add(Conv2D(128, kernel_size=(3, 3), activation='relu', padding='same', kernel_regularizer=regularizers.l2(0.01)))\n",
        "    model.add(Conv2D(256, kernel_size=(3, 3), activation='relu', kernel_regularizer=regularizers.l2(0.01)))\n",
        "    #model.add(BatchNormalization())\n",
        "    model.add(MaxPooling2D(pool_size=(2, 2)))\n",
        "    model.add(Dropout(0.3))\n",
        "\n",
        "    model.add(Flatten())\n",
        "    model.add(Dense(1024, activation='relu'))\n",
        "    model.add(Dropout(0.3))\n",
        "    \n",
        "    model.add(Dense(classes, activation='softmax'))\n",
        "\n",
        "    # Compile the model\n",
        "    model.compile(optimizer=Adam(lr=0.0001, decay=1e-6), loss='sparse_categorical_crossentropy',  metrics=['accuracy'])\n",
        "    \n",
        "    \n",
        "    return model"
      ],
      "metadata": {
        "id": "DQ46e5tIt_pz"
      },
      "execution_count": null,
      "outputs": []
    },
    {
      "cell_type": "code",
      "source": [
        "model1 = create_model((48,48,1), 7)\n",
        "model1.summary()"
      ],
      "metadata": {
        "colab": {
          "base_uri": "https://localhost:8080/"
        },
        "id": "JF-NTaKkwDme",
        "outputId": "2dd52a3d-84e1-4d5d-9556-f7148a17d4b2"
      },
      "execution_count": null,
      "outputs": [
        {
          "output_type": "stream",
          "name": "stdout",
          "text": [
            "Model: \"sequential_1\"\n",
            "_________________________________________________________________\n",
            " Layer (type)                Output Shape              Param #   \n",
            "=================================================================\n",
            " conv2d_4 (Conv2D)           (None, 48, 48, 32)        320       \n",
            "                                                                 \n",
            " conv2d_5 (Conv2D)           (None, 48, 48, 64)        18496     \n",
            "                                                                 \n",
            " max_pooling2d_4 (MaxPooling  (None, 24, 24, 64)       0         \n",
            " 2D)                                                             \n",
            "                                                                 \n",
            " dropout_4 (Dropout)         (None, 24, 24, 64)        0         \n",
            "                                                                 \n",
            " conv2d_6 (Conv2D)           (None, 24, 24, 128)       73856     \n",
            "                                                                 \n",
            " conv2d_7 (Conv2D)           (None, 22, 22, 256)       295168    \n",
            "                                                                 \n",
            " max_pooling2d_5 (MaxPooling  (None, 11, 11, 256)      0         \n",
            " 2D)                                                             \n",
            "                                                                 \n",
            " dropout_5 (Dropout)         (None, 11, 11, 256)       0         \n",
            "                                                                 \n",
            " flatten_1 (Flatten)         (None, 30976)             0         \n",
            "                                                                 \n",
            " dense_2 (Dense)             (None, 1024)              31720448  \n",
            "                                                                 \n",
            " dropout_6 (Dropout)         (None, 1024)              0         \n",
            "                                                                 \n",
            " dense_3 (Dense)             (None, 7)                 7175      \n",
            "                                                                 \n",
            "=================================================================\n",
            "Total params: 32,115,463\n",
            "Trainable params: 32,115,463\n",
            "Non-trainable params: 0\n",
            "_________________________________________________________________\n"
          ]
        }
      ]
    },
    {
      "cell_type": "code",
      "source": [
        "chk_path = 'my_model.h5'\n",
        "log_dir = \"checkpoint/logs/\" + datetime.datetime.now().strftime(\"%Y%m%d-%H%M%S\")\n",
        "\n",
        "checkpoint = ModelCheckpoint(filepath=chk_path, save_best_only=True, verbose=1, mode='min', moniter='val_loss')\n",
        "\n",
        "earlystop = EarlyStopping(monitor='val_loss',  min_delta=0,  patience=3,  verbose=1,  restore_best_weights=True)\n",
        "                        \n",
        "reduce_lr = ReduceLROnPlateau(monitor='val_loss', factor=0.2, patience=6, verbose=1, min_delta=0.0001)\n",
        "\n",
        "\n",
        "tensorboard_callback = tf.keras.callbacks.TensorBoard(log_dir=log_dir, histogram_freq=1)\n",
        "csv_logger = CSVLogger('training.log')\n",
        "\n",
        "callbacks = [checkpoint, reduce_lr, csv_logger , earlystop]"
      ],
      "metadata": {
        "id": "xZMBbJxgw57q"
      },
      "execution_count": null,
      "outputs": []
    },
    {
      "cell_type": "code",
      "source": [
        "history1 = model1.fit(x,y, epochs=100, callbacks=callbacks, validation_data=(xte,yte))\n"
      ],
      "metadata": {
        "colab": {
          "base_uri": "https://localhost:8080/"
        },
        "id": "iM3xpffBxEoy",
        "outputId": "d77d2c00-d0f3-448f-f5ba-7b9f8c72c684"
      },
      "execution_count": null,
      "outputs": [
        {
          "output_type": "stream",
          "name": "stdout",
          "text": [
            "Epoch 1/100\n",
            "898/898 [==============================] - ETA: 0s - loss: 2.3104 - accuracy: 0.3201\n",
            "Epoch 1: val_loss improved from inf to 1.70734, saving model to my_model.h5\n",
            "898/898 [==============================] - 23s 25ms/step - loss: 2.3104 - accuracy: 0.3201 - val_loss: 1.7073 - val_accuracy: 0.3771 - lr: 1.0000e-04\n",
            "Epoch 2/100\n",
            "898/898 [==============================] - ETA: 0s - loss: 1.5954 - accuracy: 0.4144\n",
            "Epoch 2: val_loss improved from 1.70734 to 1.52075, saving model to my_model.h5\n",
            "898/898 [==============================] - 22s 24ms/step - loss: 1.5954 - accuracy: 0.4144 - val_loss: 1.5207 - val_accuracy: 0.4330 - lr: 1.0000e-04\n",
            "Epoch 3/100\n",
            "897/898 [============================>.] - ETA: 0s - loss: 1.4898 - accuracy: 0.4512\n",
            "Epoch 3: val_loss improved from 1.52075 to 1.45793, saving model to my_model.h5\n",
            "898/898 [==============================] - 22s 25ms/step - loss: 1.4897 - accuracy: 0.4513 - val_loss: 1.4579 - val_accuracy: 0.4575 - lr: 1.0000e-04\n",
            "Epoch 4/100\n",
            "896/898 [============================>.] - ETA: 0s - loss: 1.4212 - accuracy: 0.4761\n",
            "Epoch 4: val_loss improved from 1.45793 to 1.40167, saving model to my_model.h5\n",
            "898/898 [==============================] - 21s 23ms/step - loss: 1.4214 - accuracy: 0.4760 - val_loss: 1.4017 - val_accuracy: 0.4806 - lr: 1.0000e-04\n",
            "Epoch 5/100\n",
            "898/898 [==============================] - ETA: 0s - loss: 1.3657 - accuracy: 0.5011\n",
            "Epoch 5: val_loss improved from 1.40167 to 1.35935, saving model to my_model.h5\n",
            "898/898 [==============================] - 22s 24ms/step - loss: 1.3657 - accuracy: 0.5011 - val_loss: 1.3594 - val_accuracy: 0.4967 - lr: 1.0000e-04\n",
            "Epoch 6/100\n",
            "898/898 [==============================] - ETA: 0s - loss: 1.3134 - accuracy: 0.5252\n",
            "Epoch 6: val_loss improved from 1.35935 to 1.34108, saving model to my_model.h5\n",
            "898/898 [==============================] - 22s 24ms/step - loss: 1.3134 - accuracy: 0.5252 - val_loss: 1.3411 - val_accuracy: 0.5042 - lr: 1.0000e-04\n",
            "Epoch 7/100\n",
            "897/898 [============================>.] - ETA: 0s - loss: 1.2628 - accuracy: 0.5477\n",
            "Epoch 7: val_loss improved from 1.34108 to 1.31586, saving model to my_model.h5\n",
            "898/898 [==============================] - 21s 23ms/step - loss: 1.2628 - accuracy: 0.5477 - val_loss: 1.3159 - val_accuracy: 0.5215 - lr: 1.0000e-04\n",
            "Epoch 8/100\n",
            "898/898 [==============================] - ETA: 0s - loss: 1.2143 - accuracy: 0.5699\n",
            "Epoch 8: val_loss improved from 1.31586 to 1.30488, saving model to my_model.h5\n",
            "898/898 [==============================] - 22s 24ms/step - loss: 1.2143 - accuracy: 0.5699 - val_loss: 1.3049 - val_accuracy: 0.5252 - lr: 1.0000e-04\n",
            "Epoch 9/100\n",
            "898/898 [==============================] - ETA: 0s - loss: 1.1595 - accuracy: 0.5924\n",
            "Epoch 9: val_loss did not improve from 1.30488\n",
            "898/898 [==============================] - 19s 22ms/step - loss: 1.1595 - accuracy: 0.5924 - val_loss: 1.3083 - val_accuracy: 0.5340 - lr: 1.0000e-04\n",
            "Epoch 10/100\n",
            "897/898 [============================>.] - ETA: 0s - loss: 1.1086 - accuracy: 0.6194\n",
            "Epoch 10: val_loss improved from 1.30488 to 1.29645, saving model to my_model.h5\n",
            "898/898 [==============================] - 21s 24ms/step - loss: 1.1086 - accuracy: 0.6194 - val_loss: 1.2965 - val_accuracy: 0.5390 - lr: 1.0000e-04\n",
            "Epoch 11/100\n",
            "896/898 [============================>.] - ETA: 0s - loss: 1.0529 - accuracy: 0.6425\n",
            "Epoch 11: val_loss improved from 1.29645 to 1.29377, saving model to my_model.h5\n",
            "898/898 [==============================] - 21s 24ms/step - loss: 1.0527 - accuracy: 0.6426 - val_loss: 1.2938 - val_accuracy: 0.5490 - lr: 1.0000e-04\n",
            "Epoch 12/100\n",
            "897/898 [============================>.] - ETA: 0s - loss: 0.9881 - accuracy: 0.6677\n",
            "Epoch 12: val_loss improved from 1.29377 to 1.28837, saving model to my_model.h5\n",
            "898/898 [==============================] - 21s 23ms/step - loss: 0.9881 - accuracy: 0.6677 - val_loss: 1.2884 - val_accuracy: 0.5627 - lr: 1.0000e-04\n",
            "Epoch 13/100\n",
            "898/898 [==============================] - ETA: 0s - loss: 0.9227 - accuracy: 0.6971\n",
            "Epoch 13: val_loss did not improve from 1.28837\n",
            "898/898 [==============================] - 20s 22ms/step - loss: 0.9227 - accuracy: 0.6971 - val_loss: 1.3083 - val_accuracy: 0.5619 - lr: 1.0000e-04\n",
            "Epoch 14/100\n",
            "896/898 [============================>.] - ETA: 0s - loss: 0.8552 - accuracy: 0.7281\n",
            "Epoch 14: val_loss did not improve from 1.28837\n",
            "898/898 [==============================] - 20s 23ms/step - loss: 0.8552 - accuracy: 0.7281 - val_loss: 1.3564 - val_accuracy: 0.5610 - lr: 1.0000e-04\n",
            "Epoch 15/100\n",
            "896/898 [============================>.] - ETA: 0s - loss: 0.7913 - accuracy: 0.7499\n",
            "Epoch 15: val_loss did not improve from 1.28837\n",
            "Restoring model weights from the end of the best epoch: 12.\n",
            "898/898 [==============================] - 20s 23ms/step - loss: 0.7912 - accuracy: 0.7500 - val_loss: 1.3736 - val_accuracy: 0.5681 - lr: 1.0000e-04\n",
            "Epoch 15: early stopping\n"
          ]
        }
      ]
    },
    {
      "cell_type": "code",
      "source": [
        "train_loss, train_acc = model1.evaluate(x,y)\n",
        "test_loss, test_acc   = model1.evaluate(xte,yte)\n",
        "print(\"final train accuracy = {:.2f} , validation accuracy = {:.2f}\".format(train_acc*100, test_acc*100))"
      ],
      "metadata": {
        "id": "yf4XEx1WxY3C",
        "colab": {
          "base_uri": "https://localhost:8080/"
        },
        "outputId": "a9ef1a1c-24e4-47ce-f77a-130c0c1becbd"
      },
      "execution_count": null,
      "outputs": [
        {
          "output_type": "stream",
          "name": "stdout",
          "text": [
            "898/898 [==============================] - 6s 7ms/step - loss: 0.8056 - accuracy: 0.7622\n",
            "225/225 [==============================] - 2s 8ms/step - loss: 1.2884 - accuracy: 0.5627\n",
            "final train accuracy = 76.22 , validation accuracy = 56.27\n"
          ]
        }
      ]
    },
    {
      "cell_type": "markdown",
      "source": [
        "#Model2"
      ],
      "metadata": {
        "id": "9pB1Hw45_xpu"
      }
    },
    {
      "cell_type": "code",
      "source": [
        "from keras.models import Sequential\n",
        "from keras.layers import Dense, Dropout, Flatten\n",
        "from keras.layers import Conv2D, MaxPooling2D, BatchNormalization\n",
        "from tensorflow.keras.optimizers import SGD\n",
        "from keras.callbacks import ReduceLROnPlateau\n",
        "from keras.callbacks import ModelCheckpoint, EarlyStopping\n"
      ],
      "metadata": {
        "id": "-PySrJku_0v_"
      },
      "execution_count": null,
      "outputs": []
    },
    {
      "cell_type": "code",
      "source": [
        "import keras"
      ],
      "metadata": {
        "id": "VrwQVSuJHKHL"
      },
      "execution_count": null,
      "outputs": []
    },
    {
      "cell_type": "code",
      "source": [
        "EPOCHS = 150\n",
        "BS = 128\n",
        "DROPOUT_RATE = 0.3\n",
        "SGD_LEARNING_RATE = 0.01\n",
        "SGD_DECAY = 0.0001"
      ],
      "metadata": {
        "id": "R-POEmKWARMy"
      },
      "execution_count": null,
      "outputs": []
    },
    {
      "cell_type": "code",
      "source": [
        "model2 = Sequential()\n",
        "model2.add(BatchNormalization(input_shape=(48,48,1)))\n",
        "model2.add(Conv2D(32, (5,5), activation='relu',padding='same', input_shape=(48,48,1),name=\"conv1\"))\n",
        "model2.add(BatchNormalization())\n",
        "model2.add(MaxPooling2D(pool_size=(3,3),strides =2,name=\"maxpool1\"))\n",
        "model2.add(Dropout(0.2))\n",
        "model2.add(Conv2D(32, (4,4), activation='relu',padding='same',name=\"conv2\"))\n",
        "model2.add(BatchNormalization())\n",
        "model2.add(MaxPooling2D(pool_size=(3,3),strides =2,name=\"maxpool2\"))         \n",
        "model2.add(Dropout(0.2))\n",
        "model2.add(Conv2D(64, (6,6), activation='relu',padding='same',name=\"conv3\"))\n",
        "model2.add(BatchNormalization())\n",
        "model2.add(MaxPooling2D(pool_size=(3,3),strides =2,name=\"maxpool3\"))\n",
        "model2.add(Dropout(0.2))\n",
        "model2.add(Conv2D(128, (5,5), activation='relu',padding='same',name=\"conv4\"))\n",
        "model2.add(BatchNormalization())\n",
        "model2.add(MaxPooling2D(pool_size=(3,3),strides =2,name=\"maxpool4\"))\n",
        "model2.add(Dropout(0.2))\n",
        "model2.add(Flatten())\n",
        "model2.add(Dense(1024, activation='relu',name='fc1'))\n",
        "model2.add(Dropout(DROPOUT_RATE))\n",
        "model2.add(BatchNormalization())\n",
        "model2.add(Dense(7, activation='softmax',name='fcsoftmax'))\n",
        "\n",
        "#TODO: weight decay of 0.0001...initial learning rate is set to 0.01 and reduced by a factor of 2 at every 25 epoch\n",
        "sgd = SGD(lr=SGD_LEARNING_RATE,momentum=0.9, decay=SGD_DECAY, nesterov=True)\n",
        "model2.compile(loss='sparse_categorical_crossentropy',optimizer=sgd,metrics=['accuracy'])\n",
        "\n",
        "# checkpoint\n",
        "cp_filepath='Baseline-weights-best.hdf5'\n",
        "rlrop = keras.callbacks.ReduceLROnPlateau(monitor='val_accuracy',mode='max',factor=0.5, patience=10, min_lr=0.00001, verbose=1)\n",
        "checkpoint = ModelCheckpoint(cp_filepath, monitor='val_accuracy', verbose=1, save_best_only=True, mode='max')\n",
        "early_stopping = EarlyStopping(monitor='val_accuracy', patience=8, min_delta=0.001, mode='max')\n",
        "callbacks_list = [rlrop,checkpoint,early_stopping]"
      ],
      "metadata": {
        "id": "BLIrfhcHBIiR"
      },
      "execution_count": null,
      "outputs": []
    },
    {
      "cell_type": "code",
      "source": [
        "history2 = model2.fit(x,y, shuffle=True,epochs=100,callbacks=callbacks_list,validation_data=(xte,yte))"
      ],
      "metadata": {
        "colab": {
          "base_uri": "https://localhost:8080/"
        },
        "id": "jt_zUwdiBWl6",
        "outputId": "597dfacd-4324-4118-d3bf-9167af925f4a"
      },
      "execution_count": null,
      "outputs": [
        {
          "output_type": "stream",
          "name": "stdout",
          "text": [
            "Epoch 1/100\n",
            "898/898 [==============================] - ETA: 0s - loss: 2.1958 - accuracy: 0.2723\n",
            "Epoch 1: val_accuracy improved from -inf to 0.34425, saving model to Baseline-weights-best.hdf5\n",
            "898/898 [==============================] - 9s 8ms/step - loss: 2.1958 - accuracy: 0.2723 - val_loss: 1.9097 - val_accuracy: 0.3442 - lr: 0.0100\n",
            "Epoch 2/100\n",
            "896/898 [============================>.] - ETA: 0s - loss: 1.9240 - accuracy: 0.3533\n",
            "Epoch 2: val_accuracy did not improve from 0.34425\n",
            "898/898 [==============================] - 7s 7ms/step - loss: 1.9239 - accuracy: 0.3533 - val_loss: 11.0012 - val_accuracy: 0.2629 - lr: 0.0100\n",
            "Epoch 3/100\n",
            "897/898 [============================>.] - ETA: 0s - loss: 1.7452 - accuracy: 0.3907\n",
            "Epoch 3: val_accuracy improved from 0.34425 to 0.45514, saving model to Baseline-weights-best.hdf5\n",
            "898/898 [==============================] - 9s 10ms/step - loss: 1.7452 - accuracy: 0.3907 - val_loss: 1.6363 - val_accuracy: 0.4551 - lr: 0.0100\n",
            "Epoch 4/100\n",
            "891/898 [============================>.] - ETA: 0s - loss: 1.5710 - accuracy: 0.4278\n",
            "Epoch 4: val_accuracy improved from 0.45514 to 0.48091, saving model to Baseline-weights-best.hdf5\n",
            "898/898 [==============================] - 7s 8ms/step - loss: 1.5707 - accuracy: 0.4280 - val_loss: 1.3744 - val_accuracy: 0.4809 - lr: 0.0100\n",
            "Epoch 5/100\n",
            "891/898 [============================>.] - ETA: 0s - loss: 1.4440 - accuracy: 0.4627\n",
            "Epoch 5: val_accuracy improved from 0.48091 to 0.50279, saving model to Baseline-weights-best.hdf5\n",
            "898/898 [==============================] - 8s 9ms/step - loss: 1.4445 - accuracy: 0.4626 - val_loss: 1.3068 - val_accuracy: 0.5028 - lr: 0.0100\n",
            "Epoch 6/100\n",
            "897/898 [============================>.] - ETA: 0s - loss: 1.3550 - accuracy: 0.4945\n",
            "Epoch 6: val_accuracy improved from 0.50279 to 0.50989, saving model to Baseline-weights-best.hdf5\n",
            "898/898 [==============================] - 8s 9ms/step - loss: 1.3551 - accuracy: 0.4945 - val_loss: 1.2719 - val_accuracy: 0.5099 - lr: 0.0100\n",
            "Epoch 7/100\n",
            "896/898 [============================>.] - ETA: 0s - loss: 1.3042 - accuracy: 0.5108\n",
            "Epoch 7: val_accuracy improved from 0.50989 to 0.51978, saving model to Baseline-weights-best.hdf5\n",
            "898/898 [==============================] - 7s 8ms/step - loss: 1.3044 - accuracy: 0.5107 - val_loss: 1.2331 - val_accuracy: 0.5198 - lr: 0.0100\n",
            "Epoch 8/100\n",
            "894/898 [============================>.] - ETA: 0s - loss: 1.2585 - accuracy: 0.5271\n",
            "Epoch 8: val_accuracy improved from 0.51978 to 0.54277, saving model to Baseline-weights-best.hdf5\n",
            "898/898 [==============================] - 8s 9ms/step - loss: 1.2588 - accuracy: 0.5269 - val_loss: 1.2157 - val_accuracy: 0.5428 - lr: 0.0100\n",
            "Epoch 9/100\n",
            "898/898 [==============================] - ETA: 0s - loss: 1.2177 - accuracy: 0.5451\n",
            "Epoch 9: val_accuracy improved from 0.54277 to 0.55308, saving model to Baseline-weights-best.hdf5\n",
            "898/898 [==============================] - 8s 8ms/step - loss: 1.2177 - accuracy: 0.5451 - val_loss: 1.1762 - val_accuracy: 0.5531 - lr: 0.0100\n",
            "Epoch 10/100\n",
            "895/898 [============================>.] - ETA: 0s - loss: 1.1905 - accuracy: 0.5564\n",
            "Epoch 10: val_accuracy improved from 0.55308 to 0.56673, saving model to Baseline-weights-best.hdf5\n",
            "898/898 [==============================] - 7s 8ms/step - loss: 1.1902 - accuracy: 0.5564 - val_loss: 1.1484 - val_accuracy: 0.5667 - lr: 0.0100\n",
            "Epoch 11/100\n",
            "894/898 [============================>.] - ETA: 0s - loss: 1.1502 - accuracy: 0.5695\n",
            "Epoch 11: val_accuracy did not improve from 0.56673\n",
            "898/898 [==============================] - 8s 9ms/step - loss: 1.1510 - accuracy: 0.5693 - val_loss: 1.1570 - val_accuracy: 0.5644 - lr: 0.0100\n",
            "Epoch 12/100\n",
            "894/898 [============================>.] - ETA: 0s - loss: 1.1247 - accuracy: 0.5738\n",
            "Epoch 12: val_accuracy improved from 0.56673 to 0.57258, saving model to Baseline-weights-best.hdf5\n",
            "898/898 [==============================] - 8s 9ms/step - loss: 1.1253 - accuracy: 0.5735 - val_loss: 1.1415 - val_accuracy: 0.5726 - lr: 0.0100\n",
            "Epoch 13/100\n",
            "893/898 [============================>.] - ETA: 0s - loss: 1.1086 - accuracy: 0.5863\n",
            "Epoch 13: val_accuracy did not improve from 0.57258\n",
            "898/898 [==============================] - 7s 7ms/step - loss: 1.1094 - accuracy: 0.5861 - val_loss: 1.1511 - val_accuracy: 0.5637 - lr: 0.0100\n",
            "Epoch 14/100\n",
            "890/898 [============================>.] - ETA: 0s - loss: 1.0886 - accuracy: 0.5942\n",
            "Epoch 14: val_accuracy improved from 0.57258 to 0.58080, saving model to Baseline-weights-best.hdf5\n",
            "898/898 [==============================] - 7s 8ms/step - loss: 1.0888 - accuracy: 0.5942 - val_loss: 1.1332 - val_accuracy: 0.5808 - lr: 0.0100\n",
            "Epoch 15/100\n",
            "898/898 [==============================] - ETA: 0s - loss: 1.0677 - accuracy: 0.6009\n",
            "Epoch 15: val_accuracy improved from 0.58080 to 0.59042, saving model to Baseline-weights-best.hdf5\n",
            "898/898 [==============================] - 7s 8ms/step - loss: 1.0677 - accuracy: 0.6009 - val_loss: 1.0947 - val_accuracy: 0.5904 - lr: 0.0100\n",
            "Epoch 16/100\n",
            "896/898 [============================>.] - ETA: 0s - loss: 1.0420 - accuracy: 0.6109\n",
            "Epoch 16: val_accuracy did not improve from 0.59042\n",
            "898/898 [==============================] - 7s 8ms/step - loss: 1.0422 - accuracy: 0.6107 - val_loss: 1.1118 - val_accuracy: 0.5826 - lr: 0.0100\n",
            "Epoch 17/100\n",
            "896/898 [============================>.] - ETA: 0s - loss: 1.0249 - accuracy: 0.6150\n",
            "Epoch 17: val_accuracy improved from 0.59042 to 0.59696, saving model to Baseline-weights-best.hdf5\n",
            "898/898 [==============================] - 7s 8ms/step - loss: 1.0257 - accuracy: 0.6148 - val_loss: 1.0858 - val_accuracy: 0.5970 - lr: 0.0100\n",
            "Epoch 18/100\n",
            "896/898 [============================>.] - ETA: 0s - loss: 1.0066 - accuracy: 0.6234\n",
            "Epoch 18: val_accuracy did not improve from 0.59696\n",
            "898/898 [==============================] - 8s 9ms/step - loss: 1.0069 - accuracy: 0.6233 - val_loss: 1.1813 - val_accuracy: 0.5759 - lr: 0.0100\n",
            "Epoch 19/100\n",
            "893/898 [============================>.] - ETA: 0s - loss: 1.0055 - accuracy: 0.6220\n",
            "Epoch 19: val_accuracy improved from 0.59696 to 0.60100, saving model to Baseline-weights-best.hdf5\n",
            "898/898 [==============================] - 7s 7ms/step - loss: 1.0066 - accuracy: 0.6214 - val_loss: 1.1157 - val_accuracy: 0.6010 - lr: 0.0100\n",
            "Epoch 20/100\n",
            "895/898 [============================>.] - ETA: 0s - loss: 0.9834 - accuracy: 0.6345\n",
            "Epoch 20: val_accuracy improved from 0.60100 to 0.60797, saving model to Baseline-weights-best.hdf5\n",
            "898/898 [==============================] - 8s 9ms/step - loss: 0.9832 - accuracy: 0.6346 - val_loss: 1.0768 - val_accuracy: 0.6080 - lr: 0.0100\n",
            "Epoch 21/100\n",
            "897/898 [============================>.] - ETA: 0s - loss: 0.9658 - accuracy: 0.6387\n",
            "Epoch 21: val_accuracy did not improve from 0.60797\n",
            "898/898 [==============================] - 8s 9ms/step - loss: 0.9658 - accuracy: 0.6387 - val_loss: 1.0910 - val_accuracy: 0.6074 - lr: 0.0100\n",
            "Epoch 22/100\n",
            "891/898 [============================>.] - ETA: 0s - loss: 0.9473 - accuracy: 0.6491\n",
            "Epoch 22: val_accuracy improved from 0.60797 to 0.61493, saving model to Baseline-weights-best.hdf5\n",
            "898/898 [==============================] - 7s 8ms/step - loss: 0.9477 - accuracy: 0.6489 - val_loss: 1.0686 - val_accuracy: 0.6149 - lr: 0.0100\n",
            "Epoch 23/100\n",
            "892/898 [============================>.] - ETA: 0s - loss: 0.9264 - accuracy: 0.6531\n",
            "Epoch 23: val_accuracy did not improve from 0.61493\n",
            "898/898 [==============================] - 7s 8ms/step - loss: 0.9258 - accuracy: 0.6535 - val_loss: 1.1544 - val_accuracy: 0.6004 - lr: 0.0100\n",
            "Epoch 24/100\n",
            "896/898 [============================>.] - ETA: 0s - loss: 0.9242 - accuracy: 0.6541\n",
            "Epoch 24: val_accuracy did not improve from 0.61493\n",
            "898/898 [==============================] - 7s 8ms/step - loss: 0.9246 - accuracy: 0.6540 - val_loss: 1.0850 - val_accuracy: 0.6087 - lr: 0.0100\n",
            "Epoch 25/100\n",
            "895/898 [============================>.] - ETA: 0s - loss: 0.9086 - accuracy: 0.6614\n",
            "Epoch 25: val_accuracy did not improve from 0.61493\n",
            "898/898 [==============================] - 7s 7ms/step - loss: 0.9086 - accuracy: 0.6615 - val_loss: 1.0770 - val_accuracy: 0.6103 - lr: 0.0100\n",
            "Epoch 26/100\n",
            "896/898 [============================>.] - ETA: 0s - loss: 0.8956 - accuracy: 0.6678\n",
            "Epoch 26: val_accuracy did not improve from 0.61493\n",
            "898/898 [==============================] - 7s 8ms/step - loss: 0.8955 - accuracy: 0.6678 - val_loss: 1.0656 - val_accuracy: 0.6145 - lr: 0.0100\n",
            "Epoch 27/100\n",
            "898/898 [==============================] - ETA: 0s - loss: 0.8813 - accuracy: 0.6724\n",
            "Epoch 27: val_accuracy did not improve from 0.61493\n",
            "898/898 [==============================] - 7s 7ms/step - loss: 0.8813 - accuracy: 0.6724 - val_loss: 1.0842 - val_accuracy: 0.6108 - lr: 0.0100\n",
            "Epoch 28/100\n",
            "896/898 [============================>.] - ETA: 0s - loss: 0.8784 - accuracy: 0.6716\n",
            "Epoch 28: val_accuracy did not improve from 0.61493\n",
            "898/898 [==============================] - 7s 8ms/step - loss: 0.8790 - accuracy: 0.6715 - val_loss: 1.0889 - val_accuracy: 0.6103 - lr: 0.0100\n",
            "Epoch 29/100\n",
            "894/898 [============================>.] - ETA: 0s - loss: 0.8552 - accuracy: 0.6813\n",
            "Epoch 29: val_accuracy did not improve from 0.61493\n",
            "898/898 [==============================] - 7s 8ms/step - loss: 0.8554 - accuracy: 0.6811 - val_loss: 1.1169 - val_accuracy: 0.6050 - lr: 0.0100\n",
            "Epoch 30/100\n",
            "898/898 [==============================] - ETA: 0s - loss: 0.8656 - accuracy: 0.6779\n",
            "Epoch 30: val_accuracy did not improve from 0.61493\n",
            "898/898 [==============================] - 7s 8ms/step - loss: 0.8656 - accuracy: 0.6779 - val_loss: 1.0902 - val_accuracy: 0.6085 - lr: 0.0100\n"
          ]
        }
      ]
    },
    {
      "cell_type": "code",
      "source": [
        "fig , ax = plt.subplots(1,2)\n",
        "train_acc = history2.history['accuracy']\n",
        "train_loss = history2.history['loss']\n",
        "fig.set_size_inches(12,4)\n",
        "\n",
        "ax[0].plot(history2.history['accuracy'])\n",
        "ax[0].plot(history2.history['val_accuracy'])\n",
        "ax[0].set_title('Training Accuracy vs Validation Accuracy')\n",
        "ax[0].set_ylabel('Accuracy')\n",
        "ax[0].set_xlabel('Epoch')\n",
        "ax[0].legend(['Train', 'Validation'], loc='upper left')\n",
        "\n",
        "ax[1].plot(history2.history['loss'])\n",
        "ax[1].plot(history2.history['val_loss'])\n",
        "ax[1].set_title('Training Loss vs Validation Loss')\n",
        "ax[1].set_ylabel('Loss')\n",
        "ax[1].set_xlabel('Epoch')\n",
        "ax[1].legend(['Train', 'Validation'], loc='upper left')\n"
      ],
      "metadata": {
        "colab": {
          "base_uri": "https://localhost:8080/",
          "height": 312
        },
        "id": "KXFk0jwpHpIX",
        "outputId": "031592d7-6ba5-4012-90e6-24602cedddce"
      },
      "execution_count": null,
      "outputs": [
        {
          "output_type": "execute_result",
          "data": {
            "text/plain": [
              "<matplotlib.legend.Legend at 0x7f3bee528fd0>"
            ]
          },
          "metadata": {},
          "execution_count": 45
        },
        {
          "output_type": "display_data",
          "data": {
            "text/plain": [
              "<Figure size 864x288 with 2 Axes>"
            ],
            "image/png": "[encoded data removed]"
          },
          "metadata": {
            "needs_background": "light"
          }
        }
      ]
    },
    {
      "cell_type": "code",
      "source": [
        "train_loss, train_acc = model2.evaluate(x,y)\n",
        "test_loss, test_acc   = model2.evaluate(xte,yte)\n",
        "print(\"final train accuracy = {:.2f} , validation accuracy = {:.2f}\".format(train_acc*100, test_acc*100))"
      ],
      "metadata": {
        "colab": {
          "base_uri": "https://localhost:8080/"
        },
        "id": "cem9qbdyKan2",
        "outputId": "7f5c8d32-e20e-44c3-c608-a81c2a4812a2"
      },
      "execution_count": null,
      "outputs": [
        {
          "output_type": "stream",
          "name": "stdout",
          "text": [
            "898/898 [==============================] - 4s 4ms/step - loss: 0.6425 - accuracy: 0.7770\n",
            "225/225 [==============================] - 1s 4ms/step - loss: 1.0902 - accuracy: 0.6085\n",
            "final train accuracy = 77.70 , validation accuracy = 60.85\n"
          ]
        }
      ]
    },
    {
      "cell_type": "code",
      "source": [
        ""
      ],
      "metadata": {
        "id": "vg-wVItoLY5a"
      },
      "execution_count": null,
      "outputs": []
    },
    {
      "cell_type": "code",
      "source": [
        ""
      ],
      "metadata": {
        "id": "z4hNIPdXVOFI"
      },
      "execution_count": null,
      "outputs": []
    },
    {
      "cell_type": "markdown",
      "source": [
        "#Model3"
      ],
      "metadata": {
        "id": "Dokj2oBjVPsm"
      }
    },
    {
      "cell_type": "code",
      "source": [
        "from tensorflow.keras.layers import Conv2D,Flatten,MaxPooling2D,Input,BatchNormalization,Dropout,Dense\n",
        "from tensorflow.keras.models import Model\n",
        "\n",
        "def create_modell(input_shape = (48,48,1),num_classes=7):\n",
        "\n",
        "    input = Input(shape=input_shape)\n",
        "    x = Conv2D(filters=256,kernel_size=3,activation='relu',padding='same')(input)\n",
        "\n",
        "    x = Conv2D(filters=512,kernel_size=3,activation='relu',padding='same')(x)\n",
        "    x = BatchNormalization()(x)\n",
        "\n",
        "    #\n",
        "    x = MaxPooling2D(pool_size=(2,2))(x)\n",
        "    x = Dropout(0.4)(x)\n",
        "\n",
        "    x = Conv2D(filters=384,kernel_size=3,activation='relu',padding='same')(x)\n",
        "    x = BatchNormalization()(x)\n",
        "\n",
        "    x = MaxPooling2D(pool_size=(2,2))(x)\n",
        "    x = Dropout(0.4)(x)\n",
        "\n",
        "    x = Conv2D(filters=192,kernel_size=3,activation='relu',padding='same')(x)\n",
        "    x = BatchNormalization()(x)\n",
        "\n",
        "    x = MaxPooling2D(pool_size=(2,2))(x)\n",
        "    x = Dropout(0.4)(x)\n",
        "\n",
        "\n",
        "    x = Conv2D(filters=384,kernel_size=3,activation='relu',padding='same')(x)\n",
        "    x = BatchNormalization()(x)\n",
        "\n",
        "    x = MaxPooling2D(pool_size=(2,2))(x)\n",
        "    x = Dropout(0.4)(x)\n",
        "\n",
        "    x = Flatten()(x)\n",
        "\n",
        "    x = Dense(256,activation='relu')(x)\n",
        "    x = BatchNormalization()(x)\n",
        "\n",
        "    x = Dropout(0.3)(x)\n",
        "    x = Dense(num_classes,activation='softmax')(x)\n",
        "\n",
        "    return Model(input,x,name='fer_model')"
      ],
      "metadata": {
        "id": "yyA4Bsb1VaLn"
      },
      "execution_count": null,
      "outputs": []
    },
    {
      "cell_type": "code",
      "source": [
        "model3 = create_modell()\n",
        "model3.summary()"
      ],
      "metadata": {
        "colab": {
          "base_uri": "https://localhost:8080/"
        },
        "id": "41jg2EoNX_IC",
        "outputId": "40f66248-abc2-4f09-80e2-07c698bc47ad"
      },
      "execution_count": null,
      "outputs": [
        {
          "output_type": "stream",
          "name": "stdout",
          "text": [
            "Model: \"fer_model\"\n",
            "_________________________________________________________________\n",
            " Layer (type)                Output Shape              Param #   \n",
            "=================================================================\n",
            " input_1 (InputLayer)        [(None, 48, 48, 1)]       0         \n",
            "                                                                 \n",
            " conv2d_8 (Conv2D)           (None, 48, 48, 256)       2560      \n",
            "                                                                 \n",
            " conv2d_9 (Conv2D)           (None, 48, 48, 512)       1180160   \n",
            "                                                                 \n",
            " batch_normalization_10 (Bat  (None, 48, 48, 512)      2048      \n",
            " chNormalization)                                                \n",
            "                                                                 \n",
            " max_pooling2d_6 (MaxPooling  (None, 24, 24, 512)      0         \n",
            " 2D)                                                             \n",
            "                                                                 \n",
            " dropout_12 (Dropout)        (None, 24, 24, 512)       0         \n",
            "                                                                 \n",
            " conv2d_10 (Conv2D)          (None, 24, 24, 384)       1769856   \n",
            "                                                                 \n",
            " batch_normalization_11 (Bat  (None, 24, 24, 384)      1536      \n",
            " chNormalization)                                                \n",
            "                                                                 \n",
            " max_pooling2d_7 (MaxPooling  (None, 12, 12, 384)      0         \n",
            " 2D)                                                             \n",
            "                                                                 \n",
            " dropout_13 (Dropout)        (None, 12, 12, 384)       0         \n",
            "                                                                 \n",
            " conv2d_11 (Conv2D)          (None, 12, 12, 192)       663744    \n",
            "                                                                 \n",
            " batch_normalization_12 (Bat  (None, 12, 12, 192)      768       \n",
            " chNormalization)                                                \n",
            "                                                                 \n",
            " max_pooling2d_8 (MaxPooling  (None, 6, 6, 192)        0         \n",
            " 2D)                                                             \n",
            "                                                                 \n",
            " dropout_14 (Dropout)        (None, 6, 6, 192)         0         \n",
            "                                                                 \n",
            " conv2d_12 (Conv2D)          (None, 6, 6, 384)         663936    \n",
            "                                                                 \n",
            " batch_normalization_13 (Bat  (None, 6, 6, 384)        1536      \n",
            " chNormalization)                                                \n",
            "                                                                 \n",
            " max_pooling2d_9 (MaxPooling  (None, 3, 3, 384)        0         \n",
            " 2D)                                                             \n",
            "                                                                 \n",
            " dropout_15 (Dropout)        (None, 3, 3, 384)         0         \n",
            "                                                                 \n",
            " flatten_3 (Flatten)         (None, 3456)              0         \n",
            "                                                                 \n",
            " dense_4 (Dense)             (None, 256)               884992    \n",
            "                                                                 \n",
            " batch_normalization_14 (Bat  (None, 256)              1024      \n",
            " chNormalization)                                                \n",
            "                                                                 \n",
            " dropout_16 (Dropout)        (None, 256)               0         \n",
            "                                                                 \n",
            " dense_5 (Dense)             (None, 7)                 1799      \n",
            "                                                                 \n",
            "=================================================================\n",
            "Total params: 5,173,959\n",
            "Trainable params: 5,170,503\n",
            "Non-trainable params: 3,456\n",
            "_________________________________________________________________\n"
          ]
        }
      ]
    },
    {
      "cell_type": "code",
      "source": [
        "import tensorflow as tf\n"
      ],
      "metadata": {
        "id": "BRM-HdWZZwin"
      },
      "execution_count": null,
      "outputs": []
    },
    {
      "cell_type": "code",
      "source": [
        "early_stopping = EarlyStopping(monitor='val_loss', min_delta=0, patience=10, verbose=1)\n",
        "optimizer=tf.keras.optimizers.Adam(learning_rate=1e-3)\n",
        "model3.compile(loss=tf.keras.losses.sparse_categorical_crossentropy, metrics=['accuracy'],optimizer=optimizer)\n",
        "history3 = model3.fit(x,y,epochs=800,callbacks=[early_stopping],validation_data=(xte,yte))"
      ],
      "metadata": {
        "colab": {
          "base_uri": "https://localhost:8080/"
        },
        "id": "n1vB2Nm6YM8f",
        "outputId": "7538af30-39ab-4a3c-990a-69819e5b1e71"
      },
      "execution_count": null,
      "outputs": [
        {
          "output_type": "stream",
          "name": "stdout",
          "text": [
            "Epoch 1/800\n",
            "898/898 [==============================] - 95s 103ms/step - loss: 1.9236 - accuracy: 0.2717 - val_loss: 1.9073 - val_accuracy: 0.2654\n",
            "Epoch 2/800\n",
            "898/898 [==============================] - 85s 95ms/step - loss: 1.5075 - accuracy: 0.4136 - val_loss: 1.5417 - val_accuracy: 0.3966\n",
            "Epoch 3/800\n",
            "898/898 [==============================] - 85s 95ms/step - loss: 1.3213 - accuracy: 0.4958 - val_loss: 1.2463 - val_accuracy: 0.5293\n",
            "Epoch 4/800\n",
            "898/898 [==============================] - 85s 94ms/step - loss: 1.2336 - accuracy: 0.5307 - val_loss: 1.2127 - val_accuracy: 0.5403\n",
            "Epoch 5/800\n",
            "898/898 [==============================] - 85s 94ms/step - loss: 1.1859 - accuracy: 0.5531 - val_loss: 1.1883 - val_accuracy: 0.5497\n",
            "Epoch 6/800\n",
            "898/898 [==============================] - 86s 96ms/step - loss: 1.1371 - accuracy: 0.5701 - val_loss: 1.1128 - val_accuracy: 0.5726\n",
            "Epoch 7/800\n",
            "898/898 [==============================] - 85s 95ms/step - loss: 1.1048 - accuracy: 0.5843 - val_loss: 1.0762 - val_accuracy: 0.5907\n",
            "Epoch 8/800\n",
            "898/898 [==============================] - 87s 96ms/step - loss: 1.0552 - accuracy: 0.6027 - val_loss: 1.0978 - val_accuracy: 0.5952\n",
            "Epoch 9/800\n",
            "898/898 [==============================] - 85s 95ms/step - loss: 1.0295 - accuracy: 0.6133 - val_loss: 1.0325 - val_accuracy: 0.6092\n",
            "Epoch 10/800\n",
            "898/898 [==============================] - 84s 94ms/step - loss: 0.9888 - accuracy: 0.6288 - val_loss: 1.0218 - val_accuracy: 0.6241\n",
            "Epoch 11/800\n",
            "898/898 [==============================] - 84s 94ms/step - loss: 0.9542 - accuracy: 0.6401 - val_loss: 1.0364 - val_accuracy: 0.6173\n",
            "Epoch 12/800\n",
            "898/898 [==============================] - 84s 94ms/step - loss: 0.9351 - accuracy: 0.6516 - val_loss: 1.1015 - val_accuracy: 0.6194\n",
            "Epoch 13/800\n",
            "898/898 [==============================] - 84s 94ms/step - loss: 0.9195 - accuracy: 0.6507 - val_loss: 1.0693 - val_accuracy: 0.6073\n",
            "Epoch 14/800\n",
            "898/898 [==============================] - 84s 94ms/step - loss: 0.8812 - accuracy: 0.6695 - val_loss: 1.0407 - val_accuracy: 0.6321\n",
            "Epoch 15/800\n",
            "898/898 [==============================] - 85s 95ms/step - loss: 0.8587 - accuracy: 0.6800 - val_loss: 1.0520 - val_accuracy: 0.6257\n",
            "Epoch 16/800\n",
            "898/898 [==============================] - 85s 94ms/step - loss: 0.8405 - accuracy: 0.6874 - val_loss: 1.0807 - val_accuracy: 0.6399\n",
            "Epoch 17/800\n",
            "898/898 [==============================] - 84s 94ms/step - loss: 0.8299 - accuracy: 0.6900 - val_loss: 0.9914 - val_accuracy: 0.6406\n",
            "Epoch 18/800\n",
            "898/898 [==============================] - 84s 94ms/step - loss: 0.7977 - accuracy: 0.7033 - val_loss: 0.9895 - val_accuracy: 0.6399\n",
            "Epoch 19/800\n",
            "898/898 [==============================] - 86s 96ms/step - loss: 0.7769 - accuracy: 0.7090 - val_loss: 0.9938 - val_accuracy: 0.6424\n",
            "Epoch 20/800\n",
            "898/898 [==============================] - 85s 94ms/step - loss: 0.7513 - accuracy: 0.7210 - val_loss: 1.0499 - val_accuracy: 0.6372\n",
            "Epoch 21/800\n",
            "898/898 [==============================] - 89s 99ms/step - loss: 0.7348 - accuracy: 0.7267 - val_loss: 1.0257 - val_accuracy: 0.6378\n",
            "Epoch 22/800\n",
            "898/898 [==============================] - 84s 94ms/step - loss: 0.7342 - accuracy: 0.7286 - val_loss: 4.8136 - val_accuracy: 0.2576\n",
            "Epoch 23/800\n",
            "898/898 [==============================] - 84s 93ms/step - loss: 0.7195 - accuracy: 0.7346 - val_loss: 1.0132 - val_accuracy: 0.6513\n",
            "Epoch 24/800\n",
            "898/898 [==============================] - 84s 94ms/step - loss: 0.7069 - accuracy: 0.7382 - val_loss: 1.0093 - val_accuracy: 0.6560\n",
            "Epoch 25/800\n",
            "898/898 [==============================] - 84s 93ms/step - loss: 0.6879 - accuracy: 0.7452 - val_loss: 1.0777 - val_accuracy: 0.6325\n",
            "Epoch 26/800\n",
            "898/898 [==============================] - 84s 93ms/step - loss: 0.6841 - accuracy: 0.7450 - val_loss: 1.0889 - val_accuracy: 0.6427\n",
            "Epoch 27/800\n",
            "898/898 [==============================] - 84s 93ms/step - loss: 0.6529 - accuracy: 0.7576 - val_loss: 1.0536 - val_accuracy: 0.6524\n",
            "Epoch 28/800\n",
            "898/898 [==============================] - 84s 93ms/step - loss: 0.6390 - accuracy: 0.7641 - val_loss: 1.0342 - val_accuracy: 0.6553\n",
            "Epoch 28: early stopping\n"
          ]
        }
      ]
    },
    {
      "cell_type": "code",
      "source": [
        "train_loss, train_acc = model3.evaluate(x,y)\n",
        "test_loss, test_acc   = model3.evaluate(xte,yte)\n",
        "print(\"final train accuracy = {:.2f} , validation accuracy = {:.2f}\".format(train_acc*100, test_acc*100))"
      ],
      "metadata": {
        "colab": {
          "base_uri": "https://localhost:8080/"
        },
        "id": "-mkzFDhMc9oP",
        "outputId": "4724a231-9f21-408c-ee41-f4b17cf292d7"
      },
      "execution_count": null,
      "outputs": [
        {
          "output_type": "stream",
          "name": "stdout",
          "text": [
            "898/898 [==============================] - 25s 28ms/step - loss: 0.3226 - accuracy: 0.9073\n",
            "225/225 [==============================] - 6s 27ms/step - loss: 1.0342 - accuracy: 0.6553\n",
            "final train accuracy = 90.73 , validation accuracy = 65.53\n"
          ]
        }
      ]
    },
    {
      "cell_type": "markdown",
      "source": [
        "#model4"
      ],
      "metadata": {
        "id": "rdqWv7sbVbyP"
      }
    },
    {
      "cell_type": "code",
      "source": [
        "model4 = Sequential()\n",
        "\n",
        "# Conv Block 1\n",
        "model4.add(Conv2D(64, (3,3), padding='same', input_shape=(48,48,1)))\n",
        "model4.add(BatchNormalization())\n",
        "model4.add(Activation('relu'))\n",
        "model4.add(MaxPooling2D(pool_size=(2,2)))\n",
        "model4.add(Dropout(0.25))\n",
        "\n",
        "# Conv Block 2\n",
        "model4.add(Conv2D(128,(5,5), padding='same'))\n",
        "model4.add(BatchNormalization())\n",
        "model4.add(Activation('relu'))\n",
        "model4.add(MaxPooling2D(pool_size=(2,2)))\n",
        "model4.add(Dropout(0.25))\n",
        "\n",
        "# Conv Block 3\n",
        "model4.add(Conv2D(512,(3,3), padding='same'))\n",
        "model4.add(BatchNormalization())\n",
        "model4.add(Activation('relu'))\n",
        "model4.add(MaxPooling2D(pool_size=(2,2)))\n",
        "model4.add(Dropout(0.25))\n",
        "\n",
        "# Conv Block 3\n",
        "model4.add(Conv2D(512,(3,3), padding='same'))\n",
        "model4.add(BatchNormalization())\n",
        "model4.add(Activation('relu'))\n",
        "model4.add(MaxPooling2D(pool_size=(2,2)))\n",
        "model4.add(Dropout(0.25))\n",
        "\n",
        "model4.add(Flatten())\n",
        "\n",
        "# Fully connected Block 1\n",
        "model4.add(Dense(256))\n",
        "model4.add(BatchNormalization())\n",
        "model4.add(Activation('relu'))\n",
        "model4.add(Dropout(0.25))\n",
        "\n",
        "# Fully connected Block 2\n",
        "model4.add(Dense(512))\n",
        "model4.add(BatchNormalization())\n",
        "model4.add(Activation('relu'))\n",
        "model4.add(Dropout(0.25))\n",
        "\n",
        "model4.add(Dense(7, activation='softmax'))\n",
        "\n",
        "opt = Adam(lr=0.0005)\n",
        "model4.compile(optimizer=opt, loss='sparse_categorical_crossentropy', metrics=['accuracy'])\n",
        "model4.summary()"
      ],
      "metadata": {
        "colab": {
          "base_uri": "https://localhost:8080/"
        },
        "id": "w-5X_QoJVih9",
        "outputId": "06e22681-7f59-4a27-e47f-925aeeb12e68"
      },
      "execution_count": null,
      "outputs": [
        {
          "output_type": "stream",
          "name": "stdout",
          "text": [
            "Model: \"sequential_3\"\n",
            "_________________________________________________________________\n",
            " Layer (type)                Output Shape              Param #   \n",
            "=================================================================\n",
            " conv2d_13 (Conv2D)          (None, 48, 48, 64)        640       \n",
            "                                                                 \n",
            " batch_normalization_15 (Bat  (None, 48, 48, 64)       256       \n",
            " chNormalization)                                                \n",
            "                                                                 \n",
            " activation (Activation)     (None, 48, 48, 64)        0         \n",
            "                                                                 \n",
            " max_pooling2d_10 (MaxPoolin  (None, 24, 24, 64)       0         \n",
            " g2D)                                                            \n",
            "                                                                 \n",
            " dropout_17 (Dropout)        (None, 24, 24, 64)        0         \n",
            "                                                                 \n",
            " conv2d_14 (Conv2D)          (None, 24, 24, 128)       204928    \n",
            "                                                                 \n",
            " batch_normalization_16 (Bat  (None, 24, 24, 128)      512       \n",
            " chNormalization)                                                \n",
            "                                                                 \n",
            " activation_1 (Activation)   (None, 24, 24, 128)       0         \n",
            "                                                                 \n",
            " max_pooling2d_11 (MaxPoolin  (None, 12, 12, 128)      0         \n",
            " g2D)                                                            \n",
            "                                                                 \n",
            " dropout_18 (Dropout)        (None, 12, 12, 128)       0         \n",
            "                                                                 \n",
            " conv2d_15 (Conv2D)          (None, 12, 12, 512)       590336    \n",
            "                                                                 \n",
            " batch_normalization_17 (Bat  (None, 12, 12, 512)      2048      \n",
            " chNormalization)                                                \n",
            "                                                                 \n",
            " activation_2 (Activation)   (None, 12, 12, 512)       0         \n",
            "                                                                 \n",
            " max_pooling2d_12 (MaxPoolin  (None, 6, 6, 512)        0         \n",
            " g2D)                                                            \n",
            "                                                                 \n",
            " dropout_19 (Dropout)        (None, 6, 6, 512)         0         \n",
            "                                                                 \n",
            " conv2d_16 (Conv2D)          (None, 6, 6, 512)         2359808   \n",
            "                                                                 \n",
            " batch_normalization_18 (Bat  (None, 6, 6, 512)        2048      \n",
            " chNormalization)                                                \n",
            "                                                                 \n",
            " activation_3 (Activation)   (None, 6, 6, 512)         0         \n",
            "                                                                 \n",
            " max_pooling2d_13 (MaxPoolin  (None, 3, 3, 512)        0         \n",
            " g2D)                                                            \n",
            "                                                                 \n",
            " dropout_20 (Dropout)        (None, 3, 3, 512)         0         \n",
            "                                                                 \n",
            " flatten_4 (Flatten)         (None, 4608)              0         \n",
            "                                                                 \n",
            " dense_6 (Dense)             (None, 256)               1179904   \n",
            "                                                                 \n",
            " batch_normalization_19 (Bat  (None, 256)              1024      \n",
            " chNormalization)                                                \n",
            "                                                                 \n",
            " activation_4 (Activation)   (None, 256)               0         \n",
            "                                                                 \n",
            " dropout_21 (Dropout)        (None, 256)               0         \n",
            "                                                                 \n",
            " dense_7 (Dense)             (None, 512)               131584    \n",
            "                                                                 \n",
            " batch_normalization_20 (Bat  (None, 512)              2048      \n",
            " chNormalization)                                                \n",
            "                                                                 \n",
            " activation_5 (Activation)   (None, 512)               0         \n",
            "                                                                 \n",
            " dropout_22 (Dropout)        (None, 512)               0         \n",
            "                                                                 \n",
            " dense_8 (Dense)             (None, 7)                 3591      \n",
            "                                                                 \n",
            "=================================================================\n",
            "Total params: 4,478,727\n",
            "Trainable params: 4,474,759\n",
            "Non-trainable params: 3,968\n",
            "_________________________________________________________________\n"
          ]
        }
      ]
    },
    {
      "cell_type": "code",
      "source": [
        "reduce_lr = ReduceLROnPlateau(monitor='val_loss' , factor=0.1, patience=2, min_lr=0.00001,model='auto')\n",
        "\n",
        "history4 = model4.fit(x,y,epochs=100,callbacks= [reduce_lr],validation_data=(xte,yte))"
      ],
      "metadata": {
        "colab": {
          "base_uri": "https://localhost:8080/"
        },
        "id": "Ez4CO2wpViJ6",
        "outputId": "d4d6a9cb-0247-4a04-dbc7-b66fea3de0bd"
      },
      "execution_count": null,
      "outputs": [
        {
          "output_type": "stream",
          "name": "stdout",
          "text": [
            "Epoch 1/100\n",
            "898/898 [==============================] - 19s 18ms/step - loss: 1.7678 - accuracy: 0.3210 - val_loss: 1.4983 - val_accuracy: 0.4320 - lr: 5.0000e-04\n",
            "Epoch 2/100\n",
            "898/898 [==============================] - 16s 18ms/step - loss: 1.4328 - accuracy: 0.4484 - val_loss: 1.3664 - val_accuracy: 0.4724 - lr: 5.0000e-04\n",
            "Epoch 3/100\n",
            "898/898 [==============================] - 16s 18ms/step - loss: 1.2753 - accuracy: 0.5145 - val_loss: 1.2653 - val_accuracy: 0.5103 - lr: 5.0000e-04\n",
            "Epoch 4/100\n",
            "898/898 [==============================] - 17s 19ms/step - loss: 1.1987 - accuracy: 0.5429 - val_loss: 1.1400 - val_accuracy: 0.5655 - lr: 5.0000e-04\n",
            "Epoch 5/100\n",
            "898/898 [==============================] - 16s 18ms/step - loss: 1.1418 - accuracy: 0.5704 - val_loss: 1.1759 - val_accuracy: 0.5521 - lr: 5.0000e-04\n",
            "Epoch 6/100\n",
            "898/898 [==============================] - 16s 18ms/step - loss: 1.0980 - accuracy: 0.5833 - val_loss: 1.3518 - val_accuracy: 0.5015 - lr: 5.0000e-04\n",
            "Epoch 7/100\n",
            "898/898 [==============================] - 16s 18ms/step - loss: 0.9857 - accuracy: 0.6330 - val_loss: 1.0150 - val_accuracy: 0.6121 - lr: 5.0000e-05\n",
            "Epoch 8/100\n",
            "898/898 [==============================] - 16s 18ms/step - loss: 0.9502 - accuracy: 0.6440 - val_loss: 1.0067 - val_accuracy: 0.6222 - lr: 5.0000e-05\n",
            "Epoch 9/100\n",
            "898/898 [==============================] - 19s 22ms/step - loss: 0.9239 - accuracy: 0.6517 - val_loss: 1.0027 - val_accuracy: 0.6268 - lr: 5.0000e-05\n",
            "Epoch 10/100\n",
            "898/898 [==============================] - 16s 18ms/step - loss: 0.9055 - accuracy: 0.6585 - val_loss: 1.0032 - val_accuracy: 0.6287 - lr: 5.0000e-05\n",
            "Epoch 11/100\n",
            "898/898 [==============================] - 16s 18ms/step - loss: 0.8918 - accuracy: 0.6660 - val_loss: 0.9959 - val_accuracy: 0.6328 - lr: 5.0000e-05\n",
            "Epoch 12/100\n",
            "898/898 [==============================] - 17s 19ms/step - loss: 0.8703 - accuracy: 0.6745 - val_loss: 0.9946 - val_accuracy: 0.6329 - lr: 5.0000e-05\n",
            "Epoch 13/100\n",
            "898/898 [==============================] - 16s 18ms/step - loss: 0.8541 - accuracy: 0.6823 - val_loss: 1.0042 - val_accuracy: 0.6319 - lr: 5.0000e-05\n",
            "Epoch 14/100\n",
            "898/898 [==============================] - 16s 18ms/step - loss: 0.8407 - accuracy: 0.6821 - val_loss: 1.0108 - val_accuracy: 0.6307 - lr: 5.0000e-05\n",
            "Epoch 15/100\n",
            "898/898 [==============================] - 16s 18ms/step - loss: 0.8184 - accuracy: 0.6946 - val_loss: 0.9925 - val_accuracy: 0.6388 - lr: 1.0000e-05\n",
            "Epoch 16/100\n",
            "898/898 [==============================] - 17s 18ms/step - loss: 0.8223 - accuracy: 0.6939 - val_loss: 0.9842 - val_accuracy: 0.6421 - lr: 1.0000e-05\n",
            "Epoch 17/100\n",
            "898/898 [==============================] - 16s 18ms/step - loss: 0.8116 - accuracy: 0.6979 - val_loss: 0.9924 - val_accuracy: 0.6415 - lr: 1.0000e-05\n",
            "Epoch 18/100\n",
            "898/898 [==============================] - 18s 20ms/step - loss: 0.8031 - accuracy: 0.6981 - val_loss: 0.9882 - val_accuracy: 0.6395 - lr: 1.0000e-05\n",
            "Epoch 19/100\n",
            "898/898 [==============================] - 17s 19ms/step - loss: 0.8025 - accuracy: 0.6998 - val_loss: 0.9892 - val_accuracy: 0.6420 - lr: 1.0000e-05\n",
            "Epoch 20/100\n",
            "898/898 [==============================] - 17s 18ms/step - loss: 0.7952 - accuracy: 0.7048 - val_loss: 0.9879 - val_accuracy: 0.6413 - lr: 1.0000e-05\n",
            "Epoch 21/100\n",
            "898/898 [==============================] - 18s 20ms/step - loss: 0.7969 - accuracy: 0.7031 - val_loss: 0.9855 - val_accuracy: 0.6443 - lr: 1.0000e-05\n",
            "Epoch 22/100\n",
            "898/898 [==============================] - 16s 18ms/step - loss: 0.7947 - accuracy: 0.7069 - val_loss: 0.9930 - val_accuracy: 0.6397 - lr: 1.0000e-05\n",
            "Epoch 23/100\n",
            "898/898 [==============================] - 16s 18ms/step - loss: 0.7802 - accuracy: 0.7087 - val_loss: 0.9879 - val_accuracy: 0.6429 - lr: 1.0000e-05\n",
            "Epoch 24/100\n",
            "898/898 [==============================] - 16s 18ms/step - loss: 0.7895 - accuracy: 0.7021 - val_loss: 0.9905 - val_accuracy: 0.6427 - lr: 1.0000e-05\n",
            "Epoch 25/100\n",
            "898/898 [==============================] - 16s 18ms/step - loss: 0.7777 - accuracy: 0.7086 - val_loss: 0.9885 - val_accuracy: 0.6408 - lr: 1.0000e-05\n",
            "Epoch 26/100\n",
            "898/898 [==============================] - 16s 18ms/step - loss: 0.7820 - accuracy: 0.7076 - val_loss: 0.9885 - val_accuracy: 0.6422 - lr: 1.0000e-05\n",
            "Epoch 27/100\n",
            "898/898 [==============================] - 16s 18ms/step - loss: 0.7823 - accuracy: 0.7080 - val_loss: 0.9905 - val_accuracy: 0.6408 - lr: 1.0000e-05\n",
            "Epoch 28/100\n",
            "898/898 [==============================] - 16s 18ms/step - loss: 0.7745 - accuracy: 0.7094 - val_loss: 0.9847 - val_accuracy: 0.6439 - lr: 1.0000e-05\n",
            "Epoch 29/100\n",
            "898/898 [==============================] - 16s 18ms/step - loss: 0.7717 - accuracy: 0.7087 - val_loss: 0.9896 - val_accuracy: 0.6399 - lr: 1.0000e-05\n",
            "Epoch 30/100\n",
            "898/898 [==============================] - 16s 18ms/step - loss: 0.7695 - accuracy: 0.7109 - val_loss: 0.9910 - val_accuracy: 0.6417 - lr: 1.0000e-05\n",
            "Epoch 31/100\n",
            "898/898 [==============================] - 16s 18ms/step - loss: 0.7618 - accuracy: 0.7139 - val_loss: 0.9904 - val_accuracy: 0.6432 - lr: 1.0000e-05\n",
            "Epoch 32/100\n",
            "898/898 [==============================] - 16s 18ms/step - loss: 0.7611 - accuracy: 0.7144 - val_loss: 0.9905 - val_accuracy: 0.6443 - lr: 1.0000e-05\n",
            "Epoch 33/100\n",
            "898/898 [==============================] - 16s 18ms/step - loss: 0.7548 - accuracy: 0.7186 - val_loss: 0.9895 - val_accuracy: 0.6431 - lr: 1.0000e-05\n",
            "Epoch 34/100\n",
            "898/898 [==============================] - 16s 18ms/step - loss: 0.7545 - accuracy: 0.7204 - val_loss: 0.9880 - val_accuracy: 0.6453 - lr: 1.0000e-05\n",
            "Epoch 35/100\n",
            "898/898 [==============================] - 16s 18ms/step - loss: 0.7590 - accuracy: 0.7205 - val_loss: 0.9953 - val_accuracy: 0.6447 - lr: 1.0000e-05\n",
            "Epoch 36/100\n",
            "898/898 [==============================] - 16s 18ms/step - loss: 0.7479 - accuracy: 0.7187 - val_loss: 0.9890 - val_accuracy: 0.6445 - lr: 1.0000e-05\n",
            "Epoch 37/100\n",
            "898/898 [==============================] - 16s 18ms/step - loss: 0.7499 - accuracy: 0.7207 - val_loss: 0.9948 - val_accuracy: 0.6418 - lr: 1.0000e-05\n",
            "Epoch 38/100\n",
            "898/898 [==============================] - 16s 18ms/step - loss: 0.7434 - accuracy: 0.7205 - val_loss: 0.9881 - val_accuracy: 0.6452 - lr: 1.0000e-05\n",
            "Epoch 39/100\n",
            "898/898 [==============================] - 16s 18ms/step - loss: 0.7432 - accuracy: 0.7235 - val_loss: 0.9896 - val_accuracy: 0.6429 - lr: 1.0000e-05\n",
            "Epoch 40/100\n",
            "898/898 [==============================] - 16s 18ms/step - loss: 0.7409 - accuracy: 0.7225 - val_loss: 0.9943 - val_accuracy: 0.6447 - lr: 1.0000e-05\n",
            "Epoch 41/100\n",
            "898/898 [==============================] - 16s 18ms/step - loss: 0.7374 - accuracy: 0.7298 - val_loss: 0.9955 - val_accuracy: 0.6424 - lr: 1.0000e-05\n",
            "Epoch 42/100\n",
            "898/898 [==============================] - 16s 18ms/step - loss: 0.7353 - accuracy: 0.7247 - val_loss: 0.9928 - val_accuracy: 0.6456 - lr: 1.0000e-05\n",
            "Epoch 43/100\n",
            "898/898 [==============================] - 16s 18ms/step - loss: 0.7214 - accuracy: 0.7321 - val_loss: 0.9917 - val_accuracy: 0.6463 - lr: 1.0000e-05\n",
            "Epoch 44/100\n",
            "898/898 [==============================] - 16s 18ms/step - loss: 0.7283 - accuracy: 0.7254 - val_loss: 0.9913 - val_accuracy: 0.6478 - lr: 1.0000e-05\n",
            "Epoch 45/100\n",
            "898/898 [==============================] - 16s 18ms/step - loss: 0.7195 - accuracy: 0.7329 - val_loss: 0.9932 - val_accuracy: 0.6460 - lr: 1.0000e-05\n",
            "Epoch 46/100\n",
            "898/898 [==============================] - 16s 18ms/step - loss: 0.7251 - accuracy: 0.7292 - val_loss: 0.9966 - val_accuracy: 0.6452 - lr: 1.0000e-05\n",
            "Epoch 47/100\n",
            "898/898 [==============================] - 16s 18ms/step - loss: 0.7207 - accuracy: 0.7326 - val_loss: 0.9911 - val_accuracy: 0.6488 - lr: 1.0000e-05\n",
            "Epoch 48/100\n",
            "898/898 [==============================] - 16s 18ms/step - loss: 0.7087 - accuracy: 0.7357 - val_loss: 0.9937 - val_accuracy: 0.6481 - lr: 1.0000e-05\n",
            "Epoch 49/100\n",
            "898/898 [==============================] - 16s 18ms/step - loss: 0.7155 - accuracy: 0.7318 - val_loss: 0.9952 - val_accuracy: 0.6488 - lr: 1.0000e-05\n",
            "Epoch 50/100\n",
            "898/898 [==============================] - 16s 18ms/step - loss: 0.7119 - accuracy: 0.7354 - val_loss: 0.9980 - val_accuracy: 0.6484 - lr: 1.0000e-05\n",
            "Epoch 51/100\n",
            "898/898 [==============================] - 16s 18ms/step - loss: 0.7092 - accuracy: 0.7345 - val_loss: 0.9943 - val_accuracy: 0.6467 - lr: 1.0000e-05\n",
            "Epoch 52/100\n",
            "898/898 [==============================] - 16s 18ms/step - loss: 0.7018 - accuracy: 0.7405 - val_loss: 0.9976 - val_accuracy: 0.6475 - lr: 1.0000e-05\n",
            "Epoch 53/100\n",
            "898/898 [==============================] - 16s 18ms/step - loss: 0.7080 - accuracy: 0.7348 - val_loss: 0.9952 - val_accuracy: 0.6482 - lr: 1.0000e-05\n",
            "Epoch 54/100\n",
            "898/898 [==============================] - 16s 18ms/step - loss: 0.7021 - accuracy: 0.7403 - val_loss: 0.9951 - val_accuracy: 0.6478 - lr: 1.0000e-05\n",
            "Epoch 55/100\n",
            "898/898 [==============================] - 19s 21ms/step - loss: 0.6969 - accuracy: 0.7384 - val_loss: 0.9996 - val_accuracy: 0.6485 - lr: 1.0000e-05\n",
            "Epoch 56/100\n",
            "898/898 [==============================] - 16s 18ms/step - loss: 0.6922 - accuracy: 0.7411 - val_loss: 0.9997 - val_accuracy: 0.6484 - lr: 1.0000e-05\n",
            "Epoch 57/100\n",
            "898/898 [==============================] - 16s 18ms/step - loss: 0.6958 - accuracy: 0.7424 - val_loss: 1.0021 - val_accuracy: 0.6492 - lr: 1.0000e-05\n",
            "Epoch 58/100\n",
            "898/898 [==============================] - 17s 18ms/step - loss: 0.6972 - accuracy: 0.7402 - val_loss: 0.9972 - val_accuracy: 0.6502 - lr: 1.0000e-05\n",
            "Epoch 59/100\n",
            "898/898 [==============================] - 16s 18ms/step - loss: 0.6908 - accuracy: 0.7394 - val_loss: 0.9962 - val_accuracy: 0.6503 - lr: 1.0000e-05\n",
            "Epoch 60/100\n",
            "898/898 [==============================] - 16s 18ms/step - loss: 0.6819 - accuracy: 0.7464 - val_loss: 1.0050 - val_accuracy: 0.6503 - lr: 1.0000e-05\n",
            "Epoch 61/100\n",
            "898/898 [==============================] - 17s 19ms/step - loss: 0.6806 - accuracy: 0.7473 - val_loss: 1.0008 - val_accuracy: 0.6500 - lr: 1.0000e-05\n",
            "Epoch 62/100\n",
            "898/898 [==============================] - 16s 18ms/step - loss: 0.6807 - accuracy: 0.7466 - val_loss: 1.0019 - val_accuracy: 0.6531 - lr: 1.0000e-05\n",
            "Epoch 63/100\n",
            "898/898 [==============================] - 17s 19ms/step - loss: 0.6799 - accuracy: 0.7483 - val_loss: 1.0035 - val_accuracy: 0.6506 - lr: 1.0000e-05\n",
            "Epoch 64/100\n",
            "898/898 [==============================] - 17s 19ms/step - loss: 0.6741 - accuracy: 0.7499 - val_loss: 1.0041 - val_accuracy: 0.6514 - lr: 1.0000e-05\n",
            "Epoch 65/100\n",
            "898/898 [==============================] - 18s 20ms/step - loss: 0.6674 - accuracy: 0.7494 - val_loss: 1.0044 - val_accuracy: 0.6520 - lr: 1.0000e-05\n",
            "Epoch 66/100\n",
            "898/898 [==============================] - 17s 19ms/step - loss: 0.6697 - accuracy: 0.7513 - val_loss: 1.0022 - val_accuracy: 0.6509 - lr: 1.0000e-05\n",
            "Epoch 67/100\n",
            "898/898 [==============================] - 16s 18ms/step - loss: 0.6634 - accuracy: 0.7524 - val_loss: 1.0026 - val_accuracy: 0.6506 - lr: 1.0000e-05\n",
            "Epoch 68/100\n",
            "898/898 [==============================] - 16s 18ms/step - loss: 0.6626 - accuracy: 0.7546 - val_loss: 1.0062 - val_accuracy: 0.6509 - lr: 1.0000e-05\n",
            "Epoch 69/100\n",
            "898/898 [==============================] - 16s 18ms/step - loss: 0.6630 - accuracy: 0.7530 - val_loss: 1.0060 - val_accuracy: 0.6489 - lr: 1.0000e-05\n",
            "Epoch 70/100\n",
            "898/898 [==============================] - 16s 18ms/step - loss: 0.6535 - accuracy: 0.7565 - val_loss: 1.0132 - val_accuracy: 0.6513 - lr: 1.0000e-05\n",
            "Epoch 71/100\n",
            "898/898 [==============================] - 17s 19ms/step - loss: 0.6598 - accuracy: 0.7555 - val_loss: 1.0083 - val_accuracy: 0.6520 - lr: 1.0000e-05\n",
            "Epoch 72/100\n",
            "898/898 [==============================] - 16s 18ms/step - loss: 0.6530 - accuracy: 0.7574 - val_loss: 1.0090 - val_accuracy: 0.6512 - lr: 1.0000e-05\n",
            "Epoch 73/100\n",
            "898/898 [==============================] - 16s 18ms/step - loss: 0.6545 - accuracy: 0.7545 - val_loss: 1.0153 - val_accuracy: 0.6535 - lr: 1.0000e-05\n",
            "Epoch 74/100\n",
            "898/898 [==============================] - 16s 18ms/step - loss: 0.6464 - accuracy: 0.7605 - val_loss: 1.0090 - val_accuracy: 0.6513 - lr: 1.0000e-05\n",
            "Epoch 75/100\n",
            "898/898 [==============================] - 16s 18ms/step - loss: 0.6500 - accuracy: 0.7585 - val_loss: 1.0094 - val_accuracy: 0.6535 - lr: 1.0000e-05\n",
            "Epoch 76/100\n",
            "898/898 [==============================] - 16s 18ms/step - loss: 0.6460 - accuracy: 0.7565 - val_loss: 1.0167 - val_accuracy: 0.6546 - lr: 1.0000e-05\n",
            "Epoch 77/100\n",
            "898/898 [==============================] - 16s 18ms/step - loss: 0.6488 - accuracy: 0.7589 - val_loss: 1.0121 - val_accuracy: 0.6542 - lr: 1.0000e-05\n",
            "Epoch 78/100\n",
            "898/898 [==============================] - 16s 18ms/step - loss: 0.6337 - accuracy: 0.7645 - val_loss: 1.0120 - val_accuracy: 0.6542 - lr: 1.0000e-05\n",
            "Epoch 79/100\n",
            "898/898 [==============================] - 16s 18ms/step - loss: 0.6367 - accuracy: 0.7605 - val_loss: 1.0126 - val_accuracy: 0.6541 - lr: 1.0000e-05\n",
            "Epoch 80/100\n",
            "898/898 [==============================] - 16s 18ms/step - loss: 0.6315 - accuracy: 0.7649 - val_loss: 1.0228 - val_accuracy: 0.6545 - lr: 1.0000e-05\n",
            "Epoch 81/100\n",
            "898/898 [==============================] - 16s 18ms/step - loss: 0.6391 - accuracy: 0.7633 - val_loss: 1.0152 - val_accuracy: 0.6551 - lr: 1.0000e-05\n",
            "Epoch 82/100\n",
            "898/898 [==============================] - 16s 18ms/step - loss: 0.6289 - accuracy: 0.7658 - val_loss: 1.0238 - val_accuracy: 0.6516 - lr: 1.0000e-05\n",
            "Epoch 83/100\n",
            "898/898 [==============================] - 16s 18ms/step - loss: 0.6267 - accuracy: 0.7650 - val_loss: 1.0169 - val_accuracy: 0.6545 - lr: 1.0000e-05\n",
            "Epoch 84/100\n",
            "898/898 [==============================] - 16s 18ms/step - loss: 0.6243 - accuracy: 0.7662 - val_loss: 1.0221 - val_accuracy: 0.6539 - lr: 1.0000e-05\n",
            "Epoch 85/100\n",
            "898/898 [==============================] - 16s 18ms/step - loss: 0.6290 - accuracy: 0.7641 - val_loss: 1.0171 - val_accuracy: 0.6551 - lr: 1.0000e-05\n",
            "Epoch 86/100\n",
            "898/898 [==============================] - 16s 18ms/step - loss: 0.6205 - accuracy: 0.7712 - val_loss: 1.0230 - val_accuracy: 0.6528 - lr: 1.0000e-05\n",
            "Epoch 87/100\n",
            "898/898 [==============================] - 16s 18ms/step - loss: 0.6173 - accuracy: 0.7706 - val_loss: 1.0210 - val_accuracy: 0.6538 - lr: 1.0000e-05\n",
            "Epoch 88/100\n",
            "898/898 [==============================] - 16s 18ms/step - loss: 0.6165 - accuracy: 0.7715 - val_loss: 1.0184 - val_accuracy: 0.6537 - lr: 1.0000e-05\n",
            "Epoch 89/100\n",
            "898/898 [==============================] - 16s 18ms/step - loss: 0.6086 - accuracy: 0.7742 - val_loss: 1.0317 - val_accuracy: 0.6517 - lr: 1.0000e-05\n",
            "Epoch 90/100\n",
            "898/898 [==============================] - 16s 18ms/step - loss: 0.6061 - accuracy: 0.7754 - val_loss: 1.0199 - val_accuracy: 0.6539 - lr: 1.0000e-05\n",
            "Epoch 91/100\n",
            "898/898 [==============================] - 16s 18ms/step - loss: 0.6122 - accuracy: 0.7723 - val_loss: 1.0271 - val_accuracy: 0.6532 - lr: 1.0000e-05\n",
            "Epoch 92/100\n",
            "898/898 [==============================] - 16s 18ms/step - loss: 0.6070 - accuracy: 0.7734 - val_loss: 1.0313 - val_accuracy: 0.6531 - lr: 1.0000e-05\n",
            "Epoch 93/100\n",
            "898/898 [==============================] - 16s 18ms/step - loss: 0.6109 - accuracy: 0.7727 - val_loss: 1.0225 - val_accuracy: 0.6562 - lr: 1.0000e-05\n",
            "Epoch 94/100\n",
            "898/898 [==============================] - 16s 18ms/step - loss: 0.5997 - accuracy: 0.7771 - val_loss: 1.0302 - val_accuracy: 0.6559 - lr: 1.0000e-05\n",
            "Epoch 95/100\n",
            "898/898 [==============================] - 16s 18ms/step - loss: 0.6002 - accuracy: 0.7790 - val_loss: 1.0267 - val_accuracy: 0.6555 - lr: 1.0000e-05\n",
            "Epoch 96/100\n",
            "898/898 [==============================] - 16s 18ms/step - loss: 0.5963 - accuracy: 0.7795 - val_loss: 1.0282 - val_accuracy: 0.6559 - lr: 1.0000e-05\n",
            "Epoch 97/100\n",
            "898/898 [==============================] - 16s 18ms/step - loss: 0.5951 - accuracy: 0.7804 - val_loss: 1.0347 - val_accuracy: 0.6566 - lr: 1.0000e-05\n",
            "Epoch 98/100\n",
            "898/898 [==============================] - 16s 18ms/step - loss: 0.5887 - accuracy: 0.7812 - val_loss: 1.0309 - val_accuracy: 0.6592 - lr: 1.0000e-05\n",
            "Epoch 99/100\n",
            "898/898 [==============================] - 16s 18ms/step - loss: 0.5886 - accuracy: 0.7822 - val_loss: 1.0351 - val_accuracy: 0.6555 - lr: 1.0000e-05\n",
            "Epoch 100/100\n",
            "898/898 [==============================] - 16s 18ms/step - loss: 0.5953 - accuracy: 0.7786 - val_loss: 1.0372 - val_accuracy: 0.6560 - lr: 1.0000e-05\n"
          ]
        }
      ]
    },
    {
      "cell_type": "code",
      "source": [
        "train_loss, train_acc = model4.evaluate(x,y)\n",
        "test_loss, test_acc   = model4.evaluate(xte,yte)\n",
        "print(\"final train accuracy = {:.2f} , validation accuracy = {:.2f}\".format(train_acc*100, test_acc*100))"
      ],
      "metadata": {
        "colab": {
          "base_uri": "https://localhost:8080/"
        },
        "id": "jsPYLdSRl7pk",
        "outputId": "05ffdc21-7f64-4260-a372-e6001cdc8106"
      },
      "execution_count": null,
      "outputs": [
        {
          "output_type": "stream",
          "name": "stdout",
          "text": [
            "898/898 [==============================] - 5s 6ms/step - loss: 0.2882 - accuracy: 0.9147\n",
            "225/225 [==============================] - 1s 6ms/step - loss: 1.0372 - accuracy: 0.6560\n",
            "final train accuracy = 91.47 , validation accuracy = 65.60\n"
          ]
        }
      ]
    },
    {
      "cell_type": "markdown",
      "source": [
        "#Model5"
      ],
      "metadata": {
        "id": "65k19riGVeSV"
      }
    },
    {
      "cell_type": "code",
      "source": [
        "model5 = Sequential()\n",
        "\n",
        "# 1. Conv\n",
        "model5.add(Conv2D(64, (3, 3), padding='same', input_shape=(48,48,1)))\n",
        "model5.add(BatchNormalization())\n",
        "model5.add(Activation('relu'))\n",
        "model5.add(MaxPooling2D(pool_size=(2,2)))\n",
        "model5.add(Dropout(0.25))\n",
        "\n",
        "\n",
        "# 2. Conv Layer\n",
        "model5.add(Conv2D(128, (5, 5), padding='same'))\n",
        "model5.add(BatchNormalization())\n",
        "model5.add(Activation('relu'))\n",
        "model5.add(MaxPooling2D(pool_size=(2,2)))\n",
        "model5.add(Dropout(0.25))\n",
        "\n",
        "# 3. Conv Layer\n",
        "model5.add(Conv2D(512, (3,3), padding='same'))\n",
        "model5.add(BatchNormalization())\n",
        "model5.add(Activation('relu'))\n",
        "model5.add(MaxPooling2D(pool_size=(2,2)))\n",
        "model5.add(Dropout(0.25))\n",
        "\n",
        "#4. Conv Layer\n",
        "model5.add(Conv2D(512, (3,3), padding='same'))\n",
        "model5.add(BatchNormalization())\n",
        "model5.add(Activation('relu'))\n",
        "model5.add(MaxPooling2D(pool_size=(2,2)))\n",
        "model5.add(Dropout(0.25))\n",
        "\n",
        "model5.add(Flatten())\n",
        "model5.add(Dense(256))\n",
        "model5.add(BatchNormalization())\n",
        "model5.add(Activation('relu'))\n",
        "model5.add(Dropout(0.25))\n",
        "\n",
        "model5.add(Dense(512))\n",
        "model5.add(BatchNormalization())\n",
        "model5.add(Activation('relu'))\n",
        "model5.add(Dropout(0.25))\n",
        "\n",
        "model5.add(Dense(7, activation='softmax'))\n",
        "model5.compile(optimizer=Adam(lr=0.0005), loss='sparse_categorical_crossentropy', metrics=['accuracy'])\n",
        "model5.summary()"
      ],
      "metadata": {
        "colab": {
          "base_uri": "https://localhost:8080/"
        },
        "id": "TII7fz6UVkNq",
        "outputId": "0519cbb1-97c7-40ac-e02e-2bd14b2451ed"
      },
      "execution_count": null,
      "outputs": [
        {
          "output_type": "stream",
          "name": "stdout",
          "text": [
            "Model: \"sequential_4\"\n",
            "_________________________________________________________________\n",
            " Layer (type)                Output Shape              Param #   \n",
            "=================================================================\n",
            " conv2d_17 (Conv2D)          (None, 48, 48, 64)        640       \n",
            "                                                                 \n",
            " batch_normalization_21 (Bat  (None, 48, 48, 64)       256       \n",
            " chNormalization)                                                \n",
            "                                                                 \n",
            " activation_6 (Activation)   (None, 48, 48, 64)        0         \n",
            "                                                                 \n",
            " max_pooling2d_14 (MaxPoolin  (None, 24, 24, 64)       0         \n",
            " g2D)                                                            \n",
            "                                                                 \n",
            " dropout_23 (Dropout)        (None, 24, 24, 64)        0         \n",
            "                                                                 \n",
            " conv2d_18 (Conv2D)          (None, 24, 24, 128)       204928    \n",
            "                                                                 \n",
            " batch_normalization_22 (Bat  (None, 24, 24, 128)      512       \n",
            " chNormalization)                                                \n",
            "                                                                 \n",
            " activation_7 (Activation)   (None, 24, 24, 128)       0         \n",
            "                                                                 \n",
            " max_pooling2d_15 (MaxPoolin  (None, 12, 12, 128)      0         \n",
            " g2D)                                                            \n",
            "                                                                 \n",
            " dropout_24 (Dropout)        (None, 12, 12, 128)       0         \n",
            "                                                                 \n",
            " conv2d_19 (Conv2D)          (None, 12, 12, 512)       590336    \n",
            "                                                                 \n",
            " batch_normalization_23 (Bat  (None, 12, 12, 512)      2048      \n",
            " chNormalization)                                                \n",
            "                                                                 \n",
            " activation_8 (Activation)   (None, 12, 12, 512)       0         \n",
            "                                                                 \n",
            " max_pooling2d_16 (MaxPoolin  (None, 6, 6, 512)        0         \n",
            " g2D)                                                            \n",
            "                                                                 \n",
            " dropout_25 (Dropout)        (None, 6, 6, 512)         0         \n",
            "                                                                 \n",
            " conv2d_20 (Conv2D)          (None, 6, 6, 512)         2359808   \n",
            "                                                                 \n",
            " batch_normalization_24 (Bat  (None, 6, 6, 512)        2048      \n",
            " chNormalization)                                                \n",
            "                                                                 \n",
            " activation_9 (Activation)   (None, 6, 6, 512)         0         \n",
            "                                                                 \n",
            " max_pooling2d_17 (MaxPoolin  (None, 3, 3, 512)        0         \n",
            " g2D)                                                            \n",
            "                                                                 \n",
            " dropout_26 (Dropout)        (None, 3, 3, 512)         0         \n",
            "                                                                 \n",
            " flatten_5 (Flatten)         (None, 4608)              0         \n",
            "                                                                 \n",
            " dense_9 (Dense)             (None, 256)               1179904   \n",
            "                                                                 \n",
            " batch_normalization_25 (Bat  (None, 256)              1024      \n",
            " chNormalization)                                                \n",
            "                                                                 \n",
            " activation_10 (Activation)  (None, 256)               0         \n",
            "                                                                 \n",
            " dropout_27 (Dropout)        (None, 256)               0         \n",
            "                                                                 \n",
            " dense_10 (Dense)            (None, 512)               131584    \n",
            "                                                                 \n",
            " batch_normalization_26 (Bat  (None, 512)              2048      \n",
            " chNormalization)                                                \n",
            "                                                                 \n",
            " activation_11 (Activation)  (None, 512)               0         \n",
            "                                                                 \n",
            " dropout_28 (Dropout)        (None, 512)               0         \n",
            "                                                                 \n",
            " dense_11 (Dense)            (None, 7)                 3591      \n",
            "                                                                 \n",
            "=================================================================\n",
            "Total params: 4,478,727\n",
            "Trainable params: 4,474,759\n",
            "Non-trainable params: 3,968\n",
            "_________________________________________________________________\n"
          ]
        }
      ]
    },
    {
      "cell_type": "code",
      "source": [
        "early_stopping = EarlyStopping(monitor='val_loss', min_delta=0, patience=10, verbose=1)\n",
        "\n",
        "history5 = model5.fit(x,y,epochs=100,callbacks=[early_stopping],validation_data=(xte,yte))"
      ],
      "metadata": {
        "colab": {
          "base_uri": "https://localhost:8080/"
        },
        "id": "FkWggNdUon6l",
        "outputId": "31991ea6-a1f2-4fdd-b54f-bb6c87932f4e"
      },
      "execution_count": null,
      "outputs": [
        {
          "output_type": "stream",
          "name": "stdout",
          "text": [
            "Epoch 1/100\n",
            "898/898 [==============================] - 17s 18ms/step - loss: 1.8076 - accuracy: 0.3038 - val_loss: 1.5990 - val_accuracy: 0.3752\n",
            "Epoch 2/100\n",
            "898/898 [==============================] - 16s 18ms/step - loss: 1.4598 - accuracy: 0.4385 - val_loss: 1.3081 - val_accuracy: 0.4989\n",
            "Epoch 3/100\n",
            "898/898 [==============================] - 16s 18ms/step - loss: 1.2979 - accuracy: 0.5031 - val_loss: 1.2654 - val_accuracy: 0.5082\n",
            "Epoch 4/100\n",
            "898/898 [==============================] - 16s 18ms/step - loss: 1.2114 - accuracy: 0.5400 - val_loss: 1.1748 - val_accuracy: 0.5557\n",
            "Epoch 5/100\n",
            "898/898 [==============================] - 16s 18ms/step - loss: 1.1462 - accuracy: 0.5652 - val_loss: 1.1941 - val_accuracy: 0.5488\n",
            "Epoch 6/100\n",
            "898/898 [==============================] - 16s 18ms/step - loss: 1.1041 - accuracy: 0.5784 - val_loss: 1.1267 - val_accuracy: 0.5766\n",
            "Epoch 7/100\n",
            "898/898 [==============================] - 16s 18ms/step - loss: 1.0587 - accuracy: 0.5970 - val_loss: 1.2200 - val_accuracy: 0.5515\n",
            "Epoch 8/100\n",
            "898/898 [==============================] - 16s 18ms/step - loss: 1.0108 - accuracy: 0.6207 - val_loss: 1.0759 - val_accuracy: 0.5949\n",
            "Epoch 9/100\n",
            "898/898 [==============================] - 16s 18ms/step - loss: 0.9665 - accuracy: 0.6346 - val_loss: 1.0660 - val_accuracy: 0.5968\n",
            "Epoch 10/100\n",
            "898/898 [==============================] - 16s 18ms/step - loss: 0.9243 - accuracy: 0.6511 - val_loss: 1.0619 - val_accuracy: 0.6053\n",
            "Epoch 11/100\n",
            "898/898 [==============================] - 16s 18ms/step - loss: 0.8828 - accuracy: 0.6690 - val_loss: 1.0853 - val_accuracy: 0.6070\n",
            "Epoch 12/100\n",
            "898/898 [==============================] - 16s 18ms/step - loss: 0.8403 - accuracy: 0.6850 - val_loss: 1.0864 - val_accuracy: 0.6089\n",
            "Epoch 13/100\n",
            "898/898 [==============================] - 16s 18ms/step - loss: 0.7985 - accuracy: 0.7038 - val_loss: 1.0296 - val_accuracy: 0.6262\n",
            "Epoch 14/100\n",
            "898/898 [==============================] - 16s 18ms/step - loss: 0.7582 - accuracy: 0.7210 - val_loss: 1.0506 - val_accuracy: 0.6287\n",
            "Epoch 15/100\n",
            "898/898 [==============================] - 16s 18ms/step - loss: 0.7153 - accuracy: 0.7325 - val_loss: 1.1509 - val_accuracy: 0.6109\n",
            "Epoch 16/100\n",
            "898/898 [==============================] - 16s 18ms/step - loss: 0.6771 - accuracy: 0.7509 - val_loss: 1.2951 - val_accuracy: 0.5658\n",
            "Epoch 17/100\n",
            "898/898 [==============================] - 16s 18ms/step - loss: 0.6479 - accuracy: 0.7593 - val_loss: 1.1209 - val_accuracy: 0.6181\n",
            "Epoch 18/100\n",
            "898/898 [==============================] - 16s 18ms/step - loss: 0.5979 - accuracy: 0.7775 - val_loss: 1.1587 - val_accuracy: 0.6322\n",
            "Epoch 19/100\n",
            "898/898 [==============================] - 16s 18ms/step - loss: 0.5646 - accuracy: 0.7901 - val_loss: 1.1169 - val_accuracy: 0.6415\n",
            "Epoch 20/100\n",
            "898/898 [==============================] - 18s 21ms/step - loss: 0.5302 - accuracy: 0.8054 - val_loss: 1.1666 - val_accuracy: 0.6261\n",
            "Epoch 21/100\n",
            "898/898 [==============================] - 17s 19ms/step - loss: 0.4975 - accuracy: 0.8167 - val_loss: 1.3973 - val_accuracy: 0.5861\n",
            "Epoch 22/100\n",
            "898/898 [==============================] - 17s 19ms/step - loss: 0.4777 - accuracy: 0.8253 - val_loss: 1.3209 - val_accuracy: 0.6245\n",
            "Epoch 23/100\n",
            "898/898 [==============================] - 19s 21ms/step - loss: 0.4392 - accuracy: 0.8387 - val_loss: 1.2402 - val_accuracy: 0.6383\n",
            "Epoch 23: early stopping\n"
          ]
        }
      ]
    },
    {
      "cell_type": "code",
      "source": [
        "train_loss, train_acc = model5.evaluate(x,y)\n",
        "test_loss, test_acc   = model5.evaluate(xte,yte)\n",
        "print(\"final train accuracy = {:.2f} , validation accuracy = {:.2f}\".format(train_acc*100, test_acc*100))"
      ],
      "metadata": {
        "colab": {
          "base_uri": "https://localhost:8080/"
        },
        "id": "0dSOVeNjVj6X",
        "outputId": "cb044b55-e8f3-4247-99e5-735a6ebae026"
      },
      "execution_count": null,
      "outputs": [
        {
          "output_type": "stream",
          "name": "stdout",
          "text": [
            "898/898 [==============================] - 6s 7ms/step - loss: 0.1836 - accuracy: 0.9489\n",
            "225/225 [==============================] - 1s 6ms/step - loss: 1.2402 - accuracy: 0.6383\n",
            "final train accuracy = 94.89 , validation accuracy = 63.83\n"
          ]
        }
      ]
    },
    {
      "cell_type": "markdown",
      "source": [
        "#Model6"
      ],
      "metadata": {
        "id": "vsjiDnY1VhgP"
      }
    },
    {
      "cell_type": "code",
      "source": [
        "model6: keras.Model = keras.models.Sequential(\n",
        "    [\n",
        "     # Block 1\n",
        "     keras.layers.Conv2D(32, kernel_size=(3, 3), activation='relu',\n",
        "                         padding='same', input_shape=(48,48, 1)),\n",
        "     keras.layers.Conv2D(32, kernel_size=(3, 3), activation='relu',\n",
        "                         padding='same'),\n",
        "     keras.layers.MaxPooling2D(pool_size=(2, 2), strides=(2, 2)),\n",
        "     keras.layers.BatchNormalization(),\n",
        "\n",
        "     # Block 2\n",
        "     keras.layers.Conv2D(64, kernel_size=(3, 3), activation='relu',\n",
        "                         padding='same'),\n",
        "     keras.layers.Conv2D(64, kernel_size=(3, 3), activation='relu',\n",
        "                         padding='same'),\n",
        "     keras.layers.MaxPooling2D(pool_size=(2, 2), strides=(2, 2)),\n",
        "     keras.layers.BatchNormalization(),\n",
        "\n",
        "     # Block 3\n",
        "     keras.layers.Conv2D(128, kernel_size=(3, 3), activation='relu',\n",
        "                         padding='same'),\n",
        "     keras.layers.Conv2D(128, kernel_size=(3, 3), activation='relu',\n",
        "                         padding='same'),\n",
        "     keras.layers.MaxPooling2D(pool_size=(2, 2), strides=(2, 2)),\n",
        "     keras.layers.BatchNormalization(),\n",
        "\n",
        "     # Flattens the input for FC\n",
        "     keras.layers.Flatten(),\n",
        "\n",
        "     # fully connected layers\n",
        "     keras.layers.Dense(750, activation='relu'),\n",
        "     keras.layers.Dropout(0.5),\n",
        "     keras.layers.Dense(850, activation='relu'),\n",
        "     keras.layers.Dropout(0.5),\n",
        "     keras.layers.Dense(850, activation='relu'),\n",
        "     keras.layers.Dropout(0.5),\n",
        "     keras.layers.Dense(750, activation='relu'),\n",
        "     keras.layers.Dropout(0.5),\n",
        "\n",
        "     # classification layer\n",
        "     keras.layers.Dense(7, activation='softmax')\n",
        "    ]\n",
        ")\n",
        "model6.summary()"
      ],
      "metadata": {
        "colab": {
          "base_uri": "https://localhost:8080/"
        },
        "id": "oPiRUf02VjMB",
        "outputId": "ca791b81-dff4-4f96-9e81-fd2867ad4d33"
      },
      "execution_count": null,
      "outputs": [
        {
          "output_type": "stream",
          "name": "stdout",
          "text": [
            "Model: \"sequential_6\"\n",
            "_________________________________________________________________\n",
            " Layer (type)                Output Shape              Param #   \n",
            "=================================================================\n",
            " conv2d_27 (Conv2D)          (None, 48, 48, 32)        320       \n",
            "                                                                 \n",
            " conv2d_28 (Conv2D)          (None, 48, 48, 32)        9248      \n",
            "                                                                 \n",
            " max_pooling2d_21 (MaxPoolin  (None, 24, 24, 32)       0         \n",
            " g2D)                                                            \n",
            "                                                                 \n",
            " batch_normalization_30 (Bat  (None, 24, 24, 32)       128       \n",
            " chNormalization)                                                \n",
            "                                                                 \n",
            " conv2d_29 (Conv2D)          (None, 24, 24, 64)        18496     \n",
            "                                                                 \n",
            " conv2d_30 (Conv2D)          (None, 24, 24, 64)        36928     \n",
            "                                                                 \n",
            " max_pooling2d_22 (MaxPoolin  (None, 12, 12, 64)       0         \n",
            " g2D)                                                            \n",
            "                                                                 \n",
            " batch_normalization_31 (Bat  (None, 12, 12, 64)       256       \n",
            " chNormalization)                                                \n",
            "                                                                 \n",
            " conv2d_31 (Conv2D)          (None, 12, 12, 128)       73856     \n",
            "                                                                 \n",
            " conv2d_32 (Conv2D)          (None, 12, 12, 128)       147584    \n",
            "                                                                 \n",
            " max_pooling2d_23 (MaxPoolin  (None, 6, 6, 128)        0         \n",
            " g2D)                                                            \n",
            "                                                                 \n",
            " batch_normalization_32 (Bat  (None, 6, 6, 128)        512       \n",
            " chNormalization)                                                \n",
            "                                                                 \n",
            " flatten_7 (Flatten)         (None, 4608)              0         \n",
            "                                                                 \n",
            " dense_17 (Dense)            (None, 750)               3456750   \n",
            "                                                                 \n",
            " dropout_33 (Dropout)        (None, 750)               0         \n",
            "                                                                 \n",
            " dense_18 (Dense)            (None, 850)               638350    \n",
            "                                                                 \n",
            " dropout_34 (Dropout)        (None, 850)               0         \n",
            "                                                                 \n",
            " dense_19 (Dense)            (None, 850)               723350    \n",
            "                                                                 \n",
            " dropout_35 (Dropout)        (None, 850)               0         \n",
            "                                                                 \n",
            " dense_20 (Dense)            (None, 750)               638250    \n",
            "                                                                 \n",
            " dropout_36 (Dropout)        (None, 750)               0         \n",
            "                                                                 \n",
            " dense_21 (Dense)            (None, 7)                 5257      \n",
            "                                                                 \n",
            "=================================================================\n",
            "Total params: 5,749,285\n",
            "Trainable params: 5,748,837\n",
            "Non-trainable params: 448\n",
            "_________________________________________________________________\n"
          ]
        }
      ]
    },
    {
      "cell_type": "code",
      "source": [
        "model6.compile(optimizer=Adam(learning_rate=0.001), loss='sparse_categorical_crossentropy', metrics=['accuracy'])"
      ],
      "metadata": {
        "id": "s-cgAHOZrIRY"
      },
      "execution_count": null,
      "outputs": []
    },
    {
      "cell_type": "code",
      "source": [
        "early_stopping = EarlyStopping(monitor='val_loss', min_delta=0, patience=10, verbose=1)\n",
        "\n",
        "history6 = model6.fit(x,y,epochs=100,callbacks=[early_stopping],validation_data=(xte,yte))"
      ],
      "metadata": {
        "colab": {
          "base_uri": "https://localhost:8080/"
        },
        "id": "CncbsYhYrRtK",
        "outputId": "248a8e3a-4fbc-47a6-d335-b4922303dc40"
      },
      "execution_count": null,
      "outputs": [
        {
          "output_type": "stream",
          "name": "stdout",
          "text": [
            "Epoch 1/100\n",
            "898/898 [==============================] - 10s 10ms/step - loss: 1.8406 - accuracy: 0.2558 - val_loss: 1.6787 - val_accuracy: 0.3239\n",
            "Epoch 2/100\n",
            "898/898 [==============================] - 9s 10ms/step - loss: 1.5843 - accuracy: 0.3707 - val_loss: 1.6876 - val_accuracy: 0.3155\n",
            "Epoch 3/100\n",
            "898/898 [==============================] - 9s 10ms/step - loss: 1.4734 - accuracy: 0.4243 - val_loss: 1.4971 - val_accuracy: 0.4490\n",
            "Epoch 4/100\n",
            "898/898 [==============================] - 10s 11ms/step - loss: 1.3940 - accuracy: 0.4669 - val_loss: 1.4419 - val_accuracy: 0.4505\n",
            "Epoch 5/100\n",
            "898/898 [==============================] - 10s 11ms/step - loss: 1.3411 - accuracy: 0.4890 - val_loss: 1.2887 - val_accuracy: 0.4980\n",
            "Epoch 6/100\n",
            "898/898 [==============================] - 9s 10ms/step - loss: 1.3036 - accuracy: 0.5081 - val_loss: 1.4166 - val_accuracy: 0.4918\n",
            "Epoch 7/100\n",
            "898/898 [==============================] - 9s 10ms/step - loss: 1.2561 - accuracy: 0.5287 - val_loss: 1.3035 - val_accuracy: 0.5045\n",
            "Epoch 8/100\n",
            "898/898 [==============================] - 10s 11ms/step - loss: 1.2125 - accuracy: 0.5450 - val_loss: 1.2563 - val_accuracy: 0.5222\n",
            "Epoch 9/100\n",
            "898/898 [==============================] - 10s 11ms/step - loss: 1.1639 - accuracy: 0.5636 - val_loss: 1.2203 - val_accuracy: 0.5301\n",
            "Epoch 10/100\n",
            "898/898 [==============================] - 9s 10ms/step - loss: 1.1186 - accuracy: 0.5847 - val_loss: 1.2146 - val_accuracy: 0.5461\n",
            "Epoch 11/100\n",
            "898/898 [==============================] - 11s 12ms/step - loss: 1.0826 - accuracy: 0.6019 - val_loss: 1.1825 - val_accuracy: 0.5621\n",
            "Epoch 12/100\n",
            "898/898 [==============================] - 11s 13ms/step - loss: 1.0358 - accuracy: 0.6228 - val_loss: 1.1996 - val_accuracy: 0.5548\n",
            "Epoch 13/100\n",
            "898/898 [==============================] - 10s 12ms/step - loss: 0.9845 - accuracy: 0.6423 - val_loss: 1.2190 - val_accuracy: 0.5479\n",
            "Epoch 14/100\n",
            "898/898 [==============================] - 9s 10ms/step - loss: 0.9400 - accuracy: 0.6580 - val_loss: 1.1554 - val_accuracy: 0.5701\n",
            "Epoch 15/100\n",
            "898/898 [==============================] - 10s 11ms/step - loss: 0.8844 - accuracy: 0.6787 - val_loss: 1.1965 - val_accuracy: 0.5744\n",
            "Epoch 16/100\n",
            "898/898 [==============================] - 9s 10ms/step - loss: 0.8446 - accuracy: 0.6973 - val_loss: 1.1746 - val_accuracy: 0.5717\n",
            "Epoch 17/100\n",
            "898/898 [==============================] - 10s 11ms/step - loss: 0.7904 - accuracy: 0.7164 - val_loss: 1.1400 - val_accuracy: 0.5936\n",
            "Epoch 18/100\n",
            "898/898 [==============================] - 9s 10ms/step - loss: 0.7531 - accuracy: 0.7328 - val_loss: 1.1836 - val_accuracy: 0.5829\n",
            "Epoch 19/100\n",
            "898/898 [==============================] - 10s 11ms/step - loss: 0.7271 - accuracy: 0.7447 - val_loss: 1.2090 - val_accuracy: 0.5808\n",
            "Epoch 20/100\n",
            "898/898 [==============================] - 13s 14ms/step - loss: 0.7186 - accuracy: 0.7489 - val_loss: 1.1642 - val_accuracy: 0.5882\n",
            "Epoch 21/100\n",
            "898/898 [==============================] - 10s 11ms/step - loss: 0.6641 - accuracy: 0.7706 - val_loss: 1.1875 - val_accuracy: 0.5893\n",
            "Epoch 22/100\n",
            "898/898 [==============================] - 10s 11ms/step - loss: 0.6464 - accuracy: 0.7804 - val_loss: 1.2962 - val_accuracy: 0.5624\n",
            "Epoch 23/100\n",
            "898/898 [==============================] - 10s 11ms/step - loss: 0.6109 - accuracy: 0.7911 - val_loss: 1.2633 - val_accuracy: 0.5893\n",
            "Epoch 24/100\n",
            "898/898 [==============================] - 11s 12ms/step - loss: 0.5704 - accuracy: 0.8075 - val_loss: 1.2965 - val_accuracy: 0.5836\n",
            "Epoch 25/100\n",
            "898/898 [==============================] - 10s 11ms/step - loss: 0.5481 - accuracy: 0.8153 - val_loss: 1.2688 - val_accuracy: 0.5939\n",
            "Epoch 26/100\n",
            "898/898 [==============================] - 11s 12ms/step - loss: 0.5341 - accuracy: 0.8234 - val_loss: 1.3193 - val_accuracy: 0.5929\n",
            "Epoch 27/100\n",
            "898/898 [==============================] - 12s 13ms/step - loss: 0.5079 - accuracy: 0.8310 - val_loss: 1.2647 - val_accuracy: 0.5841\n",
            "Epoch 27: early stopping\n"
          ]
        }
      ]
    },
    {
      "cell_type": "code",
      "source": [
        "train_loss, train_acc = model6.evaluate(x,y)\n",
        "test_loss, test_acc   = model6.evaluate(xte,yte)\n",
        "print(\"final train accuracy = {:.2f} , validation accuracy = {:.2f}\".format(train_acc*100, test_acc*100))"
      ],
      "metadata": {
        "colab": {
          "base_uri": "https://localhost:8080/"
        },
        "id": "GB83TF-ezf-i",
        "outputId": "7047b9a6-7c3e-4dd5-8bc5-11fb52153876"
      },
      "execution_count": null,
      "outputs": [
        {
          "output_type": "stream",
          "name": "stdout",
          "text": [
            "898/898 [==============================] - 5s 5ms/step - loss: 0.3453 - accuracy: 0.9103\n",
            "225/225 [==============================] - 1s 4ms/step - loss: 1.2647 - accuracy: 0.5841\n",
            "final train accuracy = 91.03 , validation accuracy = 58.41\n"
          ]
        }
      ]
    },
    {
      "cell_type": "markdown",
      "source": [
        "#Model7"
      ],
      "metadata": {
        "id": "zoyn_pzNsHYY"
      }
    },
    {
      "cell_type": "code",
      "source": [
        "from keras.layers import Convolution2D, Activation, BatchNormalization, MaxPooling2D, Dropout, Dense, Flatten\n",
        "from keras.models import Sequential"
      ],
      "metadata": {
        "id": "mRHfjEAtuekO"
      },
      "execution_count": null,
      "outputs": []
    },
    {
      "cell_type": "code",
      "source": [
        "def get_model1():\n",
        "  model = Sequential()\n",
        "\n",
        "  model.add(Convolution2D(64, (3, 3), padding='same', input_shape=(48,48,1)))\n",
        "  model.add(BatchNormalization())\n",
        "  model.add(Activation('relu'))\n",
        "  model.add(MaxPooling2D(pool_size=(2, 2), strides=None, padding='same'))\n",
        "  model.add(Dropout(0.25))\n",
        "\n",
        "  model.add(Convolution2D(128, (3, 3), padding='same'))\n",
        "  model.add(BatchNormalization())\n",
        "  model.add(Activation('relu'))\n",
        "  model.add(MaxPooling2D(pool_size=(2, 2), strides=None, padding='same'))\n",
        "  model.add(Dropout(0.25))\n",
        "\n",
        "  model.add(Convolution2D(256, (3, 3), padding='same'))\n",
        "  model.add(BatchNormalization())\n",
        "  model.add(Activation('relu'))\n",
        "  model.add(MaxPooling2D(pool_size=(2, 2), strides=None, padding='same'))\n",
        "  model.add(Dropout(0.25))\n",
        "\n",
        "  model.add(Convolution2D(512, (3, 3), padding='same'))\n",
        "  model.add(BatchNormalization())\n",
        "  model.add(Activation('relu'))\n",
        "  model.add(MaxPooling2D(pool_size=(2, 2), strides=None, padding='same'))\n",
        "  model.add(Dropout(0.25))\n",
        "\n",
        "  model.add(Flatten())\n",
        "\n",
        "  model.add(Dense(512))\n",
        "  model.add(BatchNormalization())\n",
        "  model.add(Activation('relu'))\n",
        "  model.add(Dropout(0.25))\n",
        "\n",
        "  model.add(Dense(256))\n",
        "  model.add(BatchNormalization())\n",
        "  model.add(Activation('relu'))\n",
        "  model.add(Dropout(0.25))\n",
        "\n",
        "  model.add(Dense(7))\n",
        "  model.add(Activation('softmax'))\n",
        "\n",
        "  return model\n"
      ],
      "metadata": {
        "id": "AspdS0v8sKpf"
      },
      "execution_count": null,
      "outputs": []
    },
    {
      "cell_type": "code",
      "source": [
        "model7 = get_model1()"
      ],
      "metadata": {
        "id": "6J3Kim7nuZ08"
      },
      "execution_count": null,
      "outputs": []
    },
    {
      "cell_type": "code",
      "source": [
        "model7.compile(optimizer=Adam(learning_rate=0.001), loss='sparse_categorical_crossentropy', metrics=['accuracy'])"
      ],
      "metadata": {
        "id": "kJt_hm5F2J8T"
      },
      "execution_count": null,
      "outputs": []
    },
    {
      "cell_type": "code",
      "source": [
        "reduce_lr = ReduceLROnPlateau(monitor='val_loss', factor=0.1, patience=10, verbose=0, mode='auto', min_delta=0.0001, cooldown=0, min_lr=0)\n",
        "\n",
        "early_stopping = EarlyStopping(monitor='val_loss', min_delta=0, patience=10, verbose=1)\n",
        "\n",
        "history7 = model7.fit(x,y,epochs=100,callbacks=[early_stopping],validation_data=(xte,yte))"
      ],
      "metadata": {
        "colab": {
          "base_uri": "https://localhost:8080/"
        },
        "id": "1Shygzorye-9",
        "outputId": "81e96458-17b5-40e8-8eb0-9fa0570eb60d"
      },
      "execution_count": null,
      "outputs": [
        {
          "output_type": "stream",
          "name": "stdout",
          "text": [
            "Epoch 1/100\n",
            "898/898 [==============================] - 14s 14ms/step - loss: 1.6755 - accuracy: 0.3523 - val_loss: 1.3994 - val_accuracy: 0.4606\n",
            "Epoch 2/100\n",
            "898/898 [==============================] - 13s 14ms/step - loss: 1.3406 - accuracy: 0.4859 - val_loss: 1.2346 - val_accuracy: 0.5254\n",
            "Epoch 3/100\n",
            "898/898 [==============================] - 14s 16ms/step - loss: 1.2424 - accuracy: 0.5281 - val_loss: 1.1980 - val_accuracy: 0.5401\n",
            "Epoch 4/100\n",
            "898/898 [==============================] - 13s 15ms/step - loss: 1.1749 - accuracy: 0.5533 - val_loss: 1.4018 - val_accuracy: 0.4759\n",
            "Epoch 5/100\n",
            "898/898 [==============================] - 12s 14ms/step - loss: 1.1274 - accuracy: 0.5754 - val_loss: 1.1754 - val_accuracy: 0.5536\n",
            "Epoch 6/100\n",
            "898/898 [==============================] - 12s 13ms/step - loss: 1.0775 - accuracy: 0.5923 - val_loss: 1.4036 - val_accuracy: 0.4544\n",
            "Epoch 7/100\n",
            "898/898 [==============================] - 13s 14ms/step - loss: 1.0290 - accuracy: 0.6134 - val_loss: 1.1219 - val_accuracy: 0.5688\n",
            "Epoch 8/100\n",
            "898/898 [==============================] - 15s 16ms/step - loss: 0.9823 - accuracy: 0.6279 - val_loss: 1.1054 - val_accuracy: 0.5843\n",
            "Epoch 9/100\n",
            "898/898 [==============================] - 14s 16ms/step - loss: 0.9391 - accuracy: 0.6471 - val_loss: 1.1809 - val_accuracy: 0.5536\n",
            "Epoch 10/100\n",
            "898/898 [==============================] - 14s 15ms/step - loss: 0.8924 - accuracy: 0.6661 - val_loss: 1.1741 - val_accuracy: 0.5798\n",
            "Epoch 11/100\n",
            "898/898 [==============================] - 14s 16ms/step - loss: 0.8405 - accuracy: 0.6835 - val_loss: 1.0362 - val_accuracy: 0.6230\n",
            "Epoch 12/100\n",
            "898/898 [==============================] - 13s 15ms/step - loss: 0.7968 - accuracy: 0.7064 - val_loss: 1.1520 - val_accuracy: 0.5839\n",
            "Epoch 13/100\n",
            "898/898 [==============================] - 12s 13ms/step - loss: 0.7449 - accuracy: 0.7233 - val_loss: 1.0743 - val_accuracy: 0.6155\n",
            "Epoch 14/100\n",
            "898/898 [==============================] - 12s 14ms/step - loss: 0.7059 - accuracy: 0.7351 - val_loss: 1.1014 - val_accuracy: 0.6181\n",
            "Epoch 15/100\n",
            "898/898 [==============================] - 12s 13ms/step - loss: 0.6602 - accuracy: 0.7557 - val_loss: 1.1801 - val_accuracy: 0.5950\n",
            "Epoch 16/100\n",
            "898/898 [==============================] - 12s 14ms/step - loss: 0.6249 - accuracy: 0.7681 - val_loss: 1.2321 - val_accuracy: 0.6000\n",
            "Epoch 17/100\n",
            "898/898 [==============================] - 12s 14ms/step - loss: 0.5919 - accuracy: 0.7849 - val_loss: 1.1015 - val_accuracy: 0.6293\n",
            "Epoch 18/100\n",
            "898/898 [==============================] - 12s 14ms/step - loss: 0.5522 - accuracy: 0.7967 - val_loss: 1.1263 - val_accuracy: 0.6294\n",
            "Epoch 19/100\n",
            "898/898 [==============================] - 12s 14ms/step - loss: 0.5224 - accuracy: 0.8079 - val_loss: 1.2102 - val_accuracy: 0.6232\n",
            "Epoch 20/100\n",
            "898/898 [==============================] - 12s 14ms/step - loss: 0.4910 - accuracy: 0.8192 - val_loss: 1.2774 - val_accuracy: 0.6211\n",
            "Epoch 21/100\n",
            "898/898 [==============================] - 13s 14ms/step - loss: 0.4652 - accuracy: 0.8285 - val_loss: 1.2492 - val_accuracy: 0.6335\n",
            "Epoch 21: early stopping\n"
          ]
        }
      ]
    },
    {
      "cell_type": "code",
      "source": [
        "train_loss, train_acc = model7.evaluate(x,y)\n",
        "test_loss, test_acc   = model7.evaluate(xte,yte)\n",
        "print(\"final train accuracy = {:.2f} , validation accuracy = {:.2f}\".format(train_acc*100, test_acc*100))"
      ],
      "metadata": {
        "colab": {
          "base_uri": "https://localhost:8080/"
        },
        "id": "QoN2K1rr2jTB",
        "outputId": "7918e052-fe40-4831-d72c-00cf567e2837"
      },
      "execution_count": null,
      "outputs": [
        {
          "output_type": "stream",
          "name": "stdout",
          "text": [
            "898/898 [==============================] - 4s 5ms/step - loss: 0.1967 - accuracy: 0.9442\n",
            "225/225 [==============================] - 1s 5ms/step - loss: 1.2492 - accuracy: 0.6335\n",
            "final train accuracy = 94.42 , validation accuracy = 63.35\n"
          ]
        }
      ]
    },
    {
      "cell_type": "markdown",
      "source": [
        "#Model8"
      ],
      "metadata": {
        "id": "02WwZDQdsLSY"
      }
    },
    {
      "cell_type": "code",
      "source": [
        "def get_model2():\n",
        "  model = Sequential()\n",
        "\n",
        "  model.add(Convolution2D(64, (3, 3), padding='same', input_shape=(48,48,1)))\n",
        "  model.add(BatchNormalization())\n",
        "  model.add(Activation('relu'))\n",
        "  model.add(MaxPooling2D(pool_size=(2, 2), strides=None, padding='same'))\n",
        "  model.add(Dropout(0.25))\n",
        "\n",
        "  model.add(Convolution2D(128, (5, 5), padding='same'))\n",
        "  model.add(BatchNormalization())\n",
        "  model.add(Activation('relu'))\n",
        "  model.add(MaxPooling2D(pool_size=(2, 2), strides=None, padding='same'))\n",
        "  model.add(Dropout(0.25))\n",
        "\n",
        "  model.add(Convolution2D(512, (3, 3), padding='same'))\n",
        "  model.add(BatchNormalization())\n",
        "  model.add(Activation('relu'))\n",
        "  model.add(MaxPooling2D(pool_size=(2, 2), strides=None, padding='same'))\n",
        "  model.add(Dropout(0.25))\n",
        "\n",
        "  model.add(Convolution2D(512, (3, 3), padding='same'))\n",
        "  model.add(BatchNormalization())\n",
        "  model.add(Activation('relu'))\n",
        "  model.add(MaxPooling2D(pool_size=(2, 2), strides=None, padding='same'))\n",
        "  model.add(Dropout(0.25))\n",
        "\n",
        "  model.add(Flatten())\n",
        "\n",
        "  model.add(Dense(256))\n",
        "  model.add(BatchNormalization())\n",
        "  model.add(Activation('relu'))\n",
        "  model.add(Dropout(0.25))\n",
        "\n",
        "  model.add(Dense(512))\n",
        "  model.add(BatchNormalization())\n",
        "  model.add(Activation('relu'))\n",
        "  model.add(Dropout(0.25))\n",
        "\n",
        "  model.add(Dense(7))\n",
        "  model.add(Activation('softmax'))\n",
        "\n",
        "  return model"
      ],
      "metadata": {
        "id": "CAKLfbmqsN_y"
      },
      "execution_count": null,
      "outputs": []
    },
    {
      "cell_type": "code",
      "source": [
        "model8 = get_model2()"
      ],
      "metadata": {
        "id": "urm1j8dvyhyn"
      },
      "execution_count": null,
      "outputs": []
    },
    {
      "cell_type": "code",
      "source": [
        "model8.compile(optimizer=Adam(learning_rate=0.001), loss='sparse_categorical_crossentropy', metrics=['accuracy'])"
      ],
      "metadata": {
        "id": "5TcSSIzp2Q87"
      },
      "execution_count": null,
      "outputs": []
    },
    {
      "cell_type": "code",
      "source": [
        "reduce_lr = ReduceLROnPlateau(monitor='val_loss', factor=0.1, patience=10, verbose=0, mode='auto', min_delta=0.0001, cooldown=0, min_lr=0)\n",
        "\n",
        "early_stopping = EarlyStopping(monitor='val_loss', min_delta=0, patience=10, verbose=1)\n",
        "\n",
        "history8 = model8.fit(x,y,epochs=100,callbacks=[early_stopping],validation_data=(xte,yte))"
      ],
      "metadata": {
        "colab": {
          "base_uri": "https://localhost:8080/"
        },
        "id": "jEwW7JnauwDT",
        "outputId": "01d6f36f-a183-4266-8ed2-4b5792b7410c"
      },
      "execution_count": null,
      "outputs": [
        {
          "output_type": "stream",
          "name": "stdout",
          "text": [
            "Epoch 1/100\n",
            "898/898 [==============================] - 17s 18ms/step - loss: 1.7138 - accuracy: 0.3418 - val_loss: 1.4421 - val_accuracy: 0.4469\n",
            "Epoch 2/100\n",
            "898/898 [==============================] - 16s 18ms/step - loss: 1.3679 - accuracy: 0.4781 - val_loss: 1.4386 - val_accuracy: 0.4490\n",
            "Epoch 3/100\n",
            "898/898 [==============================] - 16s 18ms/step - loss: 1.2460 - accuracy: 0.5268 - val_loss: 1.2996 - val_accuracy: 0.5038\n",
            "Epoch 4/100\n",
            "898/898 [==============================] - 16s 17ms/step - loss: 1.1662 - accuracy: 0.5582 - val_loss: 1.1646 - val_accuracy: 0.5531\n",
            "Epoch 5/100\n",
            "898/898 [==============================] - 16s 18ms/step - loss: 1.1154 - accuracy: 0.5779 - val_loss: 1.1481 - val_accuracy: 0.5588\n",
            "Epoch 6/100\n",
            "898/898 [==============================] - 16s 18ms/step - loss: 1.0725 - accuracy: 0.5954 - val_loss: 1.3089 - val_accuracy: 0.5099\n",
            "Epoch 7/100\n",
            "898/898 [==============================] - 17s 19ms/step - loss: 1.0162 - accuracy: 0.6183 - val_loss: 1.1310 - val_accuracy: 0.5711\n",
            "Epoch 8/100\n",
            "898/898 [==============================] - 16s 18ms/step - loss: 0.9673 - accuracy: 0.6374 - val_loss: 1.0242 - val_accuracy: 0.6186\n",
            "Epoch 9/100\n",
            "898/898 [==============================] - 16s 18ms/step - loss: 0.9108 - accuracy: 0.6598 - val_loss: 1.2757 - val_accuracy: 0.5468\n",
            "Epoch 10/100\n",
            "898/898 [==============================] - 16s 18ms/step - loss: 0.8686 - accuracy: 0.6742 - val_loss: 1.0839 - val_accuracy: 0.5997\n",
            "Epoch 11/100\n",
            "898/898 [==============================] - 16s 18ms/step - loss: 0.8049 - accuracy: 0.6984 - val_loss: 1.1543 - val_accuracy: 0.5751\n",
            "Epoch 12/100\n",
            "898/898 [==============================] - 16s 18ms/step - loss: 0.7541 - accuracy: 0.7180 - val_loss: 1.2503 - val_accuracy: 0.5837\n",
            "Epoch 13/100\n",
            "898/898 [==============================] - 16s 18ms/step - loss: 0.7053 - accuracy: 0.7384 - val_loss: 1.1836 - val_accuracy: 0.5915\n",
            "Epoch 14/100\n",
            "898/898 [==============================] - 16s 18ms/step - loss: 0.6563 - accuracy: 0.7576 - val_loss: 1.1379 - val_accuracy: 0.6241\n",
            "Epoch 15/100\n",
            "898/898 [==============================] - 16s 18ms/step - loss: 0.6045 - accuracy: 0.7779 - val_loss: 1.2019 - val_accuracy: 0.6094\n",
            "Epoch 16/100\n",
            "898/898 [==============================] - 16s 18ms/step - loss: 0.5593 - accuracy: 0.7948 - val_loss: 1.2160 - val_accuracy: 0.6184\n",
            "Epoch 17/100\n",
            "898/898 [==============================] - 16s 18ms/step - loss: 0.5208 - accuracy: 0.8073 - val_loss: 1.2975 - val_accuracy: 0.6080\n",
            "Epoch 18/100\n",
            "898/898 [==============================] - 16s 18ms/step - loss: 0.4781 - accuracy: 0.8224 - val_loss: 1.2300 - val_accuracy: 0.6204\n",
            "Epoch 18: early stopping\n"
          ]
        }
      ]
    },
    {
      "cell_type": "code",
      "source": [
        "train_loss, train_acc = model8.evaluate(x,y)\n",
        "test_loss, test_acc   = model8.evaluate(xte,yte)\n",
        "print(\"final train accuracy = {:.2f} , validation accuracy = {:.2f}\".format(train_acc*100, test_acc*100))"
      ],
      "metadata": {
        "colab": {
          "base_uri": "https://localhost:8080/"
        },
        "id": "5za8pmR41QDl",
        "outputId": "9e0a3c20-4d06-4e16-beea-c31350e9feec"
      },
      "execution_count": null,
      "outputs": [
        {
          "output_type": "stream",
          "name": "stdout",
          "text": [
            "898/898 [==============================] - 6s 6ms/step - loss: 0.2397 - accuracy: 0.9297\n",
            "225/225 [==============================] - 1s 6ms/step - loss: 1.2300 - accuracy: 0.6204\n",
            "final train accuracy = 92.97 , validation accuracy = 62.04\n"
          ]
        }
      ]
    },
    {
      "cell_type": "markdown",
      "source": [
        "#Model9"
      ],
      "metadata": {
        "id": "oZgji-8ssOdc"
      }
    },
    {
      "cell_type": "code",
      "source": [
        "def get_model3():\n",
        "  model = Sequential()\n",
        "\n",
        "  model.add(Convolution2D(64, (3, 3), padding='same', input_shape=(48,48,1)))\n",
        "  model.add(Convolution2D(64, (3, 3), padding='same'))\n",
        "  model.add(BatchNormalization())\n",
        "  model.add(Activation('relu'))\n",
        "  model.add(MaxPooling2D(pool_size=(2, 2), strides=None, padding='same'))\n",
        "  model.add(Dropout(0.4))\n",
        "\n",
        "  model.add(Convolution2D(128, (3, 3), padding='same'))\n",
        "  model.add(Convolution2D(128, (3, 3), padding='same'))\n",
        "  model.add(BatchNormalization())\n",
        "  model.add(Activation('relu'))\n",
        "  model.add(MaxPooling2D(pool_size=(2, 2), strides=None, padding='same'))\n",
        "  model.add(Dropout(0.4))\n",
        "\n",
        "  model.add(Convolution2D(256, (3, 3), padding='same'))\n",
        "  model.add(Convolution2D(265, (3, 3), padding='same'))\n",
        "  model.add(BatchNormalization())\n",
        "  model.add(Activation('relu'))\n",
        "  model.add(MaxPooling2D(pool_size=(2, 2), strides=None, padding='same'))\n",
        "  model.add(Dropout(0.4))\n",
        "\n",
        "  model.add(Convolution2D(512, (3, 3), padding='same'))\n",
        "  model.add(Convolution2D(512, (3, 3), padding='same'))\n",
        "  model.add(BatchNormalization())\n",
        "  model.add(Activation('relu'))\n",
        "  model.add(MaxPooling2D(pool_size=(2, 2), strides=None, padding='same'))\n",
        "  model.add(Dropout(0.4))\n",
        "\n",
        "  model.add(Flatten())\n",
        "\n",
        "  model.add(Dense(2048))\n",
        "  model.add(BatchNormalization())\n",
        "  model.add(Activation('relu'))\n",
        "  model.add(Dropout(0.4))\n",
        "\n",
        "  model.add(Dense(512))\n",
        "  model.add(BatchNormalization())\n",
        "  model.add(Activation('relu'))\n",
        "  model.add(Dropout(0.4))\n",
        "\n",
        "  model.add(Dense(7))\n",
        "  model.add(Activation('softmax'))\n",
        "\n",
        "  return model"
      ],
      "metadata": {
        "id": "-0cTguWosUuO"
      },
      "execution_count": null,
      "outputs": []
    },
    {
      "cell_type": "code",
      "source": [
        "model9 = get_model3()"
      ],
      "metadata": {
        "id": "DV1VPcJhu6Zr"
      },
      "execution_count": null,
      "outputs": []
    },
    {
      "cell_type": "code",
      "source": [
        "model9.compile(optimizer=Adam(learning_rate=0.001), loss='sparse_categorical_crossentropy', metrics=['accuracy'])"
      ],
      "metadata": {
        "id": "8RajcQwY2Ujr"
      },
      "execution_count": null,
      "outputs": []
    },
    {
      "cell_type": "code",
      "source": [
        "reduce_lr = ReduceLROnPlateau(monitor='val_loss', factor=0.1, patience=10, verbose=0, mode='auto', min_delta=0.0001, cooldown=0, min_lr=0)\n",
        "\n",
        "early_stopping = EarlyStopping(monitor='val_loss', min_delta=0, patience=10, verbose=1)\n",
        "\n",
        "history9 = model9.fit(x,y,epochs=100,callbacks=[early_stopping],validation_data=(xte,yte))"
      ],
      "metadata": {
        "colab": {
          "base_uri": "https://localhost:8080/"
        },
        "id": "c1BvHc-lz2u0",
        "outputId": "73d57f18-f14f-4fad-ce62-9ed3b35573de"
      },
      "execution_count": null,
      "outputs": [
        {
          "output_type": "stream",
          "name": "stdout",
          "text": [
            "Epoch 1/100\n",
            "898/898 [==============================] - 29s 30ms/step - loss: 1.9109 - accuracy: 0.2518 - val_loss: 1.9052 - val_accuracy: 0.2594\n",
            "Epoch 2/100\n",
            "898/898 [==============================] - 27s 30ms/step - loss: 1.5138 - accuracy: 0.4171 - val_loss: 1.4127 - val_accuracy: 0.4533\n",
            "Epoch 3/100\n",
            "898/898 [==============================] - 27s 30ms/step - loss: 1.3481 - accuracy: 0.4843 - val_loss: 1.2693 - val_accuracy: 0.5143\n",
            "Epoch 4/100\n",
            "898/898 [==============================] - 27s 30ms/step - loss: 1.2774 - accuracy: 0.5115 - val_loss: 1.3101 - val_accuracy: 0.4943\n",
            "Epoch 5/100\n",
            "898/898 [==============================] - 27s 30ms/step - loss: 1.2366 - accuracy: 0.5285 - val_loss: 1.3311 - val_accuracy: 0.4911\n",
            "Epoch 6/100\n",
            "898/898 [==============================] - 27s 31ms/step - loss: 1.2013 - accuracy: 0.5402 - val_loss: 1.1483 - val_accuracy: 0.5644\n",
            "Epoch 7/100\n",
            "898/898 [==============================] - 27s 30ms/step - loss: 1.1648 - accuracy: 0.5573 - val_loss: 1.1184 - val_accuracy: 0.5780\n",
            "Epoch 8/100\n",
            "898/898 [==============================] - 27s 30ms/step - loss: 1.1425 - accuracy: 0.5655 - val_loss: 1.1862 - val_accuracy: 0.5534\n",
            "Epoch 9/100\n",
            "898/898 [==============================] - 27s 30ms/step - loss: 1.1139 - accuracy: 0.5770 - val_loss: 1.1033 - val_accuracy: 0.5836\n",
            "Epoch 10/100\n",
            "898/898 [==============================] - 27s 30ms/step - loss: 1.0883 - accuracy: 0.5916 - val_loss: 1.1492 - val_accuracy: 0.5648\n",
            "Epoch 11/100\n",
            "898/898 [==============================] - 27s 30ms/step - loss: 1.0696 - accuracy: 0.5963 - val_loss: 1.2006 - val_accuracy: 0.5560\n",
            "Epoch 12/100\n",
            "898/898 [==============================] - 27s 30ms/step - loss: 1.0420 - accuracy: 0.6054 - val_loss: 1.0461 - val_accuracy: 0.6059\n",
            "Epoch 13/100\n",
            "898/898 [==============================] - 28s 31ms/step - loss: 1.0265 - accuracy: 0.6099 - val_loss: 1.0266 - val_accuracy: 0.6134\n",
            "Epoch 14/100\n",
            "898/898 [==============================] - 27s 30ms/step - loss: 1.0007 - accuracy: 0.6229 - val_loss: 1.0863 - val_accuracy: 0.6003\n",
            "Epoch 15/100\n",
            "898/898 [==============================] - 27s 30ms/step - loss: 0.9892 - accuracy: 0.6259 - val_loss: 1.0460 - val_accuracy: 0.6056\n",
            "Epoch 16/100\n",
            "898/898 [==============================] - 27s 30ms/step - loss: 0.9595 - accuracy: 0.6396 - val_loss: 1.0255 - val_accuracy: 0.6155\n",
            "Epoch 17/100\n",
            "898/898 [==============================] - 27s 30ms/step - loss: 0.9472 - accuracy: 0.6438 - val_loss: 1.0548 - val_accuracy: 0.6149\n",
            "Epoch 18/100\n",
            "898/898 [==============================] - 27s 30ms/step - loss: 0.9263 - accuracy: 0.6522 - val_loss: 1.0544 - val_accuracy: 0.6057\n",
            "Epoch 19/100\n",
            "898/898 [==============================] - 28s 31ms/step - loss: 0.9083 - accuracy: 0.6564 - val_loss: 0.9824 - val_accuracy: 0.6358\n",
            "Epoch 20/100\n",
            "898/898 [==============================] - 30s 33ms/step - loss: 0.8862 - accuracy: 0.6645 - val_loss: 0.9952 - val_accuracy: 0.6351\n",
            "Epoch 21/100\n",
            "898/898 [==============================] - 29s 32ms/step - loss: 0.8730 - accuracy: 0.6715 - val_loss: 0.9861 - val_accuracy: 0.6376\n",
            "Epoch 22/100\n",
            "898/898 [==============================] - 28s 32ms/step - loss: 0.8436 - accuracy: 0.6847 - val_loss: 0.9987 - val_accuracy: 0.6354\n",
            "Epoch 23/100\n",
            "898/898 [==============================] - 28s 32ms/step - loss: 0.8312 - accuracy: 0.6864 - val_loss: 1.0268 - val_accuracy: 0.6350\n",
            "Epoch 24/100\n",
            "898/898 [==============================] - 27s 30ms/step - loss: 0.8067 - accuracy: 0.6984 - val_loss: 1.0237 - val_accuracy: 0.6364\n",
            "Epoch 25/100\n",
            "898/898 [==============================] - 27s 30ms/step - loss: 0.7911 - accuracy: 0.7008 - val_loss: 1.0264 - val_accuracy: 0.6399\n",
            "Epoch 26/100\n",
            "898/898 [==============================] - 27s 30ms/step - loss: 0.7701 - accuracy: 0.7060 - val_loss: 1.0174 - val_accuracy: 0.6372\n",
            "Epoch 27/100\n",
            "898/898 [==============================] - 27s 30ms/step - loss: 0.7511 - accuracy: 0.7204 - val_loss: 0.9921 - val_accuracy: 0.6481\n",
            "Epoch 28/100\n",
            "898/898 [==============================] - 27s 30ms/step - loss: 0.7337 - accuracy: 0.7253 - val_loss: 1.0444 - val_accuracy: 0.6393\n",
            "Epoch 29/100\n",
            "898/898 [==============================] - 28s 31ms/step - loss: 0.7168 - accuracy: 0.7314 - val_loss: 1.0326 - val_accuracy: 0.6454\n",
            "Epoch 29: early stopping\n"
          ]
        }
      ]
    },
    {
      "cell_type": "code",
      "source": [
        "train_loss, train_acc = model9.evaluate(x,y)\n",
        "test_loss, test_acc   = model9.evaluate(xte,yte)\n",
        "print(\"final train accuracy = {:.2f} , validation accuracy = {:.2f}\".format(train_acc*100, test_acc*100))"
      ],
      "metadata": {
        "colab": {
          "base_uri": "https://localhost:8080/"
        },
        "id": "KurPS4uy1YI_",
        "outputId": "0854652f-ff2a-45a6-da86-4b3251d9b4cc"
      },
      "execution_count": null,
      "outputs": [
        {
          "output_type": "stream",
          "name": "stdout",
          "text": [
            "898/898 [==============================] - 10s 11ms/step - loss: 0.4736 - accuracy: 0.8333\n",
            "225/225 [==============================] - 2s 11ms/step - loss: 1.0326 - accuracy: 0.6454\n",
            "final train accuracy = 83.33 , validation accuracy = 64.54\n"
          ]
        }
      ]
    },
    {
      "cell_type": "markdown",
      "source": [
        "#Model10"
      ],
      "metadata": {
        "id": "sRXGpYUAsRi4"
      }
    },
    {
      "cell_type": "code",
      "source": [
        "def get_model4():\n",
        "  model = Sequential()\n",
        "\n",
        "  model.add(Convolution2D(64, (3, 3), padding='same', input_shape=(48,48,1)))\n",
        "  model.add(BatchNormalization())\n",
        "  model.add(Activation('relu'))\n",
        "  model.add(MaxPooling2D(pool_size=(2, 2), strides=None, padding='same'))\n",
        "  model.add(Dropout(0.25))\n",
        "\n",
        "  model.add(Convolution2D(128, (5, 5), padding='same'))\n",
        "  model.add(BatchNormalization())\n",
        "  model.add(Activation('relu'))\n",
        "  model.add(MaxPooling2D(pool_size=(2, 2), strides=None, padding='same'))\n",
        "  model.add(Dropout(0.25))\n",
        "\n",
        "  model.add(Flatten())\n",
        "\n",
        "  model.add(Dense(256))\n",
        "  model.add(BatchNormalization())\n",
        "  model.add(Activation('relu'))\n",
        "  model.add(Dropout(0.25))\n",
        "\n",
        "  model.add(Dense(7))\n",
        "  model.add(Activation('softmax'))\n",
        "\n",
        "  return model"
      ],
      "metadata": {
        "id": "eXirI-ywsUNr"
      },
      "execution_count": null,
      "outputs": []
    },
    {
      "cell_type": "code",
      "source": [
        "model10 = get_model4()"
      ],
      "metadata": {
        "id": "O5vrloxCvHNR"
      },
      "execution_count": null,
      "outputs": []
    },
    {
      "cell_type": "code",
      "source": [
        "model10.compile(optimizer=Adam(learning_rate=0.001), loss='sparse_categorical_crossentropy', metrics=['accuracy'])"
      ],
      "metadata": {
        "id": "6Q_SNdEm2X55"
      },
      "execution_count": null,
      "outputs": []
    },
    {
      "cell_type": "code",
      "source": [
        "reduce_lr = ReduceLROnPlateau(monitor='val_loss', factor=0.1, patience=10, verbose=0, mode='auto', min_delta=0.0001, cooldown=0, min_lr=0)\n",
        "\n",
        "early_stopping = EarlyStopping(monitor='val_loss', min_delta=0, patience=10, verbose=1)\n",
        "\n",
        "history10 = model10.fit(x,y,epochs=100,callbacks=[early_stopping],validation_data=(xte,yte))"
      ],
      "metadata": {
        "colab": {
          "base_uri": "https://localhost:8080/"
        },
        "id": "YdhGF-Ruz4Cp",
        "outputId": "32f2f7f8-b169-482b-fe98-50323b0bf744"
      },
      "execution_count": null,
      "outputs": [
        {
          "output_type": "stream",
          "name": "stdout",
          "text": [
            "Epoch 1/100\n",
            "898/898 [==============================] - 12s 12ms/step - loss: 1.5988 - accuracy: 0.3938 - val_loss: 1.4870 - val_accuracy: 0.4191\n",
            "Epoch 2/100\n",
            "898/898 [==============================] - 10s 11ms/step - loss: 1.3094 - accuracy: 0.5014 - val_loss: 1.4553 - val_accuracy: 0.4014\n",
            "Epoch 3/100\n",
            "898/898 [==============================] - 11s 12ms/step - loss: 1.1907 - accuracy: 0.5520 - val_loss: 1.2240 - val_accuracy: 0.5280\n",
            "Epoch 4/100\n",
            "898/898 [==============================] - 10s 11ms/step - loss: 1.0826 - accuracy: 0.5946 - val_loss: 1.4356 - val_accuracy: 0.4809\n",
            "Epoch 5/100\n",
            "898/898 [==============================] - 11s 12ms/step - loss: 0.9908 - accuracy: 0.6312 - val_loss: 1.4079 - val_accuracy: 0.4726\n",
            "Epoch 6/100\n",
            "898/898 [==============================] - 10s 11ms/step - loss: 0.8798 - accuracy: 0.6760 - val_loss: 1.2292 - val_accuracy: 0.5532\n",
            "Epoch 7/100\n",
            "898/898 [==============================] - 11s 12ms/step - loss: 0.7726 - accuracy: 0.7197 - val_loss: 1.2139 - val_accuracy: 0.5680\n",
            "Epoch 8/100\n",
            "898/898 [==============================] - 12s 13ms/step - loss: 0.6743 - accuracy: 0.7551 - val_loss: 1.2675 - val_accuracy: 0.5541\n",
            "Epoch 9/100\n",
            "898/898 [==============================] - 11s 12ms/step - loss: 0.5769 - accuracy: 0.7904 - val_loss: 1.4713 - val_accuracy: 0.4911\n",
            "Epoch 10/100\n",
            "898/898 [==============================] - 12s 13ms/step - loss: 0.5004 - accuracy: 0.8229 - val_loss: 1.3783 - val_accuracy: 0.5456\n",
            "Epoch 11/100\n",
            "898/898 [==============================] - 10s 11ms/step - loss: 0.4339 - accuracy: 0.8463 - val_loss: 1.5251 - val_accuracy: 0.5228\n",
            "Epoch 12/100\n",
            "898/898 [==============================] - 9s 10ms/step - loss: 0.3862 - accuracy: 0.8631 - val_loss: 1.4128 - val_accuracy: 0.5488\n",
            "Epoch 13/100\n",
            "898/898 [==============================] - 9s 10ms/step - loss: 0.3377 - accuracy: 0.8802 - val_loss: 1.4468 - val_accuracy: 0.5564\n",
            "Epoch 14/100\n",
            "898/898 [==============================] - 9s 10ms/step - loss: 0.3164 - accuracy: 0.8901 - val_loss: 1.5012 - val_accuracy: 0.5587\n",
            "Epoch 15/100\n",
            "898/898 [==============================] - 9s 10ms/step - loss: 0.2756 - accuracy: 0.9050 - val_loss: 1.5529 - val_accuracy: 0.5293\n",
            "Epoch 16/100\n",
            "898/898 [==============================] - 9s 10ms/step - loss: 0.2596 - accuracy: 0.9112 - val_loss: 1.4991 - val_accuracy: 0.5724\n",
            "Epoch 17/100\n",
            "898/898 [==============================] - 9s 10ms/step - loss: 0.2401 - accuracy: 0.9171 - val_loss: 1.4801 - val_accuracy: 0.5808\n",
            "Epoch 17: early stopping\n"
          ]
        }
      ]
    },
    {
      "cell_type": "code",
      "source": [
        "train_loss, train_acc = model10.evaluate(x,y)\n",
        "test_loss, test_acc   = model10.evaluate(xte,yte)\n",
        "print(\"final train accuracy = {:.2f} , validation accuracy = {:.2f}\".format(train_acc*100, test_acc*100))"
      ],
      "metadata": {
        "colab": {
          "base_uri": "https://localhost:8080/"
        },
        "id": "JdxtC8DF1rQf",
        "outputId": "e242baa5-9fac-4e8d-a264-4781eb16ed24"
      },
      "execution_count": null,
      "outputs": [
        {
          "output_type": "stream",
          "name": "stdout",
          "text": [
            "898/898 [==============================] - 4s 4ms/step - loss: 0.0821 - accuracy: 0.9864\n",
            "225/225 [==============================] - 1s 4ms/step - loss: 1.4801 - accuracy: 0.5808\n",
            "final train accuracy = 98.64 , validation accuracy = 58.08\n"
          ]
        }
      ]
    },
    {
      "cell_type": "code",
      "source": [
        ""
      ],
      "metadata": {
        "id": "4bRMEEk91f0f"
      },
      "execution_count": null,
      "outputs": []
    },
    {
      "cell_type": "markdown",
      "source": [
        "#Visualization"
      ],
      "metadata": {
        "id": "Y6ysqTq-rpO1"
      }
    },
    {
      "cell_type": "code",
      "source": [
        "plt.figure()\n",
        "plt.plot(history.history['accuracy'], color='b', label='Training')\n",
        "plt.plot(history.history['val_accuracy'], color='g', label='Validation')\n",
        "plt.title('Model  Accuracy')\n",
        "plt.ylabel('Accuracy')\n",
        "plt.xlabel('Epoch')\n",
        "plt.legend(loc='upper left')\n",
        "plt.show()\n",
        "\n",
        "plt.figure()\n",
        "plt.plot(history.history['loss'], color='b', label='Training')\n",
        "plt.plot(history.history['val_loss'], color='g', label='Validation')\n",
        "plt.title('Model  Loss')\n",
        "plt.ylabel('Loss')\n",
        "plt.xlabel('Epoch')\n",
        "plt.legend(loc='lower left')\n",
        "plt.show()\n"
      ],
      "metadata": {
        "colab": {
          "base_uri": "https://localhost:8080/",
          "height": 573
        },
        "id": "poo52M4RrsaO",
        "outputId": "a52ffd1c-fd2b-4b3b-dcdc-95b24380b1eb"
      },
      "execution_count": null,
      "outputs": [
        {
          "output_type": "display_data",
          "data": {
            "text/plain": [
              "<Figure size 432x288 with 1 Axes>"
            ],
            "image/png": "[encoded data removed]"
          },
          "metadata": {
            "needs_background": "light"
          }
        },
        {
          "output_type": "display_data",
          "data": {
            "text/plain": [
              "<Figure size 432x288 with 1 Axes>"
            ],
            "image/png": "[encoded data removed]"
          },
          "metadata": {
            "needs_background": "light"
          }
        }
      ]
    },
    {
      "cell_type": "code",
      "source": [
        "plt.figure()\n",
        "plt.plot(history1.history['accuracy'], color='b', label='Training')\n",
        "plt.plot(history1.history['val_accuracy'], color='g', label='Validation')\n",
        "plt.title('Model 1 Accuracy')\n",
        "plt.ylabel('Accuracy')\n",
        "plt.xlabel('Epoch')\n",
        "plt.legend(loc='upper left')\n",
        "plt.show()\n",
        "\n",
        "plt.figure()\n",
        "plt.plot(history1.history['loss'], color='b', label='Training')\n",
        "plt.plot(history1.history['val_loss'], color='g', label='Validation')\n",
        "plt.title('Model 1 Loss')\n",
        "plt.ylabel('Loss')\n",
        "plt.xlabel('Epoch')\n",
        "plt.legend(loc='lower left')\n",
        "plt.show()\n"
      ],
      "metadata": {
        "colab": {
          "base_uri": "https://localhost:8080/",
          "height": 573
        },
        "id": "N7yBMbvVr9LO",
        "outputId": "a326ac91-9b46-4815-bf7d-fe8f85185a5a"
      },
      "execution_count": null,
      "outputs": [
        {
          "output_type": "display_data",
          "data": {
            "text/plain": [
              "<Figure size 432x288 with 1 Axes>"
            ],
            "image/png": "[encoded data removed]"
          },
          "metadata": {
            "needs_background": "light"
          }
        },
        {
          "output_type": "display_data",
          "data": {
            "text/plain": [
              "<Figure size 432x288 with 1 Axes>"
            ],
            "image/png": "[encoded data removed]"
          },
          "metadata": {
            "needs_background": "light"
          }
        }
      ]
    },
    {
      "cell_type": "code",
      "source": [
        "plt.figure()\n",
        "plt.plot(history2.history['accuracy'], color='b', label='Training')\n",
        "plt.plot(history2.history['val_accuracy'], color='g', label='Validation')\n",
        "plt.title('Model 2 Accuracy')\n",
        "plt.ylabel('Accuracy')\n",
        "plt.xlabel('Epoch')\n",
        "plt.legend(loc='upper left')\n",
        "plt.show()\n",
        "\n",
        "plt.figure()\n",
        "plt.plot(history2.history['loss'], color='b', label='Training')\n",
        "plt.plot(history2.history['val_loss'], color='g', label='Validation')\n",
        "plt.title('Model 2 Loss')\n",
        "plt.ylabel('Loss')\n",
        "plt.xlabel('Epoch')\n",
        "plt.legend(loc='lower left')\n",
        "plt.show()\n"
      ],
      "metadata": {
        "colab": {
          "base_uri": "https://localhost:8080/",
          "height": 573
        },
        "id": "WsyQggXE68zE",
        "outputId": "40e0e50e-06c5-49d9-87c0-1214c74c46a3"
      },
      "execution_count": null,
      "outputs": [
        {
          "output_type": "display_data",
          "data": {
            "text/plain": [
              "<Figure size 432x288 with 1 Axes>"
            ],
            "image/png": "[encoded data removed]"
          },
          "metadata": {
            "needs_background": "light"
          }
        },
        {
          "output_type": "display_data",
          "data": {
            "text/plain": [
              "<Figure size 432x288 with 1 Axes>"
            ],
            "image/png": "[encoded data removed]"
          },
          "metadata": {
            "needs_background": "light"
          }
        }
      ]
    },
    {
      "cell_type": "code",
      "source": [
        "plt.figure()\n",
        "plt.plot(history3.history['accuracy'], color='b', label='Training')\n",
        "plt.plot(history3.history['val_accuracy'], color='g', label='Validation')\n",
        "plt.title('Model 3 Accuracy')\n",
        "plt.ylabel('Accuracy')\n",
        "plt.xlabel('Epoch')\n",
        "plt.legend(loc='upper left')\n",
        "plt.show()\n",
        "\n",
        "plt.figure()\n",
        "plt.plot(history3.history['loss'], color='b', label='Training')\n",
        "plt.plot(history3.history['val_loss'], color='g', label='Validation')\n",
        "plt.title('Model 3 Loss')\n",
        "plt.ylabel('Loss')\n",
        "plt.xlabel('Epoch')\n",
        "plt.legend(loc='lower left')\n",
        "plt.show()\n"
      ],
      "metadata": {
        "colab": {
          "base_uri": "https://localhost:8080/",
          "height": 573
        },
        "id": "RM5YDkz17DnF",
        "outputId": "94928d7c-e2b5-4025-acb7-92a0dec0241a"
      },
      "execution_count": null,
      "outputs": [
        {
          "output_type": "display_data",
          "data": {
            "text/plain": [
              "<Figure size 432x288 with 1 Axes>"
            ],
            "image/png": "[encoded data removed]"
          },
          "metadata": {
            "needs_background": "light"
          }
        },
        {
          "output_type": "display_data",
          "data": {
            "text/plain": [
              "<Figure size 432x288 with 1 Axes>"
            ],
            "image/png": "[encoded data removed]"
          },
          "metadata": {
            "needs_background": "light"
          }
        }
      ]
    },
    {
      "cell_type": "code",
      "source": [
        "plt.figure()\n",
        "plt.plot(history4.history['accuracy'], color='b', label='Training')\n",
        "plt.plot(history4.history['val_accuracy'], color='g', label='Validation')\n",
        "plt.title('Model 4 Accuracy')\n",
        "plt.ylabel('Accuracy')\n",
        "plt.xlabel('Epoch')\n",
        "plt.legend(loc='upper left')\n",
        "plt.show()\n",
        "\n",
        "plt.figure()\n",
        "plt.plot(history4.history['loss'], color='b', label='Training')\n",
        "plt.plot(history4.history['val_loss'], color='g', label='Validation')\n",
        "plt.title('Model 4 Loss')\n",
        "plt.ylabel('Loss')\n",
        "plt.xlabel('Epoch')\n",
        "plt.legend(loc='lower left')\n",
        "plt.show()\n"
      ],
      "metadata": {
        "colab": {
          "base_uri": "https://localhost:8080/",
          "height": 573
        },
        "id": "Zf1hjudB7Iu-",
        "outputId": "90675600-f416-41da-bf13-58ea06e6965c"
      },
      "execution_count": null,
      "outputs": [
        {
          "output_type": "display_data",
          "data": {
            "text/plain": [
              "<Figure size 432x288 with 1 Axes>"
            ],
            "image/png": "[encoded data removed]"
          },
          "metadata": {
            "needs_background": "light"
          }
        },
        {
          "output_type": "display_data",
          "data": {
            "text/plain": [
              "<Figure size 432x288 with 1 Axes>"
            ],
            "image/png": "[encoded data removed]"
          },
          "metadata": {
            "needs_background": "light"
          }
        }
      ]
    },
    {
      "cell_type": "code",
      "source": [
        "plt.figure()\n",
        "plt.plot(history5.history['accuracy'], color='b', label='Training')\n",
        "plt.plot(history5.history['val_accuracy'], color='g', label='Validation')\n",
        "plt.title('Model 5 Accuracy')\n",
        "plt.ylabel('Accuracy')\n",
        "plt.xlabel('Epoch')\n",
        "plt.legend(loc='upper left')\n",
        "plt.show()\n",
        "\n",
        "plt.figure()\n",
        "plt.plot(history5.history['loss'], color='b', label='Training')\n",
        "plt.plot(history5.history['val_loss'], color='g', label='Validation')\n",
        "plt.title('Model 5 Loss')\n",
        "plt.ylabel('Loss')\n",
        "plt.xlabel('Epoch')\n",
        "plt.legend(loc='lower left')\n",
        "plt.show()\n"
      ],
      "metadata": {
        "colab": {
          "base_uri": "https://localhost:8080/",
          "height": 573
        },
        "id": "-Jk4e1Ye7J33",
        "outputId": "440847d3-d50b-477a-dc92-c57f01d621ba"
      },
      "execution_count": null,
      "outputs": [
        {
          "output_type": "display_data",
          "data": {
            "text/plain": [
              "<Figure size 432x288 with 1 Axes>"
            ],
            "image/png": "[encoded data removed]"
          },
          "metadata": {
            "needs_background": "light"
          }
        },
        {
          "output_type": "display_data",
          "data": {
            "text/plain": [
              "<Figure size 432x288 with 1 Axes>"
            ],
            "image/png": "[encoded data removed]"
          },
          "metadata": {
            "needs_background": "light"
          }
        }
      ]
    },
    {
      "cell_type": "code",
      "source": [
        "plt.figure()\n",
        "plt.plot(history6.history['accuracy'], color='b', label='Training')\n",
        "plt.plot(history6.history['val_accuracy'], color='g', label='Validation')\n",
        "plt.title('Model 6 Accuracy')\n",
        "plt.ylabel('Accuracy')\n",
        "plt.xlabel('Epoch')\n",
        "plt.legend(loc='upper left')\n",
        "plt.show()\n",
        "\n",
        "plt.figure()\n",
        "plt.plot(history6.history['loss'], color='b', label='Training')\n",
        "plt.plot(history6.history['val_loss'], color='g', label='Validation')\n",
        "plt.title('Model 6 Loss')\n",
        "plt.ylabel('Loss')\n",
        "plt.xlabel('Epoch')\n",
        "plt.legend(loc='lower left')\n",
        "plt.show()\n"
      ],
      "metadata": {
        "colab": {
          "base_uri": "https://localhost:8080/",
          "height": 573
        },
        "id": "vyT_uUHb7z2h",
        "outputId": "531b98f2-9e9b-4c82-89e7-99c4725a7e5b"
      },
      "execution_count": null,
      "outputs": [
        {
          "output_type": "display_data",
          "data": {
            "text/plain": [
              "<Figure size 432x288 with 1 Axes>"
            ],
            "image/png": "[encoded data removed]"
          },
          "metadata": {
            "needs_background": "light"
          }
        },
        {
          "output_type": "display_data",
          "data": {
            "text/plain": [
              "<Figure size 432x288 with 1 Axes>"
            ],
            "image/png": "[encoded data removed]"
          },
          "metadata": {
            "needs_background": "light"
          }
        }
      ]
    },
    {
      "cell_type": "code",
      "source": [
        "plt.figure()\n",
        "plt.plot(history7.history['acc'], color='b', label='Training')\n",
        "plt.plot(history7.history['val_acc'], color='g', label='Validation')\n",
        "plt.title('Model 7 Accuracy')\n",
        "plt.ylabel('Accuracy')\n",
        "plt.xlabel('Epoch')\n",
        "plt.legend(loc='upper left')\n",
        "plt.show()\n",
        "\n",
        "plt.figure()\n",
        "plt.plot(history7.history['loss'], color='b', label='Training')\n",
        "plt.plot(history7.history['val_loss'], color='g', label='Validation')\n",
        "plt.title('Model 7 Loss')\n",
        "plt.ylabel('Loss')\n",
        "plt.xlabel('Epoch')\n",
        "plt.legend(loc='lower left')\n",
        "plt.show()\n"
      ],
      "metadata": {
        "id": "btFUgizN75JR"
      },
      "execution_count": null,
      "outputs": []
    },
    {
      "cell_type": "code",
      "source": [
        "plt.figure()\n",
        "plt.plot(history8.history['accuracy'], color='b', label='Training')\n",
        "plt.plot(history8.history['val_accuracy'], color='g', label='Validation')\n",
        "plt.title('Model 8 Accuracy')\n",
        "plt.ylabel('Accuracy')\n",
        "plt.xlabel('Epoch')\n",
        "plt.legend(loc='upper left')\n",
        "plt.show()\n",
        "\n",
        "plt.figure()\n",
        "plt.plot(history8.history['loss'], color='b', label='Training')\n",
        "plt.plot(history8.history['val_loss'], color='g', label='Validation')\n",
        "plt.title('Model 8 Loss')\n",
        "plt.ylabel('Loss')\n",
        "plt.xlabel('Epoch')\n",
        "plt.legend(loc='lower left')\n",
        "plt.show()\n"
      ],
      "metadata": {
        "colab": {
          "base_uri": "https://localhost:8080/",
          "height": 573
        },
        "id": "rq8Fz0cq8BGp",
        "outputId": "f01005f3-e33f-4a53-f564-7d399a47deab"
      },
      "execution_count": null,
      "outputs": [
        {
          "output_type": "display_data",
          "data": {
            "text/plain": [
              "<Figure size 432x288 with 1 Axes>"
            ],
            "image/png": "[encoded data removed]"
          },
          "metadata": {
            "needs_background": "light"
          }
        },
        {
          "output_type": "display_data",
          "data": {
            "text/plain": [
              "<Figure size 432x288 with 1 Axes>"
            ],
            "image/png": "[encoded data removed]"
          },
          "metadata": {
            "needs_background": "light"
          }
        }
      ]
    },
    {
      "cell_type": "code",
      "source": [
        "plt.figure()\n",
        "plt.plot(history9.history['accuracy'], color='b', label='Training')\n",
        "plt.plot(history9.history['val_accuracy'], color='g', label='Validation')\n",
        "plt.title('Model 9 Accuracy')\n",
        "plt.ylabel('Accuracy')\n",
        "plt.xlabel('Epoch')\n",
        "plt.legend(loc='upper left')\n",
        "plt.show()\n",
        "\n",
        "plt.figure()\n",
        "plt.plot(history9.history['loss'], color='b', label='Training')\n",
        "plt.plot(history9.history['val_loss'], color='g', label='Validation')\n",
        "plt.title('Model 9 Loss')\n",
        "plt.ylabel('Loss')\n",
        "plt.xlabel('Epoch')\n",
        "plt.legend(loc='lower left')\n",
        "plt.show()\n"
      ],
      "metadata": {
        "colab": {
          "base_uri": "https://localhost:8080/",
          "height": 573
        },
        "id": "w3U6fdHm8GqD",
        "outputId": "63d5af14-dd9a-4e8b-bdeb-df2b120e073e"
      },
      "execution_count": null,
      "outputs": [
        {
          "output_type": "display_data",
          "data": {
            "text/plain": [
              "<Figure size 432x288 with 1 Axes>"
            ],
            "image/png": "[encoded data removed]"
          },
          "metadata": {
            "needs_background": "light"
          }
        },
        {
          "output_type": "display_data",
          "data": {
            "text/plain": [
              "<Figure size 432x288 with 1 Axes>"
            ],
            "image/png": "[encoded data removed]"
          },
          "metadata": {
            "needs_background": "light"
          }
        }
      ]
    },
    {
      "cell_type": "code",
      "source": [
        "plt.figure()\n",
        "plt.plot(history10.history['accuracy'], color='b', label='Training')\n",
        "plt.plot(history10.history['val_accuracy'], color='g', label='Validation')\n",
        "plt.title('Model 10 Accuracy')\n",
        "plt.ylabel('Accuracy')\n",
        "plt.xlabel('Epoch')\n",
        "plt.legend(loc='upper left')\n",
        "plt.show()\n",
        "\n",
        "plt.figure()\n",
        "plt.plot(history10.history['loss'], color='b', label='Training')\n",
        "plt.plot(history10.history['val_loss'], color='g', label='Validation')\n",
        "plt.title('Model 10 Loss')\n",
        "plt.ylabel('Loss')\n",
        "plt.xlabel('Epoch')\n",
        "plt.legend(loc='lower left')\n",
        "plt.show()\n"
      ],
      "metadata": {
        "colab": {
          "base_uri": "https://localhost:8080/",
          "height": 573
        },
        "id": "GQJ5Rhlb8MKb",
        "outputId": "25dd708f-06e1-43e1-f814-2274fb31fda1"
      },
      "execution_count": null,
      "outputs": [
        {
          "output_type": "display_data",
          "data": {
            "text/plain": [
              "<Figure size 432x288 with 1 Axes>"
            ],
            "image/png": "[encoded data removed]"
          },
          "metadata": {
            "needs_background": "light"
          }
        },
        {
          "output_type": "display_data",
          "data": {
            "text/plain": [
              "<Figure size 432x288 with 1 Axes>"
            ],
            "image/png": "[encoded data removed]"
          },
          "metadata": {
            "needs_background": "light"
          }
        }
      ]
    },
    {
      "cell_type": "code",
      "source": [
        ""
      ],
      "metadata": {
        "id": "A3DjDl829SGo"
      },
      "execution_count": null,
      "outputs": []
    }
  ]
}